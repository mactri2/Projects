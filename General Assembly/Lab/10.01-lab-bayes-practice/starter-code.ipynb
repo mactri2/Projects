{
 "cells": [
  {
   "cell_type": "markdown",
   "metadata": {},
   "source": [
    "# Bayes' Rule Practice Lab\n",
    "\n",
    "_Author: Matt Brems_\n",
    "\n",
    "---\n",
    "\n",
    "This lab will have two parts:\n",
    "\n",
    "- Part 1: Bayes Practice Problems\n",
    "- Part 2: Moving from Probabilities to Distributions"
   ]
  },
  {
   "cell_type": "markdown",
   "metadata": {},
   "source": [
    "## Part 1: Bayes Practice Problems\n",
    "\n",
    "### Problem 1: IRAs\n",
    "\n",
    "You work at a financial services company that offers individual retirement accounts (IRAs). To target high potential customers, you want to find out if people with children are more likely to invest in IRAs.  \n",
    "\n",
    "So far you have found:\n",
    "- 30% of all Americans have IRAs.\n",
    "- half of Americans have children.\n",
    "- two-thirds of those with IRAs have children.\n",
    "\n",
    "Based on this information, what is the probability that someone with children has an IRA? "
   ]
  },
  {
   "cell_type": "markdown",
   "metadata": {},
   "source": [
    "**Answer:** "
   ]
  },
  {
   "cell_type": "markdown",
   "metadata": {},
   "source": [
    "$$ P(A \\mid B) = \\frac{P(B \\mid A) \\, P(A)}{P(B)} $$"
   ]
  },
  {
   "cell_type": "markdown",
   "metadata": {},
   "source": [
    "$$ P(A \\mid B) = \\frac{\\frac{2}{3} \\times 0.3 \\times \\, 0.5}{\\frac{2}{3} \\times 0.5 + \\frac{2}{3} \\times 0.5} $$"
   ]
  },
  {
   "cell_type": "markdown",
   "metadata": {},
   "source": [
    "$$ P(A \\mid B) = \\frac{0.1}{\\frac {2}{3}} $$"
   ]
  },
  {
   "cell_type": "markdown",
   "metadata": {},
   "source": [
    "$$ P(A \\mid B) = 0.15 $$\n",
    "There's a 15% chance of someone with children that has an IRA"
   ]
  },
  {
   "cell_type": "markdown",
   "metadata": {},
   "source": [
    "### Problem 2: Resident Satisfaction\n",
    "\n",
    "Suppose I own a hotel and an apartment building. Times are tight, and I need to sell one of them. Either would earn me the exact same amount of money, so that doesn't help me to make my decision. Instead, I will make my decision based on my residents' satisfaction. \n",
    "\n",
    "- Whichever building has a higher percentage of satisfied people is the one I will choose to keep.\n",
    "- _However_, if the percent of satisfied guests for my hotel and the percent of satified guests for my apartment building are within 10% of one another, I will sell neither until I can bring in some outside consultants to help me make my decision.\n",
    "- Last winter, I administered a survey to *all* residents and found that 60% of them are satisfied.\n",
    "- Among satisfied respondents, two out of every five came from the apartment building.\n",
    "- One-third of my residents live in my apartment building.\n",
    "\n",
    "What action will I take?"
   ]
  },
  {
   "cell_type": "markdown",
   "metadata": {},
   "source": [
    "**Answer:** "
   ]
  },
  {
   "cell_type": "markdown",
   "metadata": {},
   "source": [
    "$$ P(A \\mid B) = \\frac{P(B \\mid A) \\, P(A)}{P(B)} $$"
   ]
  },
  {
   "cell_type": "markdown",
   "metadata": {},
   "source": [
    "$$ P(A \\mid B) = \\frac{ 0.6 \\times \\frac{3}{5}}{0.6 \\times \\frac{3}{5} + 0.6 \\times \\frac{2}{5}} $$\n",
    "\n"
   ]
  },
  {
   "cell_type": "markdown",
   "metadata": {},
   "source": [
    "$$ P(A \\mid B) = 0.6 $$"
   ]
  },
  {
   "cell_type": "markdown",
   "metadata": {},
   "source": [
    "60% of satisfied residents are in apartments so the hotel should be sold."
   ]
  },
  {
   "cell_type": "markdown",
   "metadata": {},
   "source": [
    "### Problem 3: Coin Game\n",
    "\n",
    "Suppose you and your friend are playing a game. Your friend has laid four coins out in front of you. If you flip heads, you win a dollar from your friend. If you flip tails, you owe a dollar to your friend. However, the coins in front of you are not fair.\n",
    "- One coin has a 80% chance of flipping heads. (Call this coin A.)\n",
    "- One coin has a 60% chance of flipping heads. (Call this coin B.)\n",
    "- One coin has a 40% chance of flipping heads. (Call this coin C.)\n",
    "- One coin has a 10% chance of flipping heads. (Call this coin D.)\n",
    "\n",
    "#### Problem 3 (a): Suppose you select one coin at random. That is, you don't know whether you selected coin A, B, C, or D. You flip heads. Given this data, what are the probabilities that you selected coin A, coin B, coin C, and coin D?\n",
    "\n",
    "> Hint: When finding the marginal probability of flipping heads, you will need to use the Law of Total Probability! Find this **first**."
   ]
  },
  {
   "cell_type": "markdown",
   "metadata": {},
   "source": [
    "**Answer**: $$ P(A \\mid B) = \\frac{P(B \\mid A) \\, P(A)}{P(B)} $$"
   ]
  },
  {
   "cell_type": "markdown",
   "metadata": {},
   "source": [
    "$$ P(A \\mid H) = \\frac{0.8*0.25}{0.8 *0.25+0.6*0.25+0.4*0.25+0.1*0.25} $$"
   ]
  },
  {
   "cell_type": "markdown",
   "metadata": {},
   "source": [
    "$$ P(A \\mid H) = \\frac{0.2}{0.2+0.15+0.1+0.025} $$\n",
    "\\\n",
    "$$ P(A \\mid H) = 0.42 $$"
   ]
  },
  {
   "cell_type": "markdown",
   "metadata": {},
   "source": [
    "$$ P(A2 \\mid H) = \\frac{0.15}{0.475} $$\n",
    "\\\n",
    "$$ P(A2 \\mid H) = 0.32 $$"
   ]
  },
  {
   "cell_type": "markdown",
   "metadata": {},
   "source": [
    "$$ P(A3 \\mid H) = \\frac{0.1}{0.475} $$\n",
    "\\\n",
    "$$ P(A3 \\mid H) = 0.21 $$"
   ]
  },
  {
   "cell_type": "markdown",
   "metadata": {},
   "source": [
    "$$ P(A4 \\mid H) = \\frac{0.025}{0.475} $$\n",
    "\\\n",
    "$$ P(A4 \\mid H) = 0.05 $$"
   ]
  },
  {
   "cell_type": "markdown",
   "metadata": {},
   "source": [
    "There is a 42%, 32%, 21%, and 5% chance of choosing coins A, B, C, and D respectively on the condition of heads landing."
   ]
  },
  {
   "cell_type": "markdown",
   "metadata": {},
   "source": [
    "#### BONUS: Problem 3 (b): Suppose you are using the same coin as before. That is, you _still_ don't know whether you selected coin A, B, C, or D - although you have a better idea now that you flipped heads on your first flip! On this second flip, you flip tails. Given this data, what are the probabilities that you selected coin A, coin B, coin C, and coin D?\n",
    "\n",
    "> Hint: Everything now is **conditional on the fact that we have already flipped a heads**.\n",
    "\n",
    "$$\n",
    "\\begin{eqnarray*}\n",
    "P(A|B\\cap C) &=& \\frac{P(A\\cap B \\cap C)}{P(B\\cap C)} \\\\\n",
    "\\\\\n",
    "&=& \\frac{P(A\\cap B|C)P(C)}{P(B|C)P(C)} \\\\\n",
    "\\\\\n",
    "&=& \\frac{P(A\\cap B|C)}{P(B|C)} \\\\\n",
    "\\end{eqnarray*}\n",
    "$$"
   ]
  },
  {
   "cell_type": "markdown",
   "metadata": {},
   "source": [
    "**Answer**:"
   ]
  },
  {
   "cell_type": "markdown",
   "metadata": {},
   "source": [
    "#### BONUS: Problem 3(c): Suppose you are using the same coin as before. That is, you _still_ don't know whether you selected coin A, B, C, or D - although you have a better idea now that you flipped heads, then tails on your first two flips! On this third flip, you flip tails. Given this data, what are the probabilities that you selected coin A, coin B, coin C, and coin D?\n",
    "\n",
    "> Hint: This will follow the same structure as the last two problems."
   ]
  },
  {
   "cell_type": "markdown",
   "metadata": {},
   "source": [
    "**Answer**:"
   ]
  },
  {
   "cell_type": "markdown",
   "metadata": {},
   "source": [
    "---\n",
    "\n",
    "## Part 2: Moving from Probabilities to Distributions\n",
    "\n",
    "### Problem 4: Prior Probabilities\n",
    "\n",
    "#### Problem 4 (a): In Problem 3, before you had flipped any coin, what was the probability that you had selected coin A? Coin B? Coin C? Coin D?"
   ]
  },
  {
   "cell_type": "markdown",
   "metadata": {},
   "source": [
    "**Answer:** Before flipping any coins, there is a 25% chance of selecting coin A, B, C, or D."
   ]
  },
  {
   "cell_type": "markdown",
   "metadata": {},
   "source": [
    "#### Problem 4 (b): What is the definition of a distribution?\n",
    "> Check your notes from the early weeks of the course if you can't remember."
   ]
  },
  {
   "cell_type": "markdown",
   "metadata": {},
   "source": [
    "**Answer:**\n",
    "A listing showing all the possible values of the data and how often they occur."
   ]
  },
  {
   "cell_type": "markdown",
   "metadata": {},
   "source": [
    "#### Problem 4 (c): What \"named distribution\" (i.e. a distribution that has a common name) could we apply to a situation where selecting coins A-D is equally likely?"
   ]
  },
  {
   "cell_type": "markdown",
   "metadata": {},
   "source": [
    "**Answer:** A uniform distribution is used to assign equal probability to all outcomes."
   ]
  },
  {
   "cell_type": "markdown",
   "metadata": {},
   "source": [
    "#### Problem 4 (d): Suppose that I have only one coin and I want to conduct inference on the probability of flipping heads, $p$. Note that $p$ is unknown. If I want to specify some prior distribution where all probabilities $p$ are equally likely, should I use a discrete or continuous distribution? Why?"
   ]
  },
  {
   "cell_type": "markdown",
   "metadata": {},
   "source": [
    "**Answer:** A discrete distribution should be used because the outcomes are countable  while continuous distribution is not."
   ]
  },
  {
   "cell_type": "markdown",
   "metadata": {},
   "source": [
    "#### Problem 4 (e): Suppose that I have only one coin and I want to conduct inference on the probability of flipping heads, $p$. Note that $p$ is unknown. If I want to specify some prior distribution where all probabilities $p$ are equally likely, then what named distribution might I use?"
   ]
  },
  {
   "cell_type": "markdown",
   "metadata": {},
   "source": [
    "**Answer:** Bionomial distribution because there are two outcomes to coin flipping."
   ]
  },
  {
   "cell_type": "markdown",
   "metadata": {},
   "source": [
    "#### Problem 4 (f): Suppose I have only one coin with some unknown probability of flipping heads $p$. If I think 50% is the likeliest value for $p$ and, as we get farther away from 50%, that value is less and less likely, what named distribution could I use?"
   ]
  },
  {
   "cell_type": "markdown",
   "metadata": {},
   "source": [
    "**Answer:** Beta distribution since the range is from 0 to 1 or percentages."
   ]
  },
  {
   "cell_type": "markdown",
   "metadata": {},
   "source": [
    "#### Problem 4 (g): When we listed out our prior probabilities for each coin, we got the same number of posterior probabilities. For example, when we had four prior probabilities (one for Coin A, one for Coin B, one for Coin C, and one for Coin D), then we had four posterior probabilities (one for Coin A, for Coin B, one for Coin C, and one for Coin D). However, if we have one prior distribution, then we will get one posterior distribution. What are some advantages to being able to summarize our posterior with one distribution instead of a big list of probabilities?"
   ]
  },
  {
   "cell_type": "markdown",
   "metadata": {},
   "source": [
    "**Answer:** Some advages to summarizing a posterior with one distribution instead of a big list of probabilities are having a low sample size, more intuitive answers, and being more subjective."
   ]
  }
 ],
 "metadata": {
  "kernelspec": {
   "display_name": "Python 3",
   "language": "python",
   "name": "python3"
  },
  "language_info": {
   "codemirror_mode": {
    "name": "ipython",
    "version": 3
   },
   "file_extension": ".py",
   "mimetype": "text/x-python",
   "name": "python",
   "nbconvert_exporter": "python",
   "pygments_lexer": "ipython3",
   "version": "3.7.4"
  }
 },
 "nbformat": 4,
 "nbformat_minor": 2
}
