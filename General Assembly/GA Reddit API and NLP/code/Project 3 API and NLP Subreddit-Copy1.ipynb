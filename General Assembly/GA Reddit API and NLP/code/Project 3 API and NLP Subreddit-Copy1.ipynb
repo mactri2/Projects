{
 "cells": [
  {
   "cell_type": "markdown",
   "metadata": {},
   "source": [
    "# Project 3 API and NLP with Relationship and Dating Subreddits"
   ]
  },
  {
   "cell_type": "markdown",
   "metadata": {},
   "source": [
    "## Imports"
   ]
  },
  {
   "cell_type": "code",
   "execution_count": 1,
   "metadata": {},
   "outputs": [
    {
     "name": "stderr",
     "output_type": "stream",
     "text": [
      "[nltk_data] Downloading package stopwords to\n",
      "[nltk_data]     /Users/tringuyen/nltk_data...\n",
      "[nltk_data]   Package stopwords is already up-to-date!\n"
     ]
    }
   ],
   "source": [
    "import requests\n",
    "import pandas as pd\n",
    "import numpy as np\n",
    "import seaborn as sns\n",
    "import matplotlib as mpl\n",
    "import matplotlib.pyplot as plt\n",
    "\n",
    "from bs4 import BeautifulSoup\n",
    "\n",
    "import time\n",
    "\n",
    "import regex as re\n",
    "\n",
    "from nltk.stem import WordNetLemmatizer\n",
    "from nltk.tokenize import RegexpTokenizer\n",
    "import nltk\n",
    "nltk.download('stopwords')\n",
    "from nltk.corpus import stopwords\n",
    "\n",
    "from sklearn.model_selection import train_test_split, cross_val_score, GridSearchCV\n",
    "from sklearn.pipeline import Pipeline\n",
    "from sklearn.linear_model import LogisticRegression\n",
    "from sklearn.feature_extraction.text import CountVectorizer, TfidfVectorizer\n",
    "from sklearn.feature_extraction import stop_words\n",
    "\n",
    "from sklearn import preprocessing\n",
    "\n",
    "from sklearn.feature_selection import RFE\n",
    "from sklearn.feature_selection import SelectKBest\n",
    "from sklearn.feature_selection import chi2\n",
    "\n",
    "from sklearn.ensemble import ExtraTreesClassifier\n",
    "\n",
    "from sklearn.metrics import confusion_matrix\n",
    "\n",
    "#from sklearn.naive_bayes import CategoricalNB\n",
    "from sklearn.naive_bayes import GaussianNB\n",
    "from sklearn.naive_bayes import MultinomialNB\n",
    "\n",
    "%matplotlib inline"
   ]
  },
  {
   "cell_type": "code",
   "execution_count": 2,
   "metadata": {},
   "outputs": [],
   "source": [
    "url = 'https://api.pushshift.io/reddit/search/submission'"
   ]
  },
  {
   "cell_type": "markdown",
   "metadata": {},
   "source": [
    "## Relationship Advice Subreddit Gathering"
   ]
  },
  {
   "cell_type": "code",
   "execution_count": 3,
   "metadata": {},
   "outputs": [
    {
     "data": {
      "text/plain": [
       "200"
      ]
     },
     "execution_count": 3,
     "metadata": {},
     "output_type": "execute_result"
    }
   ],
   "source": [
    "params = {\n",
    "    'subreddit': 'relationship_advice',\n",
    "    'size':1000,\n",
    "}\n",
    "res = requests.get(url, params)\n",
    "res.status_code"
   ]
  },
  {
   "cell_type": "code",
   "execution_count": 4,
   "metadata": {},
   "outputs": [
    {
     "data": {
      "text/plain": [
       "1000"
      ]
     },
     "execution_count": 4,
     "metadata": {},
     "output_type": "execute_result"
    }
   ],
   "source": [
    "data = res.json()\n",
    "posts = data['data']\n",
    "len(posts)"
   ]
  },
  {
   "cell_type": "code",
   "execution_count": 5,
   "metadata": {},
   "outputs": [
    {
     "data": {
      "text/html": [
       "<div>\n",
       "<style scoped>\n",
       "    .dataframe tbody tr th:only-of-type {\n",
       "        vertical-align: middle;\n",
       "    }\n",
       "\n",
       "    .dataframe tbody tr th {\n",
       "        vertical-align: top;\n",
       "    }\n",
       "\n",
       "    .dataframe thead th {\n",
       "        text-align: right;\n",
       "    }\n",
       "</style>\n",
       "<table border=\"1\" class=\"dataframe\">\n",
       "  <thead>\n",
       "    <tr style=\"text-align: right;\">\n",
       "      <th></th>\n",
       "      <th>subreddit</th>\n",
       "      <th>title</th>\n",
       "      <th>selftext</th>\n",
       "    </tr>\n",
       "  </thead>\n",
       "  <tbody>\n",
       "    <tr>\n",
       "      <th>0</th>\n",
       "      <td>relationship_advice</td>\n",
       "      <td>Am I paranoid about my relationship?</td>\n",
       "      <td>So me and my other half have been together 2/3...</td>\n",
       "    </tr>\n",
       "    <tr>\n",
       "      <th>1</th>\n",
       "      <td>relationship_advice</td>\n",
       "      <td>Unsure of how to reveal unusual fetishized to ...</td>\n",
       "      <td>Okay, so this may make me seem like a creeper,...</td>\n",
       "    </tr>\n",
       "    <tr>\n",
       "      <th>2</th>\n",
       "      <td>relationship_advice</td>\n",
       "      <td>I (17F) am super embarrassed by a conversation...</td>\n",
       "      <td>My friend and I both go to the same high schoo...</td>\n",
       "    </tr>\n",
       "    <tr>\n",
       "      <th>3</th>\n",
       "      <td>relationship_advice</td>\n",
       "      <td>How do you feel about your SO watching porn?</td>\n",
       "      <td>I typically don’t have an issue with it in gen...</td>\n",
       "    </tr>\n",
       "    <tr>\n",
       "      <th>4</th>\n",
       "      <td>relationship_advice</td>\n",
       "      <td>My (25 M) gf (24 F) uses too much toilet paper...</td>\n",
       "      <td>Obligatory, I am posting this on a new account...</td>\n",
       "    </tr>\n",
       "    <tr>\n",
       "      <th>...</th>\n",
       "      <td>...</td>\n",
       "      <td>...</td>\n",
       "      <td>...</td>\n",
       "    </tr>\n",
       "    <tr>\n",
       "      <th>995</th>\n",
       "      <td>relationship_advice</td>\n",
       "      <td>(TW) Am I the bad guy for wanting to leave my ...</td>\n",
       "      <td>[deleted]</td>\n",
       "    </tr>\n",
       "    <tr>\n",
       "      <th>996</th>\n",
       "      <td>relationship_advice</td>\n",
       "      <td>IM IN A PICKLE WITH MY EX, WHAT DO I DO?</td>\n",
       "      <td>There was a college blacklight party last week...</td>\n",
       "    </tr>\n",
       "    <tr>\n",
       "      <th>997</th>\n",
       "      <td>relationship_advice</td>\n",
       "      <td>Husband constantly talks about how attractive ...</td>\n",
       "      <td>My (25F) and my husband (25M) have been togeth...</td>\n",
       "    </tr>\n",
       "    <tr>\n",
       "      <th>998</th>\n",
       "      <td>relationship_advice</td>\n",
       "      <td>Positive marriage stories after a rough patch?</td>\n",
       "      <td>Can someone please give me a positive story if...</td>\n",
       "    </tr>\n",
       "    <tr>\n",
       "      <th>999</th>\n",
       "      <td>relationship_advice</td>\n",
       "      <td>Help!! My husband went too far in an argument ...</td>\n",
       "      <td>My husband 33m is a notorious stonewaller. We ...</td>\n",
       "    </tr>\n",
       "  </tbody>\n",
       "</table>\n",
       "<p>1000 rows × 3 columns</p>\n",
       "</div>"
      ],
      "text/plain": [
       "               subreddit                                              title  \\\n",
       "0    relationship_advice               Am I paranoid about my relationship?   \n",
       "1    relationship_advice  Unsure of how to reveal unusual fetishized to ...   \n",
       "2    relationship_advice  I (17F) am super embarrassed by a conversation...   \n",
       "3    relationship_advice       How do you feel about your SO watching porn?   \n",
       "4    relationship_advice  My (25 M) gf (24 F) uses too much toilet paper...   \n",
       "..                   ...                                                ...   \n",
       "995  relationship_advice  (TW) Am I the bad guy for wanting to leave my ...   \n",
       "996  relationship_advice           IM IN A PICKLE WITH MY EX, WHAT DO I DO?   \n",
       "997  relationship_advice  Husband constantly talks about how attractive ...   \n",
       "998  relationship_advice     Positive marriage stories after a rough patch?   \n",
       "999  relationship_advice  Help!! My husband went too far in an argument ...   \n",
       "\n",
       "                                              selftext  \n",
       "0    So me and my other half have been together 2/3...  \n",
       "1    Okay, so this may make me seem like a creeper,...  \n",
       "2    My friend and I both go to the same high schoo...  \n",
       "3    I typically don’t have an issue with it in gen...  \n",
       "4    Obligatory, I am posting this on a new account...  \n",
       "..                                                 ...  \n",
       "995                                          [deleted]  \n",
       "996  There was a college blacklight party last week...  \n",
       "997  My (25F) and my husband (25M) have been togeth...  \n",
       "998  Can someone please give me a positive story if...  \n",
       "999  My husband 33m is a notorious stonewaller. We ...  \n",
       "\n",
       "[1000 rows x 3 columns]"
      ]
     },
     "execution_count": 5,
     "metadata": {},
     "output_type": "execute_result"
    }
   ],
   "source": [
    "df_rel = pd.DataFrame(posts)\n",
    "df_rel=df_rel[['subreddit','title','selftext']]\n",
    "df_rel"
   ]
  },
  {
   "cell_type": "code",
   "execution_count": 6,
   "metadata": {},
   "outputs": [],
   "source": [
    "df_rel.to_csv('../datasets/rel.csv',index=False)"
   ]
  },
  {
   "cell_type": "markdown",
   "metadata": {},
   "source": [
    "## Dating Advice Subreddit Gathering"
   ]
  },
  {
   "cell_type": "code",
   "execution_count": 7,
   "metadata": {},
   "outputs": [
    {
     "data": {
      "text/plain": [
       "200"
      ]
     },
     "execution_count": 7,
     "metadata": {},
     "output_type": "execute_result"
    }
   ],
   "source": [
    "params_2 = {\n",
    "    'subreddit': 'dating_advice',\n",
    "    'size':1000,\n",
    "}\n",
    "res_2 = res = requests.get(url, params_2)\n",
    "res_2.status_code"
   ]
  },
  {
   "cell_type": "code",
   "execution_count": 8,
   "metadata": {},
   "outputs": [
    {
     "data": {
      "text/plain": [
       "1000"
      ]
     },
     "execution_count": 8,
     "metadata": {},
     "output_type": "execute_result"
    }
   ],
   "source": [
    "data_2 = res_2.json()\n",
    "posts_2 = data_2['data']\n",
    "len(posts_2)"
   ]
  },
  {
   "cell_type": "code",
   "execution_count": 9,
   "metadata": {},
   "outputs": [
    {
     "data": {
      "text/html": [
       "<div>\n",
       "<style scoped>\n",
       "    .dataframe tbody tr th:only-of-type {\n",
       "        vertical-align: middle;\n",
       "    }\n",
       "\n",
       "    .dataframe tbody tr th {\n",
       "        vertical-align: top;\n",
       "    }\n",
       "\n",
       "    .dataframe thead th {\n",
       "        text-align: right;\n",
       "    }\n",
       "</style>\n",
       "<table border=\"1\" class=\"dataframe\">\n",
       "  <thead>\n",
       "    <tr style=\"text-align: right;\">\n",
       "      <th></th>\n",
       "      <th>subreddit</th>\n",
       "      <th>title</th>\n",
       "      <th>selftext</th>\n",
       "    </tr>\n",
       "  </thead>\n",
       "  <tbody>\n",
       "    <tr>\n",
       "      <th>0</th>\n",
       "      <td>dating_advice</td>\n",
       "      <td>Everything ends in being ghosted.</td>\n",
       "      <td>[20M from NJ] Everything from dates to texts t...</td>\n",
       "    </tr>\n",
       "    <tr>\n",
       "      <th>1</th>\n",
       "      <td>dating_advice</td>\n",
       "      <td>xpost from relationship advice...GF posting sc...</td>\n",
       "      <td>\\n\\nThanks in advance!\\n\\nThe situation is a ...</td>\n",
       "    </tr>\n",
       "    <tr>\n",
       "      <th>2</th>\n",
       "      <td>dating_advice</td>\n",
       "      <td>Should I keep trying but take things slower or...</td>\n",
       "      <td>Met this girl. We went out 6-7 times over the ...</td>\n",
       "    </tr>\n",
       "    <tr>\n",
       "      <th>3</th>\n",
       "      <td>dating_advice</td>\n",
       "      <td>How do I get a date for Valentine's/prom in la...</td>\n",
       "      <td>I'm 17m and have been pretty lonely since my e...</td>\n",
       "    </tr>\n",
       "    <tr>\n",
       "      <th>4</th>\n",
       "      <td>dating_advice</td>\n",
       "      <td>Rejected the worst way possible</td>\n",
       "      <td>I (M23)was dating a female (F21)or 3 years whe...</td>\n",
       "    </tr>\n",
       "    <tr>\n",
       "      <th>...</th>\n",
       "      <td>...</td>\n",
       "      <td>...</td>\n",
       "      <td>...</td>\n",
       "    </tr>\n",
       "    <tr>\n",
       "      <th>995</th>\n",
       "      <td>dating_advice</td>\n",
       "      <td>Very confused</td>\n",
       "      <td>So im in a situation that is very confusing ri...</td>\n",
       "    </tr>\n",
       "    <tr>\n",
       "      <th>996</th>\n",
       "      <td>dating_advice</td>\n",
       "      <td>Date chatting on her phone during movie</td>\n",
       "      <td>oof?</td>\n",
       "    </tr>\n",
       "    <tr>\n",
       "      <th>997</th>\n",
       "      <td>dating_advice</td>\n",
       "      <td>Should I try to change my date plans?</td>\n",
       "      <td>So I met a girl about a week ago in college an...</td>\n",
       "    </tr>\n",
       "    <tr>\n",
       "      <th>998</th>\n",
       "      <td>dating_advice</td>\n",
       "      <td>I am too scared to have sex because it will hu...</td>\n",
       "      <td>I'm almost 25 and a virgin. I have had guys as...</td>\n",
       "    </tr>\n",
       "    <tr>\n",
       "      <th>999</th>\n",
       "      <td>dating_advice</td>\n",
       "      <td>For those sorting by new, asking a girl out tm...</td>\n",
       "      <td>\\n1. Pretty sure you know this already but I l...</td>\n",
       "    </tr>\n",
       "  </tbody>\n",
       "</table>\n",
       "<p>1000 rows × 3 columns</p>\n",
       "</div>"
      ],
      "text/plain": [
       "         subreddit                                              title  \\\n",
       "0    dating_advice                  Everything ends in being ghosted.   \n",
       "1    dating_advice  xpost from relationship advice...GF posting sc...   \n",
       "2    dating_advice  Should I keep trying but take things slower or...   \n",
       "3    dating_advice  How do I get a date for Valentine's/prom in la...   \n",
       "4    dating_advice                    Rejected the worst way possible   \n",
       "..             ...                                                ...   \n",
       "995  dating_advice                                      Very confused   \n",
       "996  dating_advice            Date chatting on her phone during movie   \n",
       "997  dating_advice              Should I try to change my date plans?   \n",
       "998  dating_advice  I am too scared to have sex because it will hu...   \n",
       "999  dating_advice  For those sorting by new, asking a girl out tm...   \n",
       "\n",
       "                                              selftext  \n",
       "0    [20M from NJ] Everything from dates to texts t...  \n",
       "1     \\n\\nThanks in advance!\\n\\nThe situation is a ...  \n",
       "2    Met this girl. We went out 6-7 times over the ...  \n",
       "3    I'm 17m and have been pretty lonely since my e...  \n",
       "4    I (M23)was dating a female (F21)or 3 years whe...  \n",
       "..                                                 ...  \n",
       "995  So im in a situation that is very confusing ri...  \n",
       "996                                               oof?  \n",
       "997  So I met a girl about a week ago in college an...  \n",
       "998  I'm almost 25 and a virgin. I have had guys as...  \n",
       "999  \\n1. Pretty sure you know this already but I l...  \n",
       "\n",
       "[1000 rows x 3 columns]"
      ]
     },
     "execution_count": 9,
     "metadata": {},
     "output_type": "execute_result"
    }
   ],
   "source": [
    "df_dat = pd.DataFrame(posts_2)\n",
    "df_dat = df_dat[['subreddit','title','selftext',]]\n",
    "df_dat"
   ]
  },
  {
   "cell_type": "code",
   "execution_count": 10,
   "metadata": {},
   "outputs": [],
   "source": [
    "df_dat.to_csv('../datasets/dat.csv',index=False)"
   ]
  },
  {
   "cell_type": "markdown",
   "metadata": {},
   "source": [
    "## Combine Dataframes"
   ]
  },
  {
   "cell_type": "code",
   "execution_count": 11,
   "metadata": {},
   "outputs": [
    {
     "data": {
      "text/html": [
       "<div>\n",
       "<style scoped>\n",
       "    .dataframe tbody tr th:only-of-type {\n",
       "        vertical-align: middle;\n",
       "    }\n",
       "\n",
       "    .dataframe tbody tr th {\n",
       "        vertical-align: top;\n",
       "    }\n",
       "\n",
       "    .dataframe thead th {\n",
       "        text-align: right;\n",
       "    }\n",
       "</style>\n",
       "<table border=\"1\" class=\"dataframe\">\n",
       "  <thead>\n",
       "    <tr style=\"text-align: right;\">\n",
       "      <th></th>\n",
       "      <th>subreddit</th>\n",
       "      <th>title</th>\n",
       "      <th>selftext</th>\n",
       "    </tr>\n",
       "  </thead>\n",
       "  <tbody>\n",
       "    <tr>\n",
       "      <th>0</th>\n",
       "      <td>relationship_advice</td>\n",
       "      <td>Am I paranoid about my relationship?</td>\n",
       "      <td>So me and my other half have been together 2/3...</td>\n",
       "    </tr>\n",
       "    <tr>\n",
       "      <th>1</th>\n",
       "      <td>relationship_advice</td>\n",
       "      <td>Unsure of how to reveal unusual fetishized to ...</td>\n",
       "      <td>Okay, so this may make me seem like a creeper,...</td>\n",
       "    </tr>\n",
       "    <tr>\n",
       "      <th>2</th>\n",
       "      <td>relationship_advice</td>\n",
       "      <td>I (17F) am super embarrassed by a conversation...</td>\n",
       "      <td>My friend and I both go to the same high schoo...</td>\n",
       "    </tr>\n",
       "    <tr>\n",
       "      <th>3</th>\n",
       "      <td>relationship_advice</td>\n",
       "      <td>How do you feel about your SO watching porn?</td>\n",
       "      <td>I typically don’t have an issue with it in gen...</td>\n",
       "    </tr>\n",
       "    <tr>\n",
       "      <th>4</th>\n",
       "      <td>relationship_advice</td>\n",
       "      <td>My (25 M) gf (24 F) uses too much toilet paper...</td>\n",
       "      <td>Obligatory, I am posting this on a new account...</td>\n",
       "    </tr>\n",
       "  </tbody>\n",
       "</table>\n",
       "</div>"
      ],
      "text/plain": [
       "             subreddit                                              title  \\\n",
       "0  relationship_advice               Am I paranoid about my relationship?   \n",
       "1  relationship_advice  Unsure of how to reveal unusual fetishized to ...   \n",
       "2  relationship_advice  I (17F) am super embarrassed by a conversation...   \n",
       "3  relationship_advice       How do you feel about your SO watching porn?   \n",
       "4  relationship_advice  My (25 M) gf (24 F) uses too much toilet paper...   \n",
       "\n",
       "                                            selftext  \n",
       "0  So me and my other half have been together 2/3...  \n",
       "1  Okay, so this may make me seem like a creeper,...  \n",
       "2  My friend and I both go to the same high schoo...  \n",
       "3  I typically don’t have an issue with it in gen...  \n",
       "4  Obligatory, I am posting this on a new account...  "
      ]
     },
     "execution_count": 11,
     "metadata": {},
     "output_type": "execute_result"
    }
   ],
   "source": [
    "rel_dat = pd.concat([df_rel,df_dat],axis=0,sort=False)\n",
    "rel_dat.head()"
   ]
  },
  {
   "cell_type": "code",
   "execution_count": 12,
   "metadata": {
    "scrolled": true
   },
   "outputs": [
    {
     "data": {
      "text/plain": [
       "dating_advice          1000\n",
       "relationship_advice    1000\n",
       "Name: subreddit, dtype: int64"
      ]
     },
     "execution_count": 12,
     "metadata": {},
     "output_type": "execute_result"
    }
   ],
   "source": [
    "rel_dat['subreddit'].value_counts()"
   ]
  },
  {
   "cell_type": "code",
   "execution_count": 13,
   "metadata": {},
   "outputs": [
    {
     "data": {
      "image/png": "[encoded data removed]",
      "text/plain": [
       "<Figure size 432x288 with 1 Axes>"
      ]
     },
     "metadata": {
      "needs_background": "light"
     },
     "output_type": "display_data"
    }
   ],
   "source": [
    "sns.countplot(x=rel_dat['subreddit'], data=rel_dat, palette='hls')\n",
    "plt.title('Relationship & Dating Advice Subreddit Count'),\n",
    "# plt.xlabel(map({0:'dating_advice',1:'relationship_advice'}),\n",
    "plt.show()\n",
    "# plt.savefig('count_plot')"
   ]
  },
  {
   "cell_type": "code",
   "execution_count": 14,
   "metadata": {},
   "outputs": [
    {
     "data": {
      "text/html": [
       "<div>\n",
       "<style scoped>\n",
       "    .dataframe tbody tr th:only-of-type {\n",
       "        vertical-align: middle;\n",
       "    }\n",
       "\n",
       "    .dataframe tbody tr th {\n",
       "        vertical-align: top;\n",
       "    }\n",
       "\n",
       "    .dataframe thead th {\n",
       "        text-align: right;\n",
       "    }\n",
       "</style>\n",
       "<table border=\"1\" class=\"dataframe\">\n",
       "  <thead>\n",
       "    <tr style=\"text-align: right;\">\n",
       "      <th></th>\n",
       "      <th>subreddit</th>\n",
       "      <th>title</th>\n",
       "      <th>selftext</th>\n",
       "    </tr>\n",
       "  </thead>\n",
       "  <tbody>\n",
       "    <tr>\n",
       "      <th>0</th>\n",
       "      <td>1</td>\n",
       "      <td>Am I paranoid about my relationship?</td>\n",
       "      <td>So me and my other half have been together 2/3...</td>\n",
       "    </tr>\n",
       "    <tr>\n",
       "      <th>1</th>\n",
       "      <td>1</td>\n",
       "      <td>Unsure of how to reveal unusual fetishized to ...</td>\n",
       "      <td>Okay, so this may make me seem like a creeper,...</td>\n",
       "    </tr>\n",
       "    <tr>\n",
       "      <th>2</th>\n",
       "      <td>1</td>\n",
       "      <td>I (17F) am super embarrassed by a conversation...</td>\n",
       "      <td>My friend and I both go to the same high schoo...</td>\n",
       "    </tr>\n",
       "    <tr>\n",
       "      <th>3</th>\n",
       "      <td>1</td>\n",
       "      <td>How do you feel about your SO watching porn?</td>\n",
       "      <td>I typically don’t have an issue with it in gen...</td>\n",
       "    </tr>\n",
       "    <tr>\n",
       "      <th>4</th>\n",
       "      <td>1</td>\n",
       "      <td>My (25 M) gf (24 F) uses too much toilet paper...</td>\n",
       "      <td>Obligatory, I am posting this on a new account...</td>\n",
       "    </tr>\n",
       "  </tbody>\n",
       "</table>\n",
       "</div>"
      ],
      "text/plain": [
       "   subreddit                                              title  \\\n",
       "0          1               Am I paranoid about my relationship?   \n",
       "1          1  Unsure of how to reveal unusual fetishized to ...   \n",
       "2          1  I (17F) am super embarrassed by a conversation...   \n",
       "3          1       How do you feel about your SO watching porn?   \n",
       "4          1  My (25 M) gf (24 F) uses too much toilet paper...   \n",
       "\n",
       "                                            selftext  \n",
       "0  So me and my other half have been together 2/3...  \n",
       "1  Okay, so this may make me seem like a creeper,...  \n",
       "2  My friend and I both go to the same high schoo...  \n",
       "3  I typically don’t have an issue with it in gen...  \n",
       "4  Obligatory, I am posting this on a new account...  "
      ]
     },
     "execution_count": 14,
     "metadata": {},
     "output_type": "execute_result"
    }
   ],
   "source": [
    "# df['label'] = df['label'].map({'ham': 0, 'spam': 1})\n",
    "# df.head()\n",
    "rel_dat['subreddit']=rel_dat['subreddit'].map({'dating_advice':0,'relationship_advice':1})\n",
    "rel_dat.head()"
   ]
  },
  {
   "cell_type": "markdown",
   "metadata": {},
   "source": [
    "## Combine title and selftext to increase accuracy"
   ]
  },
  {
   "cell_type": "code",
   "execution_count": 15,
   "metadata": {},
   "outputs": [
    {
     "data": {
      "text/html": [
       "<div>\n",
       "<style scoped>\n",
       "    .dataframe tbody tr th:only-of-type {\n",
       "        vertical-align: middle;\n",
       "    }\n",
       "\n",
       "    .dataframe tbody tr th {\n",
       "        vertical-align: top;\n",
       "    }\n",
       "\n",
       "    .dataframe thead th {\n",
       "        text-align: right;\n",
       "    }\n",
       "</style>\n",
       "<table border=\"1\" class=\"dataframe\">\n",
       "  <thead>\n",
       "    <tr style=\"text-align: right;\">\n",
       "      <th></th>\n",
       "      <th>subreddit</th>\n",
       "      <th>title</th>\n",
       "      <th>selftext</th>\n",
       "      <th>title_selftext</th>\n",
       "    </tr>\n",
       "  </thead>\n",
       "  <tbody>\n",
       "    <tr>\n",
       "      <th>0</th>\n",
       "      <td>1</td>\n",
       "      <td>Am I paranoid about my relationship?</td>\n",
       "      <td>So me and my other half have been together 2/3...</td>\n",
       "      <td>Am I paranoid about my relationship? So me and...</td>\n",
       "    </tr>\n",
       "    <tr>\n",
       "      <th>1</th>\n",
       "      <td>1</td>\n",
       "      <td>Unsure of how to reveal unusual fetishized to ...</td>\n",
       "      <td>Okay, so this may make me seem like a creeper,...</td>\n",
       "      <td>Unsure of how to reveal unusual fetishized to ...</td>\n",
       "    </tr>\n",
       "    <tr>\n",
       "      <th>2</th>\n",
       "      <td>1</td>\n",
       "      <td>I (17F) am super embarrassed by a conversation...</td>\n",
       "      <td>My friend and I both go to the same high schoo...</td>\n",
       "      <td>I (17F) am super embarrassed by a conversation...</td>\n",
       "    </tr>\n",
       "    <tr>\n",
       "      <th>3</th>\n",
       "      <td>1</td>\n",
       "      <td>How do you feel about your SO watching porn?</td>\n",
       "      <td>I typically don’t have an issue with it in gen...</td>\n",
       "      <td>How do you feel about your SO watching porn? I...</td>\n",
       "    </tr>\n",
       "    <tr>\n",
       "      <th>4</th>\n",
       "      <td>1</td>\n",
       "      <td>My (25 M) gf (24 F) uses too much toilet paper...</td>\n",
       "      <td>Obligatory, I am posting this on a new account...</td>\n",
       "      <td>My (25 M) gf (24 F) uses too much toilet paper...</td>\n",
       "    </tr>\n",
       "  </tbody>\n",
       "</table>\n",
       "</div>"
      ],
      "text/plain": [
       "   subreddit                                              title  \\\n",
       "0          1               Am I paranoid about my relationship?   \n",
       "1          1  Unsure of how to reveal unusual fetishized to ...   \n",
       "2          1  I (17F) am super embarrassed by a conversation...   \n",
       "3          1       How do you feel about your SO watching porn?   \n",
       "4          1  My (25 M) gf (24 F) uses too much toilet paper...   \n",
       "\n",
       "                                            selftext  \\\n",
       "0  So me and my other half have been together 2/3...   \n",
       "1  Okay, so this may make me seem like a creeper,...   \n",
       "2  My friend and I both go to the same high schoo...   \n",
       "3  I typically don’t have an issue with it in gen...   \n",
       "4  Obligatory, I am posting this on a new account...   \n",
       "\n",
       "                                      title_selftext  \n",
       "0  Am I paranoid about my relationship? So me and...  \n",
       "1  Unsure of how to reveal unusual fetishized to ...  \n",
       "2  I (17F) am super embarrassed by a conversation...  \n",
       "3  How do you feel about your SO watching porn? I...  \n",
       "4  My (25 M) gf (24 F) uses too much toilet paper...  "
      ]
     },
     "execution_count": 15,
     "metadata": {},
     "output_type": "execute_result"
    }
   ],
   "source": [
    "rel_dat['title_selftext']= rel_dat['title']+ ' ' +rel_dat['selftext']\n",
    "rel_dat.head()"
   ]
  },
  {
   "cell_type": "markdown",
   "metadata": {},
   "source": [
    "## NLP"
   ]
  },
  {
   "cell_type": "code",
   "execution_count": 16,
   "metadata": {},
   "outputs": [
    {
     "data": {
      "text/plain": [
       "subreddit          0\n",
       "title              0\n",
       "selftext          15\n",
       "title_selftext    15\n",
       "dtype: int64"
      ]
     },
     "execution_count": 16,
     "metadata": {},
     "output_type": "execute_result"
    }
   ],
   "source": [
    "rel_dat.isnull().sum()"
   ]
  },
  {
   "cell_type": "code",
   "execution_count": 17,
   "metadata": {},
   "outputs": [
    {
     "data": {
      "text/plain": [
       "(2000, 4)"
      ]
     },
     "execution_count": 17,
     "metadata": {},
     "output_type": "execute_result"
    }
   ],
   "source": [
    "rel_dat.shape"
   ]
  },
  {
   "cell_type": "code",
   "execution_count": 18,
   "metadata": {},
   "outputs": [],
   "source": [
    "rel_dat.dropna(inplace=True)"
   ]
  },
  {
   "cell_type": "code",
   "execution_count": 19,
   "metadata": {},
   "outputs": [
    {
     "data": {
      "text/html": [
       "<div>\n",
       "<style scoped>\n",
       "    .dataframe tbody tr th:only-of-type {\n",
       "        vertical-align: middle;\n",
       "    }\n",
       "\n",
       "    .dataframe tbody tr th {\n",
       "        vertical-align: top;\n",
       "    }\n",
       "\n",
       "    .dataframe thead th {\n",
       "        text-align: right;\n",
       "    }\n",
       "</style>\n",
       "<table border=\"1\" class=\"dataframe\">\n",
       "  <thead>\n",
       "    <tr style=\"text-align: right;\">\n",
       "      <th></th>\n",
       "      <th>subreddit</th>\n",
       "      <th>title</th>\n",
       "      <th>selftext</th>\n",
       "      <th>title_selftext</th>\n",
       "    </tr>\n",
       "  </thead>\n",
       "  <tbody>\n",
       "    <tr>\n",
       "      <th>0</th>\n",
       "      <td>1</td>\n",
       "      <td>Am I paranoid about my relationship?</td>\n",
       "      <td>So me and my other half have been together 2/3...</td>\n",
       "      <td>Am I paranoid about my relationship? So me and...</td>\n",
       "    </tr>\n",
       "    <tr>\n",
       "      <th>1</th>\n",
       "      <td>1</td>\n",
       "      <td>Unsure of how to reveal unusual fetishized to ...</td>\n",
       "      <td>Okay, so this may make me seem like a creeper,...</td>\n",
       "      <td>Unsure of how to reveal unusual fetishized to ...</td>\n",
       "    </tr>\n",
       "    <tr>\n",
       "      <th>2</th>\n",
       "      <td>1</td>\n",
       "      <td>I (17F) am super embarrassed by a conversation...</td>\n",
       "      <td>My friend and I both go to the same high schoo...</td>\n",
       "      <td>I (17F) am super embarrassed by a conversation...</td>\n",
       "    </tr>\n",
       "    <tr>\n",
       "      <th>3</th>\n",
       "      <td>1</td>\n",
       "      <td>How do you feel about your SO watching porn?</td>\n",
       "      <td>I typically don’t have an issue with it in gen...</td>\n",
       "      <td>How do you feel about your SO watching porn? I...</td>\n",
       "    </tr>\n",
       "    <tr>\n",
       "      <th>4</th>\n",
       "      <td>1</td>\n",
       "      <td>My (25 M) gf (24 F) uses too much toilet paper...</td>\n",
       "      <td>Obligatory, I am posting this on a new account...</td>\n",
       "      <td>My (25 M) gf (24 F) uses too much toilet paper...</td>\n",
       "    </tr>\n",
       "    <tr>\n",
       "      <th>...</th>\n",
       "      <td>...</td>\n",
       "      <td>...</td>\n",
       "      <td>...</td>\n",
       "      <td>...</td>\n",
       "    </tr>\n",
       "    <tr>\n",
       "      <th>995</th>\n",
       "      <td>0</td>\n",
       "      <td>Very confused</td>\n",
       "      <td>So im in a situation that is very confusing ri...</td>\n",
       "      <td>Very confused So im in a situation that is ver...</td>\n",
       "    </tr>\n",
       "    <tr>\n",
       "      <th>996</th>\n",
       "      <td>0</td>\n",
       "      <td>Date chatting on her phone during movie</td>\n",
       "      <td>oof?</td>\n",
       "      <td>Date chatting on her phone during movie oof?</td>\n",
       "    </tr>\n",
       "    <tr>\n",
       "      <th>997</th>\n",
       "      <td>0</td>\n",
       "      <td>Should I try to change my date plans?</td>\n",
       "      <td>So I met a girl about a week ago in college an...</td>\n",
       "      <td>Should I try to change my date plans? So I met...</td>\n",
       "    </tr>\n",
       "    <tr>\n",
       "      <th>998</th>\n",
       "      <td>0</td>\n",
       "      <td>I am too scared to have sex because it will hu...</td>\n",
       "      <td>I'm almost 25 and a virgin. I have had guys as...</td>\n",
       "      <td>I am too scared to have sex because it will hu...</td>\n",
       "    </tr>\n",
       "    <tr>\n",
       "      <th>999</th>\n",
       "      <td>0</td>\n",
       "      <td>For those sorting by new, asking a girl out tm...</td>\n",
       "      <td>\\n1. Pretty sure you know this already but I l...</td>\n",
       "      <td>For those sorting by new, asking a girl out tm...</td>\n",
       "    </tr>\n",
       "  </tbody>\n",
       "</table>\n",
       "<p>1980 rows × 4 columns</p>\n",
       "</div>"
      ],
      "text/plain": [
       "     subreddit                                              title  \\\n",
       "0            1               Am I paranoid about my relationship?   \n",
       "1            1  Unsure of how to reveal unusual fetishized to ...   \n",
       "2            1  I (17F) am super embarrassed by a conversation...   \n",
       "3            1       How do you feel about your SO watching porn?   \n",
       "4            1  My (25 M) gf (24 F) uses too much toilet paper...   \n",
       "..         ...                                                ...   \n",
       "995          0                                      Very confused   \n",
       "996          0            Date chatting on her phone during movie   \n",
       "997          0              Should I try to change my date plans?   \n",
       "998          0  I am too scared to have sex because it will hu...   \n",
       "999          0  For those sorting by new, asking a girl out tm...   \n",
       "\n",
       "                                              selftext  \\\n",
       "0    So me and my other half have been together 2/3...   \n",
       "1    Okay, so this may make me seem like a creeper,...   \n",
       "2    My friend and I both go to the same high schoo...   \n",
       "3    I typically don’t have an issue with it in gen...   \n",
       "4    Obligatory, I am posting this on a new account...   \n",
       "..                                                 ...   \n",
       "995  So im in a situation that is very confusing ri...   \n",
       "996                                               oof?   \n",
       "997  So I met a girl about a week ago in college an...   \n",
       "998  I'm almost 25 and a virgin. I have had guys as...   \n",
       "999  \\n1. Pretty sure you know this already but I l...   \n",
       "\n",
       "                                        title_selftext  \n",
       "0    Am I paranoid about my relationship? So me and...  \n",
       "1    Unsure of how to reveal unusual fetishized to ...  \n",
       "2    I (17F) am super embarrassed by a conversation...  \n",
       "3    How do you feel about your SO watching porn? I...  \n",
       "4    My (25 M) gf (24 F) uses too much toilet paper...  \n",
       "..                                                 ...  \n",
       "995  Very confused So im in a situation that is ver...  \n",
       "996       Date chatting on her phone during movie oof?  \n",
       "997  Should I try to change my date plans? So I met...  \n",
       "998  I am too scared to have sex because it will hu...  \n",
       "999  For those sorting by new, asking a girl out tm...  \n",
       "\n",
       "[1980 rows x 4 columns]"
      ]
     },
     "execution_count": 19,
     "metadata": {},
     "output_type": "execute_result"
    }
   ],
   "source": [
    "rel_dat.drop_duplicates()"
   ]
  },
  {
   "cell_type": "code",
   "execution_count": 20,
   "metadata": {},
   "outputs": [],
   "source": [
    "rel_dat = rel_dat[~rel_dat['selftext'].isin(['[deleted]','(deleted)'])]"
   ]
  },
  {
   "cell_type": "code",
   "execution_count": 21,
   "metadata": {},
   "outputs": [],
   "source": [
    "rel_dat = rel_dat[~rel_dat['title'].isin(['[deleted]','(deleted)'])]"
   ]
  },
  {
   "cell_type": "code",
   "execution_count": 22,
   "metadata": {},
   "outputs": [
    {
     "data": {
      "text/html": [
       "<div>\n",
       "<style scoped>\n",
       "    .dataframe tbody tr th:only-of-type {\n",
       "        vertical-align: middle;\n",
       "    }\n",
       "\n",
       "    .dataframe tbody tr th {\n",
       "        vertical-align: top;\n",
       "    }\n",
       "\n",
       "    .dataframe thead th {\n",
       "        text-align: right;\n",
       "    }\n",
       "</style>\n",
       "<table border=\"1\" class=\"dataframe\">\n",
       "  <thead>\n",
       "    <tr style=\"text-align: right;\">\n",
       "      <th></th>\n",
       "      <th>subreddit</th>\n",
       "      <th>title</th>\n",
       "      <th>selftext</th>\n",
       "      <th>title_selftext</th>\n",
       "    </tr>\n",
       "  </thead>\n",
       "  <tbody>\n",
       "    <tr>\n",
       "      <th>0</th>\n",
       "      <td>1</td>\n",
       "      <td>Am I paranoid about my relationship?</td>\n",
       "      <td>So me and my other half have been together 2/3...</td>\n",
       "      <td>Am I paranoid about my relationship? So me and...</td>\n",
       "    </tr>\n",
       "    <tr>\n",
       "      <th>1</th>\n",
       "      <td>1</td>\n",
       "      <td>Unsure of how to reveal unusual fetishized to ...</td>\n",
       "      <td>Okay, so this may make me seem like a creeper,...</td>\n",
       "      <td>Unsure of how to reveal unusual fetishized to ...</td>\n",
       "    </tr>\n",
       "    <tr>\n",
       "      <th>2</th>\n",
       "      <td>1</td>\n",
       "      <td>I (17F) am super embarrassed by a conversation...</td>\n",
       "      <td>My friend and I both go to the same high schoo...</td>\n",
       "      <td>I (17F) am super embarrassed by a conversation...</td>\n",
       "    </tr>\n",
       "    <tr>\n",
       "      <th>3</th>\n",
       "      <td>1</td>\n",
       "      <td>How do you feel about your SO watching porn?</td>\n",
       "      <td>I typically don’t have an issue with it in gen...</td>\n",
       "      <td>How do you feel about your SO watching porn? I...</td>\n",
       "    </tr>\n",
       "    <tr>\n",
       "      <th>4</th>\n",
       "      <td>1</td>\n",
       "      <td>My (25 M) gf (24 F) uses too much toilet paper...</td>\n",
       "      <td>Obligatory, I am posting this on a new account...</td>\n",
       "      <td>My (25 M) gf (24 F) uses too much toilet paper...</td>\n",
       "    </tr>\n",
       "    <tr>\n",
       "      <th>...</th>\n",
       "      <td>...</td>\n",
       "      <td>...</td>\n",
       "      <td>...</td>\n",
       "      <td>...</td>\n",
       "    </tr>\n",
       "    <tr>\n",
       "      <th>995</th>\n",
       "      <td>0</td>\n",
       "      <td>Very confused</td>\n",
       "      <td>So im in a situation that is very confusing ri...</td>\n",
       "      <td>Very confused So im in a situation that is ver...</td>\n",
       "    </tr>\n",
       "    <tr>\n",
       "      <th>996</th>\n",
       "      <td>0</td>\n",
       "      <td>Date chatting on her phone during movie</td>\n",
       "      <td>oof?</td>\n",
       "      <td>Date chatting on her phone during movie oof?</td>\n",
       "    </tr>\n",
       "    <tr>\n",
       "      <th>997</th>\n",
       "      <td>0</td>\n",
       "      <td>Should I try to change my date plans?</td>\n",
       "      <td>So I met a girl about a week ago in college an...</td>\n",
       "      <td>Should I try to change my date plans? So I met...</td>\n",
       "    </tr>\n",
       "    <tr>\n",
       "      <th>998</th>\n",
       "      <td>0</td>\n",
       "      <td>I am too scared to have sex because it will hu...</td>\n",
       "      <td>I'm almost 25 and a virgin. I have had guys as...</td>\n",
       "      <td>I am too scared to have sex because it will hu...</td>\n",
       "    </tr>\n",
       "    <tr>\n",
       "      <th>999</th>\n",
       "      <td>0</td>\n",
       "      <td>For those sorting by new, asking a girl out tm...</td>\n",
       "      <td>\\n1. Pretty sure you know this already but I l...</td>\n",
       "      <td>For those sorting by new, asking a girl out tm...</td>\n",
       "    </tr>\n",
       "  </tbody>\n",
       "</table>\n",
       "<p>1970 rows × 4 columns</p>\n",
       "</div>"
      ],
      "text/plain": [
       "     subreddit                                              title  \\\n",
       "0            1               Am I paranoid about my relationship?   \n",
       "1            1  Unsure of how to reveal unusual fetishized to ...   \n",
       "2            1  I (17F) am super embarrassed by a conversation...   \n",
       "3            1       How do you feel about your SO watching porn?   \n",
       "4            1  My (25 M) gf (24 F) uses too much toilet paper...   \n",
       "..         ...                                                ...   \n",
       "995          0                                      Very confused   \n",
       "996          0            Date chatting on her phone during movie   \n",
       "997          0              Should I try to change my date plans?   \n",
       "998          0  I am too scared to have sex because it will hu...   \n",
       "999          0  For those sorting by new, asking a girl out tm...   \n",
       "\n",
       "                                              selftext  \\\n",
       "0    So me and my other half have been together 2/3...   \n",
       "1    Okay, so this may make me seem like a creeper,...   \n",
       "2    My friend and I both go to the same high schoo...   \n",
       "3    I typically don’t have an issue with it in gen...   \n",
       "4    Obligatory, I am posting this on a new account...   \n",
       "..                                                 ...   \n",
       "995  So im in a situation that is very confusing ri...   \n",
       "996                                               oof?   \n",
       "997  So I met a girl about a week ago in college an...   \n",
       "998  I'm almost 25 and a virgin. I have had guys as...   \n",
       "999  \\n1. Pretty sure you know this already but I l...   \n",
       "\n",
       "                                        title_selftext  \n",
       "0    Am I paranoid about my relationship? So me and...  \n",
       "1    Unsure of how to reveal unusual fetishized to ...  \n",
       "2    I (17F) am super embarrassed by a conversation...  \n",
       "3    How do you feel about your SO watching porn? I...  \n",
       "4    My (25 M) gf (24 F) uses too much toilet paper...  \n",
       "..                                                 ...  \n",
       "995  Very confused So im in a situation that is ver...  \n",
       "996       Date chatting on her phone during movie oof?  \n",
       "997  Should I try to change my date plans? So I met...  \n",
       "998  I am too scared to have sex because it will hu...  \n",
       "999  For those sorting by new, asking a girl out tm...  \n",
       "\n",
       "[1970 rows x 4 columns]"
      ]
     },
     "execution_count": 22,
     "metadata": {},
     "output_type": "execute_result"
    }
   ],
   "source": [
    "rel_dat"
   ]
  },
  {
   "cell_type": "code",
   "execution_count": 23,
   "metadata": {},
   "outputs": [
    {
     "data": {
      "text/plain": [
       "(1970, 4)"
      ]
     },
     "execution_count": 23,
     "metadata": {},
     "output_type": "execute_result"
    }
   ],
   "source": [
    "rel_dat.shape"
   ]
  },
  {
   "cell_type": "code",
   "execution_count": 24,
   "metadata": {},
   "outputs": [],
   "source": [
    "rel_dat.to_csv('../datasets/rel_dat.csv',index=False)"
   ]
  },
  {
   "cell_type": "markdown",
   "metadata": {},
   "source": [
    "## Model Prep: X and y variables"
   ]
  },
  {
   "cell_type": "code",
   "execution_count": 25,
   "metadata": {},
   "outputs": [],
   "source": [
    "X = rel_dat['selftext']\n",
    "y = rel_dat['subreddit']"
   ]
  },
  {
   "cell_type": "code",
   "execution_count": 26,
   "metadata": {},
   "outputs": [],
   "source": [
    "X_train, X_test, y_train, y_test = train_test_split(X,\n",
    "                                                    y,\n",
    "                                                    test_size = 0.33,\n",
    "                                                    stratify= y,\n",
    "                                                    random_state = 42)"
   ]
  },
  {
   "cell_type": "markdown",
   "metadata": {},
   "source": [
    "## Base Accuracy Score"
   ]
  },
  {
   "cell_type": "code",
   "execution_count": 27,
   "metadata": {},
   "outputs": [
    {
     "data": {
      "text/plain": [
       "1    0.507107\n",
       "0    0.492893\n",
       "Name: subreddit, dtype: float64"
      ]
     },
     "execution_count": 27,
     "metadata": {},
     "output_type": "execute_result"
    }
   ],
   "source": [
    "y.value_counts(normalize=True)"
   ]
  },
  {
   "cell_type": "code",
   "execution_count": 28,
   "metadata": {},
   "outputs": [
    {
     "data": {
      "text/plain": [
       "<WordNetLemmatizer>"
      ]
     },
     "execution_count": 28,
     "metadata": {},
     "output_type": "execute_result"
    }
   ],
   "source": [
    "WordNetLemmatizer()"
   ]
  },
  {
   "cell_type": "code",
   "execution_count": null,
   "metadata": {},
   "outputs": [],
   "source": []
  },
  {
   "cell_type": "markdown",
   "metadata": {},
   "source": [
    "## Checking Words"
   ]
  },
  {
   "cell_type": "code",
   "execution_count": 29,
   "metadata": {},
   "outputs": [],
   "source": [
    "cvec = CountVectorizer(stop_words='english',\n",
    "                             max_features=100,\n",
    "                             min_df=2,\n",
    "                             max_df= .98,\n",
    "                             ngram_range=(1,2))"
   ]
  },
  {
   "cell_type": "code",
   "execution_count": 30,
   "metadata": {},
   "outputs": [
    {
     "data": {
      "text/plain": [
       "CountVectorizer(analyzer='word', binary=False, decode_error='strict',\n",
       "                dtype=<class 'numpy.int64'>, encoding='utf-8', input='content',\n",
       "                lowercase=True, max_df=0.98, max_features=100, min_df=2,\n",
       "                ngram_range=(1, 2), preprocessor=None, stop_words='english',\n",
       "                strip_accents=None, token_pattern='(?u)\\\\b\\\\w\\\\w+\\\\b',\n",
       "                tokenizer=None, vocabulary=None)"
      ]
     },
     "execution_count": 30,
     "metadata": {},
     "output_type": "execute_result"
    }
   ],
   "source": [
    "cvec.fit(X_train)"
   ]
  },
  {
   "cell_type": "code",
   "execution_count": 31,
   "metadata": {},
   "outputs": [
    {
     "data": {
      "text/plain": [
       "<1319x100 sparse matrix of type '<class 'numpy.int64'>'\n",
       "\twith 27114 stored elements in Compressed Sparse Row format>"
      ]
     },
     "execution_count": 31,
     "metadata": {},
     "output_type": "execute_result"
    }
   ],
   "source": [
    "cvec.transform(X_train)"
   ]
  },
  {
   "cell_type": "code",
   "execution_count": 32,
   "metadata": {},
   "outputs": [],
   "source": [
    "X_train_cv = cvec.transform(X_train)"
   ]
  },
  {
   "cell_type": "code",
   "execution_count": 33,
   "metadata": {},
   "outputs": [],
   "source": [
    "X_test_cv = cvec.transform(X_test)"
   ]
  },
  {
   "cell_type": "code",
   "execution_count": 34,
   "metadata": {},
   "outputs": [
    {
     "data": {
      "text/plain": [
       "(1319, 100)"
      ]
     },
     "execution_count": 34,
     "metadata": {},
     "output_type": "execute_result"
    }
   ],
   "source": [
    "X_train_cv.shape"
   ]
  },
  {
   "cell_type": "code",
   "execution_count": 35,
   "metadata": {},
   "outputs": [
    {
     "data": {
      "text/plain": [
       "scipy.sparse.csr.csr_matrix"
      ]
     },
     "execution_count": 35,
     "metadata": {},
     "output_type": "execute_result"
    }
   ],
   "source": [
    "type(X_train_cv)"
   ]
  },
  {
   "cell_type": "code",
   "execution_count": 36,
   "metadata": {},
   "outputs": [],
   "source": [
    "words = pd.DataFrame(\n",
    "    X_train_cv.todense(),\n",
    "    columns = cvec.get_feature_names()\n",
    ")"
   ]
  },
  {
   "cell_type": "code",
   "execution_count": 37,
   "metadata": {},
   "outputs": [
    {
     "data": {
      "text/plain": [
       "just            1914\n",
       "like            1852\n",
       "don             1315\n",
       "know            1259\n",
       "ve              1165\n",
       "really          1125\n",
       "time            1122\n",
       "want            1117\n",
       "feel             967\n",
       "said             826\n",
       "relationship     773\n",
       "told             695\n",
       "things           694\n",
       "friends          683\n",
       "going            660\n",
       "didn             630\n",
       "think            611\n",
       "girl             570\n",
       "years            539\n",
       "day              519\n",
       "dtype: int64"
      ]
     },
     "execution_count": 37,
     "metadata": {},
     "output_type": "execute_result"
    }
   ],
   "source": [
    "words.sum().sort_values(ascending=False).head(20)"
   ]
  },
  {
   "cell_type": "markdown",
   "metadata": {},
   "source": [
    "## Confusion Matrix Logistic Regression"
   ]
  },
  {
   "cell_type": "code",
   "execution_count": 38,
   "metadata": {},
   "outputs": [
    {
     "name": "stderr",
     "output_type": "stream",
     "text": [
      "/Users/tringuyen/opt/anaconda3/lib/python3.7/site-packages/sklearn/linear_model/logistic.py:432: FutureWarning: Default solver will be changed to 'lbfgs' in 0.22. Specify a solver to silence this warning.\n",
      "  FutureWarning)\n"
     ]
    },
    {
     "data": {
      "text/plain": [
       "LogisticRegression(C=1.0, class_weight=None, dual=False, fit_intercept=True,\n",
       "                   intercept_scaling=1, l1_ratio=None, max_iter=100,\n",
       "                   multi_class='warn', n_jobs=None, penalty='l2',\n",
       "                   random_state=None, solver='warn', tol=0.0001, verbose=0,\n",
       "                   warm_start=False)"
      ]
     },
     "execution_count": 38,
     "metadata": {},
     "output_type": "execute_result"
    }
   ],
   "source": [
    "lr= LogisticRegression()\n",
    "lr.fit(X_train_cv,y_train)"
   ]
  },
  {
   "cell_type": "code",
   "execution_count": 39,
   "metadata": {},
   "outputs": [],
   "source": [
    "pred_lr = lr.predict(X_test_cv)\n",
    "cm_lr = confusion_matrix(y_test, pred_lr)"
   ]
  },
  {
   "cell_type": "code",
   "execution_count": 40,
   "metadata": {},
   "outputs": [
    {
     "data": {
      "text/html": [
       "<div>\n",
       "<style scoped>\n",
       "    .dataframe tbody tr th:only-of-type {\n",
       "        vertical-align: middle;\n",
       "    }\n",
       "\n",
       "    .dataframe tbody tr th {\n",
       "        vertical-align: top;\n",
       "    }\n",
       "\n",
       "    .dataframe thead th {\n",
       "        text-align: right;\n",
       "    }\n",
       "</style>\n",
       "<table border=\"1\" class=\"dataframe\">\n",
       "  <thead>\n",
       "    <tr style=\"text-align: right;\">\n",
       "      <th></th>\n",
       "      <th>Relationship Advice</th>\n",
       "      <th>Dating Advice</th>\n",
       "    </tr>\n",
       "  </thead>\n",
       "  <tbody>\n",
       "    <tr>\n",
       "      <th>Relationship Advice</th>\n",
       "      <td>216</td>\n",
       "      <td>105</td>\n",
       "    </tr>\n",
       "    <tr>\n",
       "      <th>Dating Advice</th>\n",
       "      <td>117</td>\n",
       "      <td>213</td>\n",
       "    </tr>\n",
       "  </tbody>\n",
       "</table>\n",
       "</div>"
      ],
      "text/plain": [
       "                     Relationship Advice  Dating Advice\n",
       "Relationship Advice                  216            105\n",
       "Dating Advice                        117            213"
      ]
     },
     "execution_count": 40,
     "metadata": {},
     "output_type": "execute_result"
    }
   ],
   "source": [
    "cm_lr_df = pd.DataFrame(cm_lr, columns=['Relationship Advice','Dating Advice'],\n",
    "                     index=['Relationship Advice', 'Dating Advice'])\n",
    "cm_lr_df"
   ]
  },
  {
   "cell_type": "markdown",
   "metadata": {},
   "source": [
    "## Confusion Matrix MultinomialNB"
   ]
  },
  {
   "cell_type": "code",
   "execution_count": 41,
   "metadata": {},
   "outputs": [
    {
     "data": {
      "text/plain": [
       "MultinomialNB(alpha=1.0, class_prior=None, fit_prior=True)"
      ]
     },
     "execution_count": 41,
     "metadata": {},
     "output_type": "execute_result"
    }
   ],
   "source": [
    "mnb = MultinomialNB()\n",
    "mnb.fit(X_train_cv,y_train)"
   ]
  },
  {
   "cell_type": "code",
   "execution_count": 42,
   "metadata": {},
   "outputs": [],
   "source": [
    "pred_mnb = lr.predict(X_test_cv)\n",
    "cm_mnb = confusion_matrix(y_test, pred_lr)"
   ]
  },
  {
   "cell_type": "code",
   "execution_count": 43,
   "metadata": {},
   "outputs": [
    {
     "data": {
      "text/html": [
       "<div>\n",
       "<style scoped>\n",
       "    .dataframe tbody tr th:only-of-type {\n",
       "        vertical-align: middle;\n",
       "    }\n",
       "\n",
       "    .dataframe tbody tr th {\n",
       "        vertical-align: top;\n",
       "    }\n",
       "\n",
       "    .dataframe thead th {\n",
       "        text-align: right;\n",
       "    }\n",
       "</style>\n",
       "<table border=\"1\" class=\"dataframe\">\n",
       "  <thead>\n",
       "    <tr style=\"text-align: right;\">\n",
       "      <th></th>\n",
       "      <th>Relationship Advice</th>\n",
       "      <th>Dating Advice</th>\n",
       "    </tr>\n",
       "  </thead>\n",
       "  <tbody>\n",
       "    <tr>\n",
       "      <th>Relationship Advice</th>\n",
       "      <td>216</td>\n",
       "      <td>105</td>\n",
       "    </tr>\n",
       "    <tr>\n",
       "      <th>Dating Advice</th>\n",
       "      <td>117</td>\n",
       "      <td>213</td>\n",
       "    </tr>\n",
       "  </tbody>\n",
       "</table>\n",
       "</div>"
      ],
      "text/plain": [
       "                     Relationship Advice  Dating Advice\n",
       "Relationship Advice                  216            105\n",
       "Dating Advice                        117            213"
      ]
     },
     "execution_count": 43,
     "metadata": {},
     "output_type": "execute_result"
    }
   ],
   "source": [
    "cm_mnb_df = pd.DataFrame(cm_mnb, columns=['Relationship Advice','Dating Advice'],\n",
    "                     index=['Relationship Advice', 'Dating Advice'])\n",
    "cm_mnb_df"
   ]
  },
  {
   "cell_type": "markdown",
   "metadata": {},
   "source": [
    "## Pipeline with Logistic Regression"
   ]
  },
  {
   "cell_type": "code",
   "execution_count": 44,
   "metadata": {},
   "outputs": [],
   "source": [
    "pipe_lr = Pipeline([\n",
    "    ('cvec', CountVectorizer(stop_words='english',\n",
    "                             max_features=100,\n",
    "                             min_df=2,\n",
    "                             max_df= .98,\n",
    "                             ngram_range=(1,2))),\n",
    "    ('lr', LogisticRegression(solver = 'liblinear'))\n",
    "])"
   ]
  },
  {
   "cell_type": "code",
   "execution_count": 45,
   "metadata": {},
   "outputs": [
    {
     "data": {
      "text/plain": [
       "0.700531511009871"
      ]
     },
     "execution_count": 45,
     "metadata": {},
     "output_type": "execute_result"
    }
   ],
   "source": [
    "cross_val_score(pipe_lr, X_train, y_train, cv = 3).mean()"
   ]
  },
  {
   "cell_type": "code",
   "execution_count": 46,
   "metadata": {},
   "outputs": [
    {
     "data": {
      "text/plain": [
       "Pipeline(memory=None,\n",
       "         steps=[('cvec',\n",
       "                 CountVectorizer(analyzer='word', binary=False,\n",
       "                                 decode_error='strict',\n",
       "                                 dtype=<class 'numpy.int64'>, encoding='utf-8',\n",
       "                                 input='content', lowercase=True, max_df=0.98,\n",
       "                                 max_features=100, min_df=2, ngram_range=(1, 2),\n",
       "                                 preprocessor=None, stop_words='english',\n",
       "                                 strip_accents=None,\n",
       "                                 token_pattern='(?u)\\\\b\\\\w\\\\w+\\\\b',\n",
       "                                 tokenizer=None, vocabulary=None)),\n",
       "                ('lr',\n",
       "                 LogisticRegression(C=1.0, class_weight=None, dual=False,\n",
       "                                    fit_intercept=True, intercept_scaling=1,\n",
       "                                    l1_ratio=None, max_iter=100,\n",
       "                                    multi_class='warn', n_jobs=None,\n",
       "                                    penalty='l2', random_state=None,\n",
       "                                    solver='liblinear', tol=0.0001, verbose=0,\n",
       "                                    warm_start=False))],\n",
       "         verbose=False)"
      ]
     },
     "execution_count": 46,
     "metadata": {},
     "output_type": "execute_result"
    }
   ],
   "source": [
    "pipe_lr.fit(X_train,y_train)"
   ]
  },
  {
   "cell_type": "code",
   "execution_count": 47,
   "metadata": {},
   "outputs": [
    {
     "data": {
      "text/plain": [
       "0.7725549658832449"
      ]
     },
     "execution_count": 47,
     "metadata": {},
     "output_type": "execute_result"
    }
   ],
   "source": [
    "pipe_lr.score(X_train,y_train)"
   ]
  },
  {
   "cell_type": "code",
   "execution_count": 48,
   "metadata": {},
   "outputs": [
    {
     "data": {
      "text/plain": [
       "0.6589861751152074"
      ]
     },
     "execution_count": 48,
     "metadata": {},
     "output_type": "execute_result"
    }
   ],
   "source": [
    "pipe_lr.score(X_test,y_test)"
   ]
  },
  {
   "cell_type": "markdown",
   "metadata": {},
   "source": [
    "## Checking Logistic Regression Model Coefficients"
   ]
  },
  {
   "cell_type": "code",
   "execution_count": 49,
   "metadata": {},
   "outputs": [
    {
     "data": {
      "text/plain": [
       "array([[-0.08991252,  0.14232372, -0.02201045, -0.37370157, -0.08379354,\n",
       "         0.26104281,  0.19305583,  0.18894902, -0.20740685,  0.6141565 ,\n",
       "        -0.61336632, -0.33730687, -0.16820817,  0.52180429, -0.06681884,\n",
       "        -0.21390641,  0.00646102,  0.15167868,  0.36136704,  0.20412912,\n",
       "        -0.49932086, -0.08625972, -0.07296228,  0.2526642 ,  0.08447874,\n",
       "         0.13175327, -0.00502582, -0.11823762,  0.1509882 , -0.02101548,\n",
       "         0.01338041, -0.04657453, -0.24969748,  0.69654333, -0.07655946,\n",
       "        -0.20134838,  0.1655547 , -0.36396796,  0.01670246,  0.59991554,\n",
       "         0.4185851 ,  0.29810811, -0.09833749,  0.20522987,  0.28961574,\n",
       "         0.18090938, -0.07217401,  0.42402599, -0.13462888, -0.00495099,\n",
       "         0.03712976, -0.04146638,  0.00862707, -0.01697969, -0.14158662,\n",
       "        -0.46260928,  0.11151877,  0.02426994, -0.08435914, -0.06520648,\n",
       "         0.01870596, -0.03836637,  0.08411538, -0.044545  , -0.21289389,\n",
       "         0.0405491 ,  0.10123429,  0.23224871,  0.04441723,  0.28841554,\n",
       "         0.24356685,  0.14065042, -0.16818868, -0.13351226, -0.10319489,\n",
       "        -0.25153712, -0.09091287,  0.19199166,  0.15466978,  0.12612581,\n",
       "        -0.19894051,  0.07795802, -0.09440411,  0.00836995, -0.19689956,\n",
       "        -0.10647394,  0.10070807,  0.20428805,  0.04954265,  0.05487345,\n",
       "         0.09308073, -0.03551906,  0.10347829,  0.12303532, -0.11529276,\n",
       "        -0.00578022, -0.06262053,  0.13018604,  0.44203317,  0.50912174]])"
      ]
     },
     "execution_count": 49,
     "metadata": {},
     "output_type": "execute_result"
    }
   ],
   "source": [
    "pipe_lr['lr'].coef_"
   ]
  },
  {
   "cell_type": "code",
   "execution_count": 50,
   "metadata": {},
   "outputs": [],
   "source": [
    "coef_lr_df = pd.DataFrame(pipe_lr['lr'].coef_,\n",
    "                          columns=pipe_lr['cvec'].get_feature_names()\n",
    "                         )"
   ]
  },
  {
   "cell_type": "code",
   "execution_count": 51,
   "metadata": {},
   "outputs": [
    {
     "data": {
      "text/html": [
       "<div>\n",
       "<style scoped>\n",
       "    .dataframe tbody tr th:only-of-type {\n",
       "        vertical-align: middle;\n",
       "    }\n",
       "\n",
       "    .dataframe tbody tr th {\n",
       "        vertical-align: top;\n",
       "    }\n",
       "\n",
       "    .dataframe thead th {\n",
       "        text-align: right;\n",
       "    }\n",
       "</style>\n",
       "<table border=\"1\" class=\"dataframe\">\n",
       "  <thead>\n",
       "    <tr style=\"text-align: right;\">\n",
       "      <th></th>\n",
       "      <th>0</th>\n",
       "    </tr>\n",
       "  </thead>\n",
       "  <tbody>\n",
       "    <tr>\n",
       "      <th>girlfriend</th>\n",
       "      <td>0.696543</td>\n",
       "    </tr>\n",
       "    <tr>\n",
       "      <th>boyfriend</th>\n",
       "      <td>0.614156</td>\n",
       "    </tr>\n",
       "    <tr>\n",
       "      <th>having</th>\n",
       "      <td>0.599916</td>\n",
       "    </tr>\n",
       "    <tr>\n",
       "      <th>days</th>\n",
       "      <td>0.521804</td>\n",
       "    </tr>\n",
       "    <tr>\n",
       "      <th>years</th>\n",
       "      <td>0.509122</td>\n",
       "    </tr>\n",
       "    <tr>\n",
       "      <th>...</th>\n",
       "      <td>...</td>\n",
       "    </tr>\n",
       "    <tr>\n",
       "      <th>guy</th>\n",
       "      <td>-0.363968</td>\n",
       "    </tr>\n",
       "    <tr>\n",
       "      <th>ask</th>\n",
       "      <td>-0.373702</td>\n",
       "    </tr>\n",
       "    <tr>\n",
       "      <th>met</th>\n",
       "      <td>-0.462609</td>\n",
       "    </tr>\n",
       "    <tr>\n",
       "      <th>don know</th>\n",
       "      <td>-0.499321</td>\n",
       "    </tr>\n",
       "    <tr>\n",
       "      <th>date</th>\n",
       "      <td>-0.613366</td>\n",
       "    </tr>\n",
       "  </tbody>\n",
       "</table>\n",
       "<p>100 rows × 1 columns</p>\n",
       "</div>"
      ],
      "text/plain": [
       "                   0\n",
       "girlfriend  0.696543\n",
       "boyfriend   0.614156\n",
       "having      0.599916\n",
       "days        0.521804\n",
       "years       0.509122\n",
       "...              ...\n",
       "guy        -0.363968\n",
       "ask        -0.373702\n",
       "met        -0.462609\n",
       "don know   -0.499321\n",
       "date       -0.613366\n",
       "\n",
       "[100 rows x 1 columns]"
      ]
     },
     "execution_count": 51,
     "metadata": {},
     "output_type": "execute_result"
    }
   ],
   "source": [
    "coef_lr_df.T.sort_values(by = 0,ascending=False)"
   ]
  },
  {
   "cell_type": "code",
   "execution_count": 52,
   "metadata": {},
   "outputs": [],
   "source": [
    "coef_lr_df_top10 = coef_lr_df.T.sort_values(by = 0,ascending=False).head(10)"
   ]
  },
  {
   "cell_type": "code",
   "execution_count": 53,
   "metadata": {},
   "outputs": [
    {
     "data": {
      "text/html": [
       "<div>\n",
       "<style scoped>\n",
       "    .dataframe tbody tr th:only-of-type {\n",
       "        vertical-align: middle;\n",
       "    }\n",
       "\n",
       "    .dataframe tbody tr th {\n",
       "        vertical-align: top;\n",
       "    }\n",
       "\n",
       "    .dataframe thead th {\n",
       "        text-align: right;\n",
       "    }\n",
       "</style>\n",
       "<table border=\"1\" class=\"dataframe\">\n",
       "  <thead>\n",
       "    <tr style=\"text-align: right;\">\n",
       "      <th></th>\n",
       "      <th>0</th>\n",
       "    </tr>\n",
       "  </thead>\n",
       "  <tbody>\n",
       "    <tr>\n",
       "      <th>girlfriend</th>\n",
       "      <td>0.696543</td>\n",
       "    </tr>\n",
       "    <tr>\n",
       "      <th>boyfriend</th>\n",
       "      <td>0.614156</td>\n",
       "    </tr>\n",
       "    <tr>\n",
       "      <th>having</th>\n",
       "      <td>0.599916</td>\n",
       "    </tr>\n",
       "    <tr>\n",
       "      <th>days</th>\n",
       "      <td>0.521804</td>\n",
       "    </tr>\n",
       "    <tr>\n",
       "      <th>years</th>\n",
       "      <td>0.509122</td>\n",
       "    </tr>\n",
       "    <tr>\n",
       "      <th>year</th>\n",
       "      <td>0.442033</td>\n",
       "    </tr>\n",
       "    <tr>\n",
       "      <th>little</th>\n",
       "      <td>0.424026</td>\n",
       "    </tr>\n",
       "    <tr>\n",
       "      <th>help</th>\n",
       "      <td>0.418585</td>\n",
       "    </tr>\n",
       "    <tr>\n",
       "      <th>doing</th>\n",
       "      <td>0.361367</td>\n",
       "    </tr>\n",
       "    <tr>\n",
       "      <th>home</th>\n",
       "      <td>0.298108</td>\n",
       "    </tr>\n",
       "  </tbody>\n",
       "</table>\n",
       "</div>"
      ],
      "text/plain": [
       "                   0\n",
       "girlfriend  0.696543\n",
       "boyfriend   0.614156\n",
       "having      0.599916\n",
       "days        0.521804\n",
       "years       0.509122\n",
       "year        0.442033\n",
       "little      0.424026\n",
       "help        0.418585\n",
       "doing       0.361367\n",
       "home        0.298108"
      ]
     },
     "execution_count": 53,
     "metadata": {},
     "output_type": "execute_result"
    }
   ],
   "source": [
    "coef_lr_df_top10"
   ]
  },
  {
   "cell_type": "code",
   "execution_count": 54,
   "metadata": {},
   "outputs": [],
   "source": [
    "coef_lr_df_bot10 = coef_lr_df.T.sort_values(by = 0,ascending=True).head(10)"
   ]
  },
  {
   "cell_type": "code",
   "execution_count": null,
   "metadata": {},
   "outputs": [],
   "source": []
  },
  {
   "cell_type": "code",
   "execution_count": 55,
   "metadata": {},
   "outputs": [
    {
     "data": {
      "image/png": "[encoded data removed]",
      "text/plain": [
       "<Figure size 432x288 with 1 Axes>"
      ]
     },
     "metadata": {
      "needs_background": "light"
     },
     "output_type": "display_data"
    }
   ],
   "source": [
    "plt.barh(coef_lr_df_top10.index,coef_lr_df_top10[0])\n",
    "plt.xlabel('Coeffcient Value')\n",
    "plt.ylabel('Words')\n",
    "plt.title('Top 10 Words in Relationship Advice')\n",
    "plt.savefig('../images/Top 10 Relationship Advice Words.png')"
   ]
  },
  {
   "cell_type": "code",
   "execution_count": 56,
   "metadata": {},
   "outputs": [
    {
     "data": {
      "image/png": "[encoded data removed]",
      "text/plain": [
       "<Figure size 432x288 with 1 Axes>"
      ]
     },
     "metadata": {
      "needs_background": "light"
     },
     "output_type": "display_data"
    }
   ],
   "source": [
    "plt.barh(coef_lr_df_bot10.index,coef_lr_df_top10[0])\n",
    "plt.xlabel('Coeffcient Value')\n",
    "plt.ylabel('Words')\n",
    "plt.title('Top 10 Words in Dating Advice')\n",
    "plt.savefig('../images/Top 10 Dating Advice Words.png')"
   ]
  },
  {
   "cell_type": "markdown",
   "metadata": {},
   "source": [
    "## Predict Proba"
   ]
  },
  {
   "cell_type": "code",
   "execution_count": 57,
   "metadata": {},
   "outputs": [],
   "source": [
    "preds = lr.predict(X_test_cv)"
   ]
  },
  {
   "cell_type": "code",
   "execution_count": 58,
   "metadata": {},
   "outputs": [
    {
     "data": {
      "text/plain": [
       "array([[216, 105],\n",
       "       [117, 213]])"
      ]
     },
     "execution_count": 58,
     "metadata": {},
     "output_type": "execute_result"
    }
   ],
   "source": [
    "confusion_matrix(y_test, # True values.\n",
    "                 preds)  # Predicted values."
   ]
  },
  {
   "cell_type": "code",
   "execution_count": 59,
   "metadata": {},
   "outputs": [
    {
     "data": {
      "text/plain": [
       "array([[0.33212565, 0.66787435],\n",
       "       [0.96661475, 0.03338525],\n",
       "       [0.06761832, 0.93238168],\n",
       "       ...,\n",
       "       [0.69879606, 0.30120394],\n",
       "       [0.57428533, 0.42571467],\n",
       "       [0.87199523, 0.12800477]])"
      ]
     },
     "execution_count": 59,
     "metadata": {},
     "output_type": "execute_result"
    }
   ],
   "source": [
    "#predict probas, graph it out, model.predict test, take one column\n",
    "pipe_lr.predict_proba(X_train)"
   ]
  },
  {
   "cell_type": "code",
   "execution_count": 60,
   "metadata": {},
   "outputs": [
    {
     "data": {
      "image/png": "[encoded data removed]",
      "text/plain": [
       "<Figure size 432x288 with 1 Axes>"
      ]
     },
     "metadata": {
      "needs_background": "light"
     },
     "output_type": "display_data"
    }
   ],
   "source": [
    "plt.hist(pipe_lr.predict_proba(X_train))\n",
    "plt.xlabel('Coefficient Values')\n",
    "plt.ylabel('Count')\n",
    "plt.title('Prediction Probabilities of Logistic Model')\n",
    "plt.savefig('../images/Prediction Probabilities of Logistic Model.png')"
   ]
  },
  {
   "cell_type": "code",
   "execution_count": 61,
   "metadata": {},
   "outputs": [
    {
     "data": {
      "text/plain": [
       "<bound method Pipeline.get_params of Pipeline(memory=None,\n",
       "         steps=[('cvec',\n",
       "                 CountVectorizer(analyzer='word', binary=False,\n",
       "                                 decode_error='strict',\n",
       "                                 dtype=<class 'numpy.int64'>, encoding='utf-8',\n",
       "                                 input='content', lowercase=True, max_df=0.98,\n",
       "                                 max_features=100, min_df=2, ngram_range=(1, 2),\n",
       "                                 preprocessor=None, stop_words='english',\n",
       "                                 strip_accents=None,\n",
       "                                 token_pattern='(?u)\\\\b\\\\w\\\\w+\\\\b',\n",
       "                                 tokenizer=None, vocabulary=None)),\n",
       "                ('lr',\n",
       "                 LogisticRegression(C=1.0, class_weight=None, dual=False,\n",
       "                                    fit_intercept=True, intercept_scaling=1,\n",
       "                                    l1_ratio=None, max_iter=100,\n",
       "                                    multi_class='warn', n_jobs=None,\n",
       "                                    penalty='l2', random_state=None,\n",
       "                                    solver='liblinear', tol=0.0001, verbose=0,\n",
       "                                    warm_start=False))],\n",
       "         verbose=False)>"
      ]
     },
     "execution_count": 61,
     "metadata": {},
     "output_type": "execute_result"
    }
   ],
   "source": [
    "pipe_lr.get_params"
   ]
  },
  {
   "cell_type": "code",
   "execution_count": 62,
   "metadata": {},
   "outputs": [],
   "source": [
    "pipe_params = {\n",
    "    'cvec__max_features': [2000, 3000, 4000, 5000],\n",
    "    'cvec__min_df': [2, 3],\n",
    "    'cvec__max_df': [.9, .95],\n",
    "    'cvec__ngram_range': [(1,1), (1,2)]\n",
    "}"
   ]
  },
  {
   "cell_type": "code",
   "execution_count": 63,
   "metadata": {},
   "outputs": [],
   "source": [
    "gs = GridSearchCV(pipe_lr, # what object are we optimizing?\n",
    "                  pipe_params, # what parameters values are we searching?\n",
    "                  cv=5) # 5-fold cross-validation."
   ]
  },
  {
   "cell_type": "code",
   "execution_count": 64,
   "metadata": {},
   "outputs": [
    {
     "data": {
      "text/plain": [
       "GridSearchCV(cv=5, error_score='raise-deprecating',\n",
       "             estimator=Pipeline(memory=None,\n",
       "                                steps=[('cvec',\n",
       "                                        CountVectorizer(analyzer='word',\n",
       "                                                        binary=False,\n",
       "                                                        decode_error='strict',\n",
       "                                                        dtype=<class 'numpy.int64'>,\n",
       "                                                        encoding='utf-8',\n",
       "                                                        input='content',\n",
       "                                                        lowercase=True,\n",
       "                                                        max_df=0.98,\n",
       "                                                        max_features=100,\n",
       "                                                        min_df=2,\n",
       "                                                        ngram_range=(1, 2),\n",
       "                                                        preprocessor=None,\n",
       "                                                        stop_words='english',\n",
       "                                                        strip_accents=Non...\n",
       "                                                           n_jobs=None,\n",
       "                                                           penalty='l2',\n",
       "                                                           random_state=None,\n",
       "                                                           solver='liblinear',\n",
       "                                                           tol=0.0001,\n",
       "                                                           verbose=0,\n",
       "                                                           warm_start=False))],\n",
       "                                verbose=False),\n",
       "             iid='warn', n_jobs=None,\n",
       "             param_grid={'cvec__max_df': [0.9, 0.95],\n",
       "                         'cvec__max_features': [2000, 3000, 4000, 5000],\n",
       "                         'cvec__min_df': [2, 3],\n",
       "                         'cvec__ngram_range': [(1, 1), (1, 2)]},\n",
       "             pre_dispatch='2*n_jobs', refit=True, return_train_score=False,\n",
       "             scoring=None, verbose=0)"
      ]
     },
     "execution_count": 64,
     "metadata": {},
     "output_type": "execute_result"
    }
   ],
   "source": [
    "gs.fit(X_train, y_train)"
   ]
  },
  {
   "cell_type": "code",
   "execution_count": 65,
   "metadata": {},
   "outputs": [
    {
     "data": {
      "text/plain": [
       "0.7460197119029568"
      ]
     },
     "execution_count": 65,
     "metadata": {},
     "output_type": "execute_result"
    }
   ],
   "source": [
    "gs.best_score_"
   ]
  },
  {
   "cell_type": "markdown",
   "metadata": {},
   "source": [
    "## Pipeline with MultinomialNB"
   ]
  },
  {
   "cell_type": "code",
   "execution_count": 66,
   "metadata": {},
   "outputs": [],
   "source": [
    "pipe_mnb = Pipeline([\n",
    "    ('cvec', CountVectorizer(stop_words='english',\n",
    "                             max_features=100,\n",
    "                             min_df=2,\n",
    "                             max_df= .98,\n",
    "                             ngram_range=(1,2))),\n",
    "    ('mnb', MultinomialNB())\n",
    "])"
   ]
  },
  {
   "cell_type": "code",
   "execution_count": 67,
   "metadata": {},
   "outputs": [
    {
     "data": {
      "text/plain": [
       "Pipeline(memory=None,\n",
       "         steps=[('cvec',\n",
       "                 CountVectorizer(analyzer='word', binary=False,\n",
       "                                 decode_error='strict',\n",
       "                                 dtype=<class 'numpy.int64'>, encoding='utf-8',\n",
       "                                 input='content', lowercase=True, max_df=0.98,\n",
       "                                 max_features=100, min_df=2, ngram_range=(1, 2),\n",
       "                                 preprocessor=None, stop_words='english',\n",
       "                                 strip_accents=None,\n",
       "                                 token_pattern='(?u)\\\\b\\\\w\\\\w+\\\\b',\n",
       "                                 tokenizer=None, vocabulary=None)),\n",
       "                ('mnb',\n",
       "                 MultinomialNB(alpha=1.0, class_prior=None, fit_prior=True))],\n",
       "         verbose=False)"
      ]
     },
     "execution_count": 67,
     "metadata": {},
     "output_type": "execute_result"
    }
   ],
   "source": [
    "pipe_mnb.fit(X_train,y_train)"
   ]
  },
  {
   "cell_type": "code",
   "execution_count": 68,
   "metadata": {},
   "outputs": [
    {
     "data": {
      "text/plain": [
       "0.7043214556482184"
      ]
     },
     "execution_count": 68,
     "metadata": {},
     "output_type": "execute_result"
    }
   ],
   "source": [
    "pipe_mnb.score(X_train,y_train)"
   ]
  },
  {
   "cell_type": "code",
   "execution_count": 69,
   "metadata": {},
   "outputs": [
    {
     "data": {
      "text/plain": [
       "0.6620583717357911"
      ]
     },
     "execution_count": 69,
     "metadata": {},
     "output_type": "execute_result"
    }
   ],
   "source": [
    "pipe_mnb.score(X_test,y_test)"
   ]
  },
  {
   "cell_type": "code",
   "execution_count": 70,
   "metadata": {},
   "outputs": [
    {
     "data": {
      "text/plain": [
       "array([[1.11104551e-01, 8.88895449e-01],\n",
       "       [9.99865498e-01, 1.34502201e-04],\n",
       "       [5.41414361e-04, 9.99458586e-01],\n",
       "       ...,\n",
       "       [8.44590258e-01, 1.55409742e-01],\n",
       "       [8.02195776e-01, 1.97804224e-01],\n",
       "       [9.77896305e-01, 2.21036950e-02]])"
      ]
     },
     "execution_count": 70,
     "metadata": {},
     "output_type": "execute_result"
    }
   ],
   "source": [
    "pipe_mnb.predict_proba(X_train)"
   ]
  },
  {
   "cell_type": "code",
   "execution_count": 71,
   "metadata": {},
   "outputs": [],
   "source": [
    "preds = mnb.predict(X_test_cv)"
   ]
  },
  {
   "cell_type": "code",
   "execution_count": 72,
   "metadata": {},
   "outputs": [
    {
     "data": {
      "text/plain": [
       "array([[1.11104551e-01, 8.88895449e-01],\n",
       "       [9.99865498e-01, 1.34502201e-04],\n",
       "       [5.41414361e-04, 9.99458586e-01],\n",
       "       ...,\n",
       "       [8.44590258e-01, 1.55409742e-01],\n",
       "       [8.02195776e-01, 1.97804224e-01],\n",
       "       [9.77896305e-01, 2.21036950e-02]])"
      ]
     },
     "execution_count": 72,
     "metadata": {},
     "output_type": "execute_result"
    }
   ],
   "source": [
    "pipe_mnb.predict_proba(X_train)"
   ]
  },
  {
   "cell_type": "code",
   "execution_count": 73,
   "metadata": {},
   "outputs": [
    {
     "data": {
      "image/png": "[encoded data removed]",
      "text/plain": [
       "<Figure size 432x288 with 1 Axes>"
      ]
     },
     "metadata": {
      "needs_background": "light"
     },
     "output_type": "display_data"
    }
   ],
   "source": [
    "plt.hist(pipe_mnb.predict_proba(X_train))\n",
    "plt.xlabel('Coefficient Values')\n",
    "plt.ylabel('Count')\n",
    "plt.title('Prediction Probabilities of Multinomial NB')\n",
    "plt.savefig('../images/Prediction Probabitlities of Multinomial NB.png')"
   ]
  },
  {
   "cell_type": "code",
   "execution_count": null,
   "metadata": {},
   "outputs": [],
   "source": []
  },
  {
   "cell_type": "code",
   "execution_count": 92,
   "metadata": {},
   "outputs": [],
   "source": [
    "X = rel_dat['selftext']\n",
    "y = rel_dat['subreddit']"
   ]
  },
  {
   "cell_type": "code",
   "execution_count": 93,
   "metadata": {},
   "outputs": [],
   "source": [
    "xt, xv, yt, yv = train_test_split(X, y, \n",
    "                                  random_state=42, \n",
    "                                  test_size=.25)"
   ]
  },
  {
   "cell_type": "code",
   "execution_count": 95,
   "metadata": {},
   "outputs": [],
   "source": [
    "from sklearn.pipeline import make_pipeline\n",
    "from sklearn.feature_extraction.text import (TfidfVectorizer, \n",
    "                                             CountVectorizer)"
   ]
  },
  {
   "cell_type": "code",
   "execution_count": 97,
   "metadata": {},
   "outputs": [],
   "source": [
    "model = make_pipeline(\n",
    "    CountVectorizer(stop_words='english',\n",
    "                             max_features=100,\n",
    "                             min_df=2,\n",
    "                             max_df= .98,\n",
    "                             ngram_range=(1,2)),\n",
    "    MultinomialNB()\n",
    ")"
   ]
  },
  {
   "cell_type": "code",
   "execution_count": 98,
   "metadata": {},
   "outputs": [],
   "source": [
    "model.fit(xt, yt);"
   ]
  },
  {
   "cell_type": "code",
   "execution_count": 99,
   "metadata": {},
   "outputs": [
    {
     "data": {
      "text/plain": [
       "array([1])"
      ]
     },
     "execution_count": 99,
     "metadata": {},
     "output_type": "execute_result"
    }
   ],
   "source": [
    "model.predict(np.array(['Teng is cool']))"
   ]
  },
  {
   "cell_type": "code",
   "execution_count": 100,
   "metadata": {},
   "outputs": [
    {
     "data": {
      "text/plain": [
       "array([[0.49221395, 0.50778605]])"
      ]
     },
     "execution_count": 100,
     "metadata": {},
     "output_type": "execute_result"
    }
   ],
   "source": [
    "model.predict_proba(np.array(['Teng is cool']))"
   ]
  },
  {
   "cell_type": "code",
   "execution_count": 101,
   "metadata": {},
   "outputs": [],
   "source": [
    "import pickle"
   ]
  },
  {
   "cell_type": "code",
   "execution_count": 102,
   "metadata": {},
   "outputs": [
    {
     "name": "stdout",
     "output_type": "stream",
     "text": [
      "total 552\r\n",
      "280 Project 3 API and NLP Subreddit-Copy1.ipynb\r\n",
      "272 Project 3 API and NLP Subreddit.ipynb\r\n"
     ]
    }
   ],
   "source": [
    "!ls -s"
   ]
  },
  {
   "cell_type": "code",
   "execution_count": 110,
   "metadata": {},
   "outputs": [],
   "source": [
    "model_fn = 'badtri.pickle'\n",
    "\n",
    "with open(model_fn, 'wb') as f:\n",
    "    pickle.dump(model, f)"
   ]
  },
  {
   "cell_type": "code",
   "execution_count": 111,
   "metadata": {},
   "outputs": [
    {
     "name": "stdout",
     "output_type": "stream",
     "text": [
      "total 9856\r\n",
      " 288 Project 3 API and NLP Subreddit-Copy1.ipynb\r\n",
      " 272 Project 3 API and NLP Subreddit.ipynb\r\n",
      "4648 badtri.pickle\r\n",
      "4648 wsutt.pickle\r\n"
     ]
    }
   ],
   "source": [
    "!ls -s "
   ]
  },
  {
   "cell_type": "code",
   "execution_count": 105,
   "metadata": {},
   "outputs": [],
   "source": [
    "with open(model_fn, 'rb') as f:\n",
    "    loaded_model = pickle.load(f)"
   ]
  },
  {
   "cell_type": "code",
   "execution_count": 106,
   "metadata": {},
   "outputs": [
    {
     "data": {
      "text/plain": [
       "array([0, 1])"
      ]
     },
     "execution_count": 106,
     "metadata": {},
     "output_type": "execute_result"
    }
   ],
   "source": [
    "loaded_model.classes_"
   ]
  },
  {
   "cell_type": "code",
   "execution_count": 107,
   "metadata": {},
   "outputs": [
    {
     "data": {
      "text/plain": [
       "array([[0.27386611, 0.72613389]])"
      ]
     },
     "execution_count": 107,
     "metadata": {},
     "output_type": "execute_result"
    }
   ],
   "source": [
    "test_obs = '''\n",
    "Did the Russian spacecraft(s) on the ill-fated Phobos mission a few\n",
    "years ago send back any images of the Martian moon?  If so, does anyone know if\n",
    "they're housed at an ftp site?\n",
    "  Thanks.\n",
    "'''\n",
    "\n",
    "loaded_model.predict_proba(np.array([test_obs]))"
   ]
  },
  {
   "cell_type": "code",
   "execution_count": 108,
   "metadata": {},
   "outputs": [
    {
     "data": {
      "text/plain": [
       "array([[0.27386611, 0.72613389]])"
      ]
     },
     "execution_count": 108,
     "metadata": {},
     "output_type": "execute_result"
    }
   ],
   "source": [
    "my_test_str = 'I smell' \n",
    "\n",
    "loaded_model.predict_proba(np.array([test_obs]))"
   ]
  },
  {
   "cell_type": "code",
   "execution_count": 109,
   "metadata": {},
   "outputs": [
    {
     "name": "stdout",
     "output_type": "stream",
     "text": [
      "276 µs ± 25.5 µs per loop (mean ± std. dev. of 7 runs, 1000 loops each)\n"
     ]
    }
   ],
   "source": [
    "%%timeit\n",
    "yhat = loaded_model.predict_proba(np.array([test_obs]))[0][1]"
   ]
  },
  {
   "cell_type": "code",
   "execution_count": null,
   "metadata": {},
   "outputs": [],
   "source": []
  }
 ],
 "metadata": {
  "kernelspec": {
   "display_name": "Python 3",
   "language": "python",
   "name": "python3"
  },
  "language_info": {
   "codemirror_mode": {
    "name": "ipython",
    "version": 3
   },
   "file_extension": ".py",
   "mimetype": "text/x-python",
   "name": "python",
   "nbconvert_exporter": "python",
   "pygments_lexer": "ipython3",
   "version": "3.7.4"
  }
 },
 "nbformat": 4,
 "nbformat_minor": 2
}
