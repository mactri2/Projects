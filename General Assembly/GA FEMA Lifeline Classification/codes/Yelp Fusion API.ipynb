{
 "cells": [
  {
   "cell_type": "markdown",
   "metadata": {},
   "source": [
    "# Goal"
   ]
  },
  {
   "cell_type": "markdown",
   "metadata": {},
   "source": [
    "Utilizing Yelp data to estimate the number of businesses in a given locality and categorize them by lifeline"
   ]
  },
  {
   "cell_type": "markdown",
   "metadata": {},
   "source": [
    "Will's notes\n",
    "Population density\n",
    "15% create\n",
    "30% limitation\n",
    "\n"
   ]
  },
  {
   "cell_type": "markdown",
   "metadata": {},
   "source": [
    "## Problem"
   ]
  },
  {
   "cell_type": "markdown",
   "metadata": {},
   "source": [
    "Problem 8: Utilizing Yelp data to estimate the number of businesses in a given locality and categorizing them according to FEMA's seven lifelines\n",
    "\n",
    "Problem Statement: Prior to and during a disaster, it is important to understand the projected and actual effects of the event on the community, including its economic effects on critical services. FEMA has identified seven “lifelines” that require attention during a disaster:\n",
    "\n",
    "(1) Safety and Security\\\n",
    "(2) Food, Water, Sheltering\\\n",
    "(3) Health and Medical\\\n",
    "(4) Energy (power, fuel)\\\n",
    "(5) Communications\\\n",
    "(6) Transportation\\\n",
    "(7) Hazardous Waste\n",
    "\n",
    "This tool will utilize Yelp to estimate the effects of the event on each of the seven lifelines. This can include the number of businesses or services in each category or even, if available, their status (if provided by users and reviews in Yelp). The tool will search for relevant data and categorize it according to a list of impacted neighborhoods or a list of affected zip codes. It will provide an estimation of the potential impact of the event, at least according to the data available in Yelp."
   ]
  },
  {
   "cell_type": "markdown",
   "metadata": {},
   "source": [
    "## Imports"
   ]
  },
  {
   "cell_type": "code",
   "execution_count": 1,
   "metadata": {},
   "outputs": [
    {
     "name": "stderr",
     "output_type": "stream",
     "text": [
      "[nltk_data] Downloading package stopwords to\n",
      "[nltk_data]     /Users/tringuyen/nltk_data...\n",
      "[nltk_data]   Package stopwords is already up-to-date!\n"
     ]
    }
   ],
   "source": [
    "import requests\n",
    "import json\n",
    "\n",
    "import pandas as pd\n",
    "import numpy as np\n",
    "import seaborn as sns\n",
    "import matplotlib as mpl\n",
    "import matplotlib.pyplot as plt\n",
    "\n",
    "from bs4 import BeautifulSoup\n",
    "\n",
    "import time\n",
    "\n",
    "import regex as re\n",
    "\n",
    "from nltk.stem import WordNetLemmatizer\n",
    "from nltk.tokenize import RegexpTokenizer\n",
    "import nltk\n",
    "nltk.download('stopwords')\n",
    "from nltk.corpus import stopwords\n",
    "\n",
    "from sklearn.model_selection import train_test_split, cross_val_score, GridSearchCV\n",
    "from sklearn.pipeline import Pipeline\n",
    "from sklearn.linear_model import LogisticRegression\n",
    "from sklearn.feature_extraction.text import CountVectorizer, TfidfVectorizer\n",
    "from sklearn.feature_extraction import stop_words\n",
    "\n",
    "from sklearn import preprocessing\n",
    "\n",
    "from sklearn.feature_selection import RFE\n",
    "from sklearn.feature_selection import SelectKBest\n",
    "from sklearn.feature_selection import chi2\n",
    "\n",
    "from sklearn.ensemble import ExtraTreesClassifier\n",
    "\n",
    "from sklearn.metrics import confusion_matrix\n",
    "\n",
    "#from sklearn.naive_bayes import CategoricalNB\n",
    "from sklearn.naive_bayes import GaussianNB\n",
    "from sklearn.naive_bayes import MultinomialNB\n",
    "\n",
    "%matplotlib inline"
   ]
  },
  {
   "cell_type": "markdown",
   "metadata": {},
   "source": [
    "## Yelp Fushion API"
   ]
  },
  {
   "cell_type": "code",
   "execution_count": 2,
   "metadata": {},
   "outputs": [],
   "source": [
    "api_key='OEwJjivomfYJlF4fY7s8ShrogVV8EFF11Um66hxN2hRpsDE5YgF5qeyVLOkOMY32sRDSXW7mfdC1amhjE1IhCjyqEhwNwjudYL82aH4jCjM-wqp6GR46OR3HmDk7XnYx'\n",
    "headers = {'Authorization': 'Bearer %s' % api_key}\n"
   ]
  },
  {
   "cell_type": "markdown",
   "metadata": {},
   "source": [
    "## (1) Safety & Security"
   ]
  },
  {
   "cell_type": "code",
   "execution_count": 3,
   "metadata": {},
   "outputs": [],
   "source": [
    "url='https://api.yelp.com/v3/businesses/search'\n",
    "\n",
    "# In the dictionary, term can take values like food, cafes or businesses like McDonalds\n",
    "#https://www.yelp.com/developers/documentation/v3/all_category_list --Categories param\n",
    "#https://www.yelp.com/developers/documentation/v3/business_search --Param\n",
    "params_safety = {'categories':['firedepartments','policedepartments'],\n",
    "                 'location':'Boston',\n",
    "                 'limit': 50,\n",
    "                 'radius':40000\n",
    "                }\n"
   ]
  },
  {
   "cell_type": "code",
   "execution_count": 4,
   "metadata": {},
   "outputs": [
    {
     "name": "stdout",
     "output_type": "stream",
     "text": [
      "The status code is 200\n"
     ]
    }
   ],
   "source": [
    "# Making a get request to the API\n",
    "req=requests.get(url, params_safety, headers=headers)\n",
    "# proceed only if the status code is 200\n",
    "print('The status code is {}'.format(req.status_code))"
   ]
  },
  {
   "cell_type": "code",
   "execution_count": 5,
   "metadata": {},
   "outputs": [
    {
     "data": {
      "text/plain": [
       "18"
      ]
     },
     "execution_count": 5,
     "metadata": {},
     "output_type": "execute_result"
    }
   ],
   "source": [
    "data = req.json()\n",
    "posts_safety = data['businesses']\n",
    "len(posts_safety)"
   ]
  },
  {
   "cell_type": "markdown",
   "metadata": {},
   "source": [
    "## For Loop to Extract Name and Category of Each Business"
   ]
  },
  {
   "cell_type": "code",
   "execution_count": 6,
   "metadata": {},
   "outputs": [
    {
     "data": {
      "text/plain": [
       "42.3699354188619"
      ]
     },
     "execution_count": 6,
     "metadata": {},
     "output_type": "execute_result"
    }
   ],
   "source": [
    "posts_safety[1]['coordinates']['latitude']"
   ]
  },
  {
   "cell_type": "code",
   "execution_count": 7,
   "metadata": {},
   "outputs": [],
   "source": [
    "names = []\n",
    "categories = []\n",
    "latitude = []\n",
    "longitude = []\n",
    "zipcode = []\n",
    "\n",
    "for i in range(len(posts_safety)):\n",
    "    names.append(posts_safety[i]['name'])\n",
    "    categories.append(posts_safety[i]['categories'][0]['alias'])\n",
    "    latitude.append(posts_safety[i]['coordinates']['latitude'])\n",
    "    longitude.append(posts_safety[i]['coordinates']['longitude'])\n",
    "    zipcode.append(posts_safety[i]['location']['zip_code'])"
   ]
  },
  {
   "cell_type": "markdown",
   "metadata": {},
   "source": [
    "## Create a Dataframe for the Lifeline 1 Businesses"
   ]
  },
  {
   "cell_type": "code",
   "execution_count": 15,
   "metadata": {},
   "outputs": [],
   "source": [
    "df_safety = pd.DataFrame(columns=['Business', 'Category'])\n",
    "df_safety['Business'] = names\n",
    "df_safety['Category'] = categories\n",
    "df_safety['Lifeline'] = 1\n",
    "df_safety['Latitude'] = latitude\n",
    "df_safety['Longitude'] = longitude\n",
    "df_safety['Zipcode']= zipcode"
   ]
  },
  {
   "cell_type": "code",
   "execution_count": 16,
   "metadata": {},
   "outputs": [
    {
     "data": {
      "text/html": [
       "<div>\n",
       "<style scoped>\n",
       "    .dataframe tbody tr th:only-of-type {\n",
       "        vertical-align: middle;\n",
       "    }\n",
       "\n",
       "    .dataframe tbody tr th {\n",
       "        vertical-align: top;\n",
       "    }\n",
       "\n",
       "    .dataframe thead th {\n",
       "        text-align: right;\n",
       "    }\n",
       "</style>\n",
       "<table border=\"1\" class=\"dataframe\">\n",
       "  <thead>\n",
       "    <tr style=\"text-align: right;\">\n",
       "      <th></th>\n",
       "      <th>Business</th>\n",
       "      <th>Category</th>\n",
       "      <th>Lifeline</th>\n",
       "      <th>Latitude</th>\n",
       "      <th>Longitude</th>\n",
       "      <th>Zipcode</th>\n",
       "    </tr>\n",
       "  </thead>\n",
       "  <tbody>\n",
       "    <tr>\n",
       "      <th>0</th>\n",
       "      <td>Boston Police Department</td>\n",
       "      <td>policedepartments</td>\n",
       "      <td>1</td>\n",
       "      <td>42.361798</td>\n",
       "      <td>-71.060297</td>\n",
       "      <td>02114</td>\n",
       "    </tr>\n",
       "    <tr>\n",
       "      <th>1</th>\n",
       "      <td>Harvard University Police Department</td>\n",
       "      <td>policedepartments</td>\n",
       "      <td>1</td>\n",
       "      <td>42.369935</td>\n",
       "      <td>-71.112013</td>\n",
       "      <td>02138</td>\n",
       "    </tr>\n",
       "    <tr>\n",
       "      <th>2</th>\n",
       "      <td>Boston Police Headquarters</td>\n",
       "      <td>policedepartments</td>\n",
       "      <td>1</td>\n",
       "      <td>42.334077</td>\n",
       "      <td>-71.090885</td>\n",
       "      <td>02120</td>\n",
       "    </tr>\n",
       "    <tr>\n",
       "      <th>3</th>\n",
       "      <td>Somerville Fire Department</td>\n",
       "      <td>firedepartments</td>\n",
       "      <td>1</td>\n",
       "      <td>42.390857</td>\n",
       "      <td>-71.091024</td>\n",
       "      <td>02145</td>\n",
       "    </tr>\n",
       "    <tr>\n",
       "      <th>4</th>\n",
       "      <td>Cambridge Police Department</td>\n",
       "      <td>policedepartments</td>\n",
       "      <td>1</td>\n",
       "      <td>42.367260</td>\n",
       "      <td>-71.086151</td>\n",
       "      <td>02141</td>\n",
       "    </tr>\n",
       "  </tbody>\n",
       "</table>\n",
       "</div>"
      ],
      "text/plain": [
       "                               Business           Category  Lifeline  \\\n",
       "0              Boston Police Department  policedepartments         1   \n",
       "1  Harvard University Police Department  policedepartments         1   \n",
       "2            Boston Police Headquarters  policedepartments         1   \n",
       "3            Somerville Fire Department    firedepartments         1   \n",
       "4           Cambridge Police Department  policedepartments         1   \n",
       "\n",
       "    Latitude  Longitude Zipcode  \n",
       "0  42.361798 -71.060297   02114  \n",
       "1  42.369935 -71.112013   02138  \n",
       "2  42.334077 -71.090885   02120  \n",
       "3  42.390857 -71.091024   02145  \n",
       "4  42.367260 -71.086151   02141  "
      ]
     },
     "execution_count": 16,
     "metadata": {},
     "output_type": "execute_result"
    }
   ],
   "source": [
    "df_safety.head()"
   ]
  },
  {
   "cell_type": "code",
   "execution_count": 17,
   "metadata": {},
   "outputs": [],
   "source": [
    "df_safety.to_csv('../datasets/safety_df.csv',index=False)"
   ]
  },
  {
   "cell_type": "markdown",
   "metadata": {},
   "source": [
    "#### <i>Repeat Process for the Remaining Lifelines"
   ]
  },
  {
   "cell_type": "markdown",
   "metadata": {},
   "source": [
    "## (2) Food, Water, Sheltering\n"
   ]
  },
  {
   "cell_type": "code",
   "execution_count": 18,
   "metadata": {},
   "outputs": [],
   "source": [
    "params_food_shelter = {'categories':['foodbanks',\n",
    "                                     'animalshelters',\n",
    "                                    'homelessshelters',\n",
    "                                    'communitycenters'],\n",
    "                       'location':'Boston',\n",
    "                       'limit': 50,\n",
    "                       'radius':40000}\n"
   ]
  },
  {
   "cell_type": "code",
   "execution_count": 19,
   "metadata": {
    "scrolled": true
   },
   "outputs": [
    {
     "name": "stdout",
     "output_type": "stream",
     "text": [
      "The status code is 200\n"
     ]
    }
   ],
   "source": [
    "req=requests.get(url, params_food_shelter, headers=headers)\n",
    "\n",
    "# proceed only if the status code is 200\n",
    "print('The status code is {}'.format(req.status_code))"
   ]
  },
  {
   "cell_type": "code",
   "execution_count": 20,
   "metadata": {},
   "outputs": [
    {
     "data": {
      "text/plain": [
       "28"
      ]
     },
     "execution_count": 20,
     "metadata": {},
     "output_type": "execute_result"
    }
   ],
   "source": [
    "data = req.json()\n",
    "posts_food_shelter = data['businesses']\n",
    "len(posts_food_shelter)"
   ]
  },
  {
   "cell_type": "code",
   "execution_count": 22,
   "metadata": {},
   "outputs": [],
   "source": [
    "names = []\n",
    "categories = []\n",
    "latitude = []\n",
    "longitude = []\n",
    "zipcode = []\n",
    "for i in range(len(posts_food_shelter)):\n",
    "    names.append(posts_food_shelter[i]['name'])\n",
    "    categories.append(posts_food_shelter[i]['categories'][0]['alias'])\n",
    "    latitude.append(posts_food_shelter[i]['coordinates']['latitude'])\n",
    "    longitude.append(posts_food_shelter[i]['coordinates']['longitude'])\n",
    "    zipcode.append(posts_food_shelter[i]['location']['zip_code'])"
   ]
  },
  {
   "cell_type": "code",
   "execution_count": 23,
   "metadata": {},
   "outputs": [
    {
     "data": {
      "text/html": [
       "<div>\n",
       "<style scoped>\n",
       "    .dataframe tbody tr th:only-of-type {\n",
       "        vertical-align: middle;\n",
       "    }\n",
       "\n",
       "    .dataframe tbody tr th {\n",
       "        vertical-align: top;\n",
       "    }\n",
       "\n",
       "    .dataframe thead th {\n",
       "        text-align: right;\n",
       "    }\n",
       "</style>\n",
       "<table border=\"1\" class=\"dataframe\">\n",
       "  <thead>\n",
       "    <tr style=\"text-align: right;\">\n",
       "      <th></th>\n",
       "      <th>Business</th>\n",
       "      <th>Category</th>\n",
       "      <th>Lifeline</th>\n",
       "      <th>Latitude</th>\n",
       "      <th>Longitude</th>\n",
       "      <th>Zipcode</th>\n",
       "    </tr>\n",
       "  </thead>\n",
       "  <tbody>\n",
       "    <tr>\n",
       "      <th>0</th>\n",
       "      <td>MSPCA Angell</td>\n",
       "      <td>vet</td>\n",
       "      <td>2</td>\n",
       "      <td>42.323087</td>\n",
       "      <td>-71.111216</td>\n",
       "      <td>02130</td>\n",
       "    </tr>\n",
       "    <tr>\n",
       "      <th>1</th>\n",
       "      <td>Animal Rescue League of Boston</td>\n",
       "      <td>animalshelters</td>\n",
       "      <td>2</td>\n",
       "      <td>42.347221</td>\n",
       "      <td>-71.070002</td>\n",
       "      <td>02116</td>\n",
       "    </tr>\n",
       "    <tr>\n",
       "      <th>2</th>\n",
       "      <td>Greater Boston Food Bank</td>\n",
       "      <td>foodbanks</td>\n",
       "      <td>2</td>\n",
       "      <td>42.334230</td>\n",
       "      <td>-71.065660</td>\n",
       "      <td>02118</td>\n",
       "    </tr>\n",
       "    <tr>\n",
       "      <th>3</th>\n",
       "      <td>Ellen M Gifford Cat Shelter</td>\n",
       "      <td>animalshelters</td>\n",
       "      <td>2</td>\n",
       "      <td>42.341650</td>\n",
       "      <td>-71.167620</td>\n",
       "      <td>02135</td>\n",
       "    </tr>\n",
       "    <tr>\n",
       "      <th>4</th>\n",
       "      <td>Center for Arts at the Armory</td>\n",
       "      <td>venues</td>\n",
       "      <td>2</td>\n",
       "      <td>42.389736</td>\n",
       "      <td>-71.105905</td>\n",
       "      <td>02143</td>\n",
       "    </tr>\n",
       "  </tbody>\n",
       "</table>\n",
       "</div>"
      ],
      "text/plain": [
       "                         Business        Category  Lifeline   Latitude  \\\n",
       "0                    MSPCA Angell             vet         2  42.323087   \n",
       "1  Animal Rescue League of Boston  animalshelters         2  42.347221   \n",
       "2        Greater Boston Food Bank       foodbanks         2  42.334230   \n",
       "3     Ellen M Gifford Cat Shelter  animalshelters         2  42.341650   \n",
       "4   Center for Arts at the Armory          venues         2  42.389736   \n",
       "\n",
       "   Longitude Zipcode  \n",
       "0 -71.111216   02130  \n",
       "1 -71.070002   02116  \n",
       "2 -71.065660   02118  \n",
       "3 -71.167620   02135  \n",
       "4 -71.105905   02143  "
      ]
     },
     "execution_count": 23,
     "metadata": {},
     "output_type": "execute_result"
    }
   ],
   "source": [
    "df_food_shelter = pd.DataFrame(columns = ['Business', 'Category'])\n",
    "df_food_shelter['Business'] = names\n",
    "df_food_shelter['Category'] = categories\n",
    "df_food_shelter['Lifeline'] = 2\n",
    "df_food_shelter['Latitude'] = latitude\n",
    "df_food_shelter['Longitude'] = longitude\n",
    "df_food_shelter['Zipcode'] = zipcode\n",
    "df_food_shelter.head()"
   ]
  },
  {
   "cell_type": "code",
   "execution_count": 24,
   "metadata": {},
   "outputs": [
    {
     "data": {
      "text/plain": [
       "(28, 6)"
      ]
     },
     "execution_count": 24,
     "metadata": {},
     "output_type": "execute_result"
    }
   ],
   "source": [
    "df_food_shelter.shape"
   ]
  },
  {
   "cell_type": "code",
   "execution_count": 25,
   "metadata": {},
   "outputs": [],
   "source": [
    "df_food_shelter.to_csv('../datasets/food_shelter_df.csv',index=False)"
   ]
  },
  {
   "cell_type": "markdown",
   "metadata": {},
   "source": [
    "## (3) Health and Medical\n"
   ]
  },
  {
   "cell_type": "code",
   "execution_count": 26,
   "metadata": {},
   "outputs": [],
   "source": [
    "params_health_medical = {'categories':['emergencymedicine',\n",
    "                                    'emergencyrooms',\n",
    "                                    'hospitals',\n",
    "                                      'medcenters'],\n",
    "                       'location':'Boston',\n",
    "                       'limit': 50,\n",
    "                       'radius':40000\n",
    "                        }"
   ]
  },
  {
   "cell_type": "code",
   "execution_count": 27,
   "metadata": {},
   "outputs": [
    {
     "name": "stdout",
     "output_type": "stream",
     "text": [
      "The status code is 200\n"
     ]
    }
   ],
   "source": [
    "req=requests.get(url, params_health_medical, headers=headers)\n",
    "\n",
    "# proceed only if the status code is 200\n",
    "print('The status code is {}'.format(req.status_code))"
   ]
  },
  {
   "cell_type": "code",
   "execution_count": 28,
   "metadata": {},
   "outputs": [
    {
     "data": {
      "text/plain": [
       "50"
      ]
     },
     "execution_count": 28,
     "metadata": {},
     "output_type": "execute_result"
    }
   ],
   "source": [
    "data = req.json()\n",
    "posts_health_medical = data['businesses']\n",
    "len(posts_health_medical)"
   ]
  },
  {
   "cell_type": "code",
   "execution_count": 29,
   "metadata": {},
   "outputs": [],
   "source": [
    "names = []\n",
    "categories = []\n",
    "latitude = []\n",
    "longitude = []\n",
    "zipcode = []\n",
    "for i in range(len(posts_health_medical)):\n",
    "    names.append(posts_health_medical[i]['name'])\n",
    "    categories.append(posts_health_medical[i]['categories'][0]['alias'])\n",
    "    latitude.append(posts_health_medical[i]['coordinates']['latitude'])\n",
    "    longitude.append(posts_health_medical[i]['coordinates']['longitude'])\n",
    "    zipcode.append(posts_health_medical[i]['location']['zip_code'])"
   ]
  },
  {
   "cell_type": "markdown",
   "metadata": {},
   "source": [
    "### Lifeline 3 - Health and Medical Offset 50"
   ]
  },
  {
   "cell_type": "code",
   "execution_count": 30,
   "metadata": {},
   "outputs": [
    {
     "name": "stdout",
     "output_type": "stream",
     "text": [
      "The status code is 200\n"
     ]
    }
   ],
   "source": [
    "#added offset parameter\n",
    "params_health_medical = {'categories':['emergencymedicine',\n",
    "                                    'emergencyrooms',\n",
    "                                    'hospitals',\n",
    "                                      'medcenters'],\n",
    "                       'location':'Boston',\n",
    "                       'limit': 50,\n",
    "                       'radius':40000,\n",
    "                         'offset':50\n",
    "                        }\n",
    "\n",
    "req=requests.get(url, params_health_medical, headers=headers)\n",
    "\n",
    "# proceed only if the status code is 200\n",
    "print('The status code is {}'.format(req.status_code))"
   ]
  },
  {
   "cell_type": "code",
   "execution_count": 31,
   "metadata": {},
   "outputs": [
    {
     "data": {
      "text/plain": [
       "50"
      ]
     },
     "execution_count": 31,
     "metadata": {},
     "output_type": "execute_result"
    }
   ],
   "source": [
    "data = req.json()\n",
    "posts_health_medical = data['businesses']\n",
    "len(posts_health_medical)"
   ]
  },
  {
   "cell_type": "code",
   "execution_count": 32,
   "metadata": {},
   "outputs": [],
   "source": [
    "#add to created lists\n",
    "for i in range(len(posts_health_medical)):\n",
    "    names.append(posts_health_medical[i]['name'])\n",
    "    categories.append(posts_health_medical[i]['categories'][0]['alias'])\n",
    "    latitude.append(posts_health_medical[i]['coordinates']['latitude'])\n",
    "    longitude.append(posts_health_medical[i]['coordinates']['longitude'])\n",
    "    zipcode.append(posts_health_medical[i]['location']['zip_code'])"
   ]
  },
  {
   "cell_type": "code",
   "execution_count": 33,
   "metadata": {
    "scrolled": true
   },
   "outputs": [
    {
     "data": {
      "text/plain": [
       "100"
      ]
     },
     "execution_count": 33,
     "metadata": {},
     "output_type": "execute_result"
    }
   ],
   "source": [
    "len(names)"
   ]
  },
  {
   "cell_type": "markdown",
   "metadata": {},
   "source": [
    "### Lifeline 3 - Health and Medical Offset 100"
   ]
  },
  {
   "cell_type": "code",
   "execution_count": 34,
   "metadata": {},
   "outputs": [],
   "source": [
    "#offset = 100\n",
    "params_health_medical = {'categories':['emergencymedicine',\n",
    "                                    'emergencyrooms',\n",
    "                                    'hospitals',\n",
    "                                      'medcenters'],\n",
    "                       'location':'Boston',\n",
    "                       'limit': 50,\n",
    "                       'radius':40000,\n",
    "                         'offset':100\n",
    "                        }\n",
    "\n",
    "req=requests.get(url, params_health_medical, headers=headers)"
   ]
  },
  {
   "cell_type": "code",
   "execution_count": 35,
   "metadata": {},
   "outputs": [
    {
     "name": "stdout",
     "output_type": "stream",
     "text": [
      "The status code is 200\n"
     ]
    }
   ],
   "source": [
    "# proceed only if the status code is 200\n",
    "print('The status code is {}'.format(req.status_code))"
   ]
  },
  {
   "cell_type": "code",
   "execution_count": 36,
   "metadata": {},
   "outputs": [
    {
     "data": {
      "text/plain": [
       "50"
      ]
     },
     "execution_count": 36,
     "metadata": {},
     "output_type": "execute_result"
    }
   ],
   "source": [
    "data = req.json()\n",
    "posts_health_medical = data['businesses']\n",
    "len(posts_health_medical)"
   ]
  },
  {
   "cell_type": "code",
   "execution_count": 37,
   "metadata": {},
   "outputs": [],
   "source": [
    "for i in range(len(posts_health_medical)):\n",
    "    names.append(posts_health_medical[i]['name'])\n",
    "    categories.append(posts_health_medical[i]['categories'][0]['alias'])\n",
    "    latitude.append(posts_health_medical[i]['coordinates']['latitude'])\n",
    "    longitude.append(posts_health_medical[i]['coordinates']['longitude'])\n",
    "    zipcode.append(posts_health_medical[i]['location']['zip_code'])"
   ]
  },
  {
   "cell_type": "code",
   "execution_count": 38,
   "metadata": {},
   "outputs": [
    {
     "data": {
      "text/plain": [
       "150"
      ]
     },
     "execution_count": 38,
     "metadata": {},
     "output_type": "execute_result"
    }
   ],
   "source": [
    "len(names)"
   ]
  },
  {
   "cell_type": "markdown",
   "metadata": {},
   "source": [
    "### Lifeline 3 - Health and Medical Offset 150"
   ]
  },
  {
   "cell_type": "code",
   "execution_count": 39,
   "metadata": {},
   "outputs": [],
   "source": [
    "#offset = 150\n",
    "params_health_medical = {'categories':['emergencymedicine',\n",
    "                                    'emergencyrooms',\n",
    "                                    'hospitals',\n",
    "                                      'medcenters'],\n",
    "                       'location':'Boston',\n",
    "                       'limit': 50,\n",
    "                       'radius':40000,\n",
    "                         'offset':150\n",
    "                        }\n",
    "\n",
    "req=requests.get(url, params_health_medical, headers=headers)"
   ]
  },
  {
   "cell_type": "code",
   "execution_count": 40,
   "metadata": {},
   "outputs": [
    {
     "name": "stdout",
     "output_type": "stream",
     "text": [
      "The status code is 200\n"
     ]
    }
   ],
   "source": [
    "# proceed only if the status code is 200\n",
    "print('The status code is {}'.format(req.status_code))"
   ]
  },
  {
   "cell_type": "code",
   "execution_count": 41,
   "metadata": {},
   "outputs": [
    {
     "data": {
      "text/plain": [
       "50"
      ]
     },
     "execution_count": 41,
     "metadata": {},
     "output_type": "execute_result"
    }
   ],
   "source": [
    "len(posts_health_medical)"
   ]
  },
  {
   "cell_type": "code",
   "execution_count": 42,
   "metadata": {},
   "outputs": [],
   "source": [
    "for i in range(len(posts_health_medical)):\n",
    "    names.append(posts_health_medical[i]['name'])\n",
    "    categories.append(posts_health_medical[i]['categories'][0]['alias'])\n",
    "    latitude.append(posts_health_medical[i]['coordinates']['latitude'])\n",
    "    longitude.append(posts_health_medical[i]['coordinates']['longitude'])\n",
    "    zipcode.append(posts_health_medical[i]['location']['zip_code'])"
   ]
  },
  {
   "cell_type": "code",
   "execution_count": 43,
   "metadata": {},
   "outputs": [
    {
     "data": {
      "text/plain": [
       "200"
      ]
     },
     "execution_count": 43,
     "metadata": {},
     "output_type": "execute_result"
    }
   ],
   "source": [
    "len(names)"
   ]
  },
  {
   "cell_type": "markdown",
   "metadata": {},
   "source": [
    "### Lifeline 3 - Health and Medical Offset 200"
   ]
  },
  {
   "cell_type": "code",
   "execution_count": 44,
   "metadata": {},
   "outputs": [],
   "source": [
    "#offset = 200\n",
    "params_health_medical = {'categories':['emergencymedicine',\n",
    "                                    'emergencyrooms',\n",
    "                                    'hospitals',\n",
    "                                      'medcenters'],\n",
    "                       'location':'Boston',\n",
    "                       'limit': 50,\n",
    "                       'radius':40000,\n",
    "                         'offset':200\n",
    "                        }"
   ]
  },
  {
   "cell_type": "code",
   "execution_count": 45,
   "metadata": {},
   "outputs": [
    {
     "name": "stdout",
     "output_type": "stream",
     "text": [
      "The status code is 200\n"
     ]
    }
   ],
   "source": [
    "req=requests.get(url, params_health_medical, headers=headers)\n",
    "print('The status code is {}'.format(req.status_code))"
   ]
  },
  {
   "cell_type": "code",
   "execution_count": 46,
   "metadata": {},
   "outputs": [
    {
     "data": {
      "text/plain": [
       "50"
      ]
     },
     "execution_count": 46,
     "metadata": {},
     "output_type": "execute_result"
    }
   ],
   "source": [
    "len(posts_health_medical)"
   ]
  },
  {
   "cell_type": "code",
   "execution_count": 47,
   "metadata": {},
   "outputs": [],
   "source": [
    "for i in range(len(posts_health_medical)):\n",
    "    names.append(posts_health_medical[i]['name'])\n",
    "    categories.append(posts_health_medical[i]['categories'][0]['alias'])\n",
    "    latitude.append(posts_health_medical[i]['coordinates']['latitude'])\n",
    "    longitude.append(posts_health_medical[i]['coordinates']['longitude'])\n",
    "    zipcode.append(posts_health_medical[i]['location']['zip_code'])"
   ]
  },
  {
   "cell_type": "code",
   "execution_count": 48,
   "metadata": {},
   "outputs": [
    {
     "data": {
      "text/plain": [
       "250"
      ]
     },
     "execution_count": 48,
     "metadata": {},
     "output_type": "execute_result"
    }
   ],
   "source": [
    "len(names)"
   ]
  },
  {
   "cell_type": "markdown",
   "metadata": {},
   "source": [
    "### Lifeline 3 - Health and Medical Offset 250"
   ]
  },
  {
   "cell_type": "code",
   "execution_count": 49,
   "metadata": {},
   "outputs": [],
   "source": [
    "#offset = 250\n",
    "params_health_medical = {'categories':['emergencymedicine',\n",
    "                                    'emergencyrooms',\n",
    "                                    'hospitals',\n",
    "                                      'medcenters'],\n",
    "                       'location':'Boston',\n",
    "                       'limit': 50,\n",
    "                       'radius':40000,\n",
    "                         'offset':250\n",
    "                        }"
   ]
  },
  {
   "cell_type": "code",
   "execution_count": 50,
   "metadata": {},
   "outputs": [
    {
     "name": "stdout",
     "output_type": "stream",
     "text": [
      "The status code is 200\n"
     ]
    }
   ],
   "source": [
    "req=requests.get(url, params_health_medical, headers=headers)\n",
    "print('The status code is {}'.format(req.status_code))"
   ]
  },
  {
   "cell_type": "code",
   "execution_count": 51,
   "metadata": {},
   "outputs": [
    {
     "data": {
      "text/plain": [
       "50"
      ]
     },
     "execution_count": 51,
     "metadata": {},
     "output_type": "execute_result"
    }
   ],
   "source": [
    "len(posts_health_medical)"
   ]
  },
  {
   "cell_type": "code",
   "execution_count": 52,
   "metadata": {},
   "outputs": [],
   "source": [
    "for i in range(len(posts_health_medical)):\n",
    "    names.append(posts_health_medical[i]['name'])\n",
    "    categories.append(posts_health_medical[i]['categories'][0]['alias'])\n",
    "    latitude.append(posts_health_medical[i]['coordinates']['latitude'])\n",
    "    longitude.append(posts_health_medical[i]['coordinates']['longitude'])\n",
    "    zipcode.append(posts_health_medical[i]['location']['zip_code'])"
   ]
  },
  {
   "cell_type": "code",
   "execution_count": 53,
   "metadata": {},
   "outputs": [
    {
     "data": {
      "text/plain": [
       "300"
      ]
     },
     "execution_count": 53,
     "metadata": {},
     "output_type": "execute_result"
    }
   ],
   "source": [
    "len(names)"
   ]
  },
  {
   "cell_type": "markdown",
   "metadata": {},
   "source": [
    "### Lifeline 3 - Health and Medical Offset 300"
   ]
  },
  {
   "cell_type": "code",
   "execution_count": 54,
   "metadata": {},
   "outputs": [],
   "source": [
    "#offset = 300\n",
    "params_health_medical = {'categories':['emergencymedicine',\n",
    "                                    'emergencyrooms',\n",
    "                                    'hospitals',\n",
    "                                      'medcenters'],\n",
    "                       'location':'Boston',\n",
    "                       'limit': 50,\n",
    "                       'radius':40000,\n",
    "                         'offset':300\n",
    "                        }"
   ]
  },
  {
   "cell_type": "code",
   "execution_count": 55,
   "metadata": {},
   "outputs": [
    {
     "name": "stdout",
     "output_type": "stream",
     "text": [
      "The status code is 200\n"
     ]
    }
   ],
   "source": [
    "req=requests.get(url, params_health_medical, headers=headers)\n",
    "print('The status code is {}'.format(req.status_code))"
   ]
  },
  {
   "cell_type": "code",
   "execution_count": 56,
   "metadata": {},
   "outputs": [
    {
     "data": {
      "text/plain": [
       "50"
      ]
     },
     "execution_count": 56,
     "metadata": {},
     "output_type": "execute_result"
    }
   ],
   "source": [
    "len(posts_health_medical)"
   ]
  },
  {
   "cell_type": "code",
   "execution_count": 57,
   "metadata": {},
   "outputs": [],
   "source": [
    "for i in range(len(posts_health_medical)):\n",
    "    names.append(posts_health_medical[i]['name'])\n",
    "    categories.append(posts_health_medical[i]['categories'][0]['alias'])\n",
    "    latitude.append(posts_health_medical[i]['coordinates']['latitude'])\n",
    "    longitude.append(posts_health_medical[i]['coordinates']['longitude'])\n",
    "    zipcode.append(posts_health_medical[i]['location']['zip_code'])"
   ]
  },
  {
   "cell_type": "code",
   "execution_count": 58,
   "metadata": {},
   "outputs": [
    {
     "data": {
      "text/plain": [
       "350"
      ]
     },
     "execution_count": 58,
     "metadata": {},
     "output_type": "execute_result"
    }
   ],
   "source": [
    "len(names)"
   ]
  },
  {
   "cell_type": "markdown",
   "metadata": {},
   "source": [
    "### Lifeline 3 - Health and Medical Offset 350"
   ]
  },
  {
   "cell_type": "code",
   "execution_count": 59,
   "metadata": {},
   "outputs": [],
   "source": [
    "#offset = 350\n",
    "params_health_medical = {'categories':['emergencymedicine',\n",
    "                                    'emergencyrooms',\n",
    "                                    'hospitals',\n",
    "                                      'medcenters'],\n",
    "                       'location':'Boston',\n",
    "                       'limit': 50,\n",
    "                       'radius':40000,\n",
    "                         'offset':350\n",
    "                        }"
   ]
  },
  {
   "cell_type": "code",
   "execution_count": 60,
   "metadata": {},
   "outputs": [
    {
     "name": "stdout",
     "output_type": "stream",
     "text": [
      "The status code is 200\n"
     ]
    }
   ],
   "source": [
    "req=requests.get(url, params_health_medical, headers=headers)\n",
    "print('The status code is {}'.format(req.status_code))"
   ]
  },
  {
   "cell_type": "code",
   "execution_count": 61,
   "metadata": {},
   "outputs": [
    {
     "data": {
      "text/plain": [
       "50"
      ]
     },
     "execution_count": 61,
     "metadata": {},
     "output_type": "execute_result"
    }
   ],
   "source": [
    "len(posts_health_medical)"
   ]
  },
  {
   "cell_type": "code",
   "execution_count": 62,
   "metadata": {},
   "outputs": [],
   "source": [
    "for i in range(len(posts_health_medical)):\n",
    "    names.append(posts_health_medical[i]['name'])\n",
    "    categories.append(posts_health_medical[i]['categories'][0]['alias'])\n",
    "    latitude.append(posts_health_medical[i]['coordinates']['latitude'])\n",
    "    longitude.append(posts_health_medical[i]['coordinates']['longitude'])\n",
    "    zipcode.append(posts_health_medical[i]['location']['zip_code'])"
   ]
  },
  {
   "cell_type": "code",
   "execution_count": 63,
   "metadata": {},
   "outputs": [
    {
     "data": {
      "text/plain": [
       "400"
      ]
     },
     "execution_count": 63,
     "metadata": {},
     "output_type": "execute_result"
    }
   ],
   "source": [
    "len(names)"
   ]
  },
  {
   "cell_type": "markdown",
   "metadata": {},
   "source": [
    "### Lifeline 3 - Health and Medical Offset 400"
   ]
  },
  {
   "cell_type": "code",
   "execution_count": 64,
   "metadata": {},
   "outputs": [],
   "source": [
    "#offset = 400\n",
    "params_health_medical = {'categories':['emergencymedicine',\n",
    "                                    'emergencyrooms',\n",
    "                                    'hospitals',\n",
    "                                      'medcenters'],\n",
    "                       'location':'Boston',\n",
    "                       'limit': 50,\n",
    "                       'radius':40000,\n",
    "                         'offset':400\n",
    "                        }"
   ]
  },
  {
   "cell_type": "code",
   "execution_count": 65,
   "metadata": {},
   "outputs": [
    {
     "name": "stdout",
     "output_type": "stream",
     "text": [
      "The status code is 200\n"
     ]
    }
   ],
   "source": [
    "req=requests.get(url, params_health_medical, headers=headers)\n",
    "print('The status code is {}'.format(req.status_code))"
   ]
  },
  {
   "cell_type": "code",
   "execution_count": 66,
   "metadata": {},
   "outputs": [
    {
     "data": {
      "text/plain": [
       "50"
      ]
     },
     "execution_count": 66,
     "metadata": {},
     "output_type": "execute_result"
    }
   ],
   "source": [
    "len(posts_health_medical)"
   ]
  },
  {
   "cell_type": "code",
   "execution_count": 67,
   "metadata": {},
   "outputs": [],
   "source": [
    "for i in range(len(posts_health_medical)):\n",
    "    names.append(posts_health_medical[i]['name'])\n",
    "    categories.append(posts_health_medical[i]['categories'][0]['alias'])\n",
    "    latitude.append(posts_health_medical[i]['coordinates']['latitude'])\n",
    "    longitude.append(posts_health_medical[i]['coordinates']['longitude'])\n",
    "    zipcode.append(posts_health_medical[i]['location']['zip_code'])"
   ]
  },
  {
   "cell_type": "code",
   "execution_count": 68,
   "metadata": {},
   "outputs": [
    {
     "data": {
      "text/plain": [
       "450"
      ]
     },
     "execution_count": 68,
     "metadata": {},
     "output_type": "execute_result"
    }
   ],
   "source": [
    "len(names)"
   ]
  },
  {
   "cell_type": "markdown",
   "metadata": {},
   "source": [
    "### Lifeline 3 - Health and Medical Offset 450"
   ]
  },
  {
   "cell_type": "code",
   "execution_count": 69,
   "metadata": {},
   "outputs": [],
   "source": [
    "#offset = 450\n",
    "params_health_medical = {'categories':['emergencymedicine',\n",
    "                                    'emergencyrooms',\n",
    "                                    'hospitals',\n",
    "                                      'medcenters'],\n",
    "                       'location':'Boston',\n",
    "                       'limit': 50,\n",
    "                       'radius':40000,\n",
    "                         'offset':450\n",
    "                        }"
   ]
  },
  {
   "cell_type": "code",
   "execution_count": 70,
   "metadata": {},
   "outputs": [
    {
     "name": "stdout",
     "output_type": "stream",
     "text": [
      "The status code is 200\n"
     ]
    }
   ],
   "source": [
    "req=requests.get(url, params_health_medical, headers=headers)\n",
    "print('The status code is {}'.format(req.status_code))"
   ]
  },
  {
   "cell_type": "code",
   "execution_count": 71,
   "metadata": {},
   "outputs": [
    {
     "data": {
      "text/plain": [
       "50"
      ]
     },
     "execution_count": 71,
     "metadata": {},
     "output_type": "execute_result"
    }
   ],
   "source": [
    "len(posts_health_medical)"
   ]
  },
  {
   "cell_type": "code",
   "execution_count": 72,
   "metadata": {},
   "outputs": [],
   "source": [
    "for i in range(len(posts_health_medical)):\n",
    "    names.append(posts_health_medical[i]['name'])\n",
    "    categories.append(posts_health_medical[i]['categories'][0]['alias'])\n",
    "    latitude.append(posts_health_medical[i]['coordinates']['latitude'])\n",
    "    longitude.append(posts_health_medical[i]['coordinates']['longitude'])\n",
    "    zipcode.append(posts_health_medical[i]['location']['zip_code'])"
   ]
  },
  {
   "cell_type": "code",
   "execution_count": 73,
   "metadata": {},
   "outputs": [
    {
     "data": {
      "text/plain": [
       "500"
      ]
     },
     "execution_count": 73,
     "metadata": {},
     "output_type": "execute_result"
    }
   ],
   "source": [
    "len(names)"
   ]
  },
  {
   "cell_type": "markdown",
   "metadata": {},
   "source": [
    "### Lifeline 3 - Health and Medical Offset 500"
   ]
  },
  {
   "cell_type": "code",
   "execution_count": 74,
   "metadata": {},
   "outputs": [],
   "source": [
    "#offset = 500\n",
    "params_health_medical = {'categories':['emergencymedicine',\n",
    "                                    'emergencyrooms',\n",
    "                                    'hospitals',\n",
    "                                      'medcenters'],\n",
    "                       'location':'Boston',\n",
    "                       'limit': 50,\n",
    "                       'radius':40000,\n",
    "                         'offset':500\n",
    "                        }"
   ]
  },
  {
   "cell_type": "code",
   "execution_count": 75,
   "metadata": {},
   "outputs": [
    {
     "name": "stdout",
     "output_type": "stream",
     "text": [
      "The status code is 200\n"
     ]
    }
   ],
   "source": [
    "req=requests.get(url, params_health_medical, headers=headers)\n",
    "print('The status code is {}'.format(req.status_code))"
   ]
  },
  {
   "cell_type": "code",
   "execution_count": 76,
   "metadata": {},
   "outputs": [
    {
     "data": {
      "text/plain": [
       "50"
      ]
     },
     "execution_count": 76,
     "metadata": {},
     "output_type": "execute_result"
    }
   ],
   "source": [
    "len(posts_health_medical)"
   ]
  },
  {
   "cell_type": "code",
   "execution_count": 77,
   "metadata": {},
   "outputs": [],
   "source": [
    "for i in range(len(posts_health_medical)):\n",
    "    names.append(posts_health_medical[i]['name'])\n",
    "    categories.append(posts_health_medical[i]['categories'][0]['alias'])\n",
    "    latitude.append(posts_health_medical[i]['coordinates']['latitude'])\n",
    "    longitude.append(posts_health_medical[i]['coordinates']['longitude'])\n",
    "    zipcode.append(posts_health_medical[i]['location']['zip_code'])"
   ]
  },
  {
   "cell_type": "code",
   "execution_count": 78,
   "metadata": {},
   "outputs": [
    {
     "data": {
      "text/plain": [
       "550"
      ]
     },
     "execution_count": 78,
     "metadata": {},
     "output_type": "execute_result"
    }
   ],
   "source": [
    "len(names)"
   ]
  },
  {
   "cell_type": "markdown",
   "metadata": {},
   "source": [
    "### Lifeline 3 - Health and Medical Offset 550"
   ]
  },
  {
   "cell_type": "code",
   "execution_count": 79,
   "metadata": {},
   "outputs": [],
   "source": [
    "#offset = 550\n",
    "params_health_medical = {'categories':['emergencymedicine',\n",
    "                                    'emergencyrooms',\n",
    "                                    'hospitals',\n",
    "                                      'medcenters'],\n",
    "                       'location':'Boston',\n",
    "                       'limit': 50,\n",
    "                       'radius':40000,\n",
    "                         'offset':550\n",
    "                        }"
   ]
  },
  {
   "cell_type": "code",
   "execution_count": 80,
   "metadata": {},
   "outputs": [
    {
     "name": "stdout",
     "output_type": "stream",
     "text": [
      "The status code is 200\n"
     ]
    }
   ],
   "source": [
    "req=requests.get(url, params_health_medical, headers=headers)\n",
    "print('The status code is {}'.format(req.status_code))"
   ]
  },
  {
   "cell_type": "code",
   "execution_count": 81,
   "metadata": {},
   "outputs": [
    {
     "data": {
      "text/plain": [
       "50"
      ]
     },
     "execution_count": 81,
     "metadata": {},
     "output_type": "execute_result"
    }
   ],
   "source": [
    "len(posts_health_medical)"
   ]
  },
  {
   "cell_type": "code",
   "execution_count": 82,
   "metadata": {},
   "outputs": [],
   "source": [
    "for i in range(len(posts_health_medical)):\n",
    "    names.append(posts_health_medical[i]['name'])\n",
    "    categories.append(posts_health_medical[i]['categories'][0]['alias'])\n",
    "    latitude.append(posts_health_medical[i]['coordinates']['latitude'])\n",
    "    longitude.append(posts_health_medical[i]['coordinates']['longitude'])\n",
    "    zipcode.append(posts_health_medical[i]['location']['zip_code'])"
   ]
  },
  {
   "cell_type": "code",
   "execution_count": 83,
   "metadata": {},
   "outputs": [
    {
     "data": {
      "text/plain": [
       "600"
      ]
     },
     "execution_count": 83,
     "metadata": {},
     "output_type": "execute_result"
    }
   ],
   "source": [
    "len(names)"
   ]
  },
  {
   "cell_type": "markdown",
   "metadata": {},
   "source": [
    "### Lifeline 3 - Health and Medical Offset 600"
   ]
  },
  {
   "cell_type": "code",
   "execution_count": 84,
   "metadata": {},
   "outputs": [],
   "source": [
    "params_health_medical = {'categories':['emergencymedicine',\n",
    "                                    'emergencyrooms',\n",
    "                                    'hospitals',\n",
    "                                      'medcenters'],\n",
    "                       'location':'Boston',\n",
    "                       'limit': 50,\n",
    "                       'radius':40000,\n",
    "                         'offset':600\n",
    "                        }"
   ]
  },
  {
   "cell_type": "code",
   "execution_count": 85,
   "metadata": {},
   "outputs": [
    {
     "name": "stdout",
     "output_type": "stream",
     "text": [
      "The status code is 200\n"
     ]
    }
   ],
   "source": [
    "req=requests.get(url, params_health_medical, headers=headers)\n",
    "print('The status code is {}'.format(req.status_code))"
   ]
  },
  {
   "cell_type": "code",
   "execution_count": 86,
   "metadata": {},
   "outputs": [
    {
     "data": {
      "text/plain": [
       "50"
      ]
     },
     "execution_count": 86,
     "metadata": {},
     "output_type": "execute_result"
    }
   ],
   "source": [
    "len(posts_health_medical)"
   ]
  },
  {
   "cell_type": "code",
   "execution_count": 87,
   "metadata": {},
   "outputs": [],
   "source": [
    "for i in range(len(posts_health_medical)):\n",
    "    names.append(posts_health_medical[i]['name'])\n",
    "    categories.append(posts_health_medical[i]['categories'][0]['alias'])\n",
    "    latitude.append(posts_health_medical[i]['coordinates']['latitude'])\n",
    "    longitude.append(posts_health_medical[i]['coordinates']['longitude'])\n",
    "    zipcode.append(posts_health_medical[i]['location']['zip_code'])"
   ]
  },
  {
   "cell_type": "code",
   "execution_count": 88,
   "metadata": {},
   "outputs": [
    {
     "data": {
      "text/plain": [
       "650"
      ]
     },
     "execution_count": 88,
     "metadata": {},
     "output_type": "execute_result"
    }
   ],
   "source": [
    "len(names)"
   ]
  },
  {
   "cell_type": "markdown",
   "metadata": {},
   "source": [
    "### Lifeline 3 - Health and Medical Offset 650"
   ]
  },
  {
   "cell_type": "code",
   "execution_count": 89,
   "metadata": {},
   "outputs": [],
   "source": [
    "params_health_medical = {'categories':['emergencymedicine',\n",
    "                                    'emergencyrooms',\n",
    "                                    'hospitals',\n",
    "                                      'medcenters'],\n",
    "                       'location':'Boston',\n",
    "                       'limit': 50,\n",
    "                       'radius':40000,\n",
    "                         'offset':650\n",
    "                        }"
   ]
  },
  {
   "cell_type": "code",
   "execution_count": 90,
   "metadata": {},
   "outputs": [
    {
     "name": "stdout",
     "output_type": "stream",
     "text": [
      "The status code is 200\n"
     ]
    }
   ],
   "source": [
    "req=requests.get(url, params_health_medical, headers=headers)\n",
    "print('The status code is {}'.format(req.status_code))"
   ]
  },
  {
   "cell_type": "code",
   "execution_count": 91,
   "metadata": {},
   "outputs": [
    {
     "data": {
      "text/plain": [
       "50"
      ]
     },
     "execution_count": 91,
     "metadata": {},
     "output_type": "execute_result"
    }
   ],
   "source": [
    "len(posts_health_medical)"
   ]
  },
  {
   "cell_type": "code",
   "execution_count": 92,
   "metadata": {},
   "outputs": [],
   "source": [
    "for i in range(len(posts_health_medical)):\n",
    "    names.append(posts_health_medical[i]['name'])\n",
    "    categories.append(posts_health_medical[i]['categories'][0]['alias'])\n",
    "    latitude.append(posts_health_medical[i]['coordinates']['latitude'])\n",
    "    longitude.append(posts_health_medical[i]['coordinates']['longitude'])\n",
    "    zipcode.append(posts_health_medical[i]['location']['zip_code'])"
   ]
  },
  {
   "cell_type": "code",
   "execution_count": 93,
   "metadata": {},
   "outputs": [
    {
     "data": {
      "text/plain": [
       "700"
      ]
     },
     "execution_count": 93,
     "metadata": {},
     "output_type": "execute_result"
    }
   ],
   "source": [
    "len(names)"
   ]
  },
  {
   "cell_type": "markdown",
   "metadata": {},
   "source": [
    "### Lifeline 3 - Health and Medical Offset 700"
   ]
  },
  {
   "cell_type": "code",
   "execution_count": 94,
   "metadata": {},
   "outputs": [],
   "source": [
    "params_health_medical = {'categories':['emergencymedicine',\n",
    "                                    'emergencyrooms',\n",
    "                                    'hospitals',\n",
    "                                      'medcenters'],\n",
    "                       'location':'Boston',\n",
    "                       'limit': 50,\n",
    "                       'radius':40000,\n",
    "                         'offset':700\n",
    "                        }"
   ]
  },
  {
   "cell_type": "code",
   "execution_count": 95,
   "metadata": {},
   "outputs": [
    {
     "name": "stdout",
     "output_type": "stream",
     "text": [
      "The status code is 200\n"
     ]
    }
   ],
   "source": [
    "req=requests.get(url, params_health_medical, headers=headers)\n",
    "print('The status code is {}'.format(req.status_code))"
   ]
  },
  {
   "cell_type": "code",
   "execution_count": 96,
   "metadata": {},
   "outputs": [
    {
     "data": {
      "text/plain": [
       "50"
      ]
     },
     "execution_count": 96,
     "metadata": {},
     "output_type": "execute_result"
    }
   ],
   "source": [
    "len(posts_health_medical)"
   ]
  },
  {
   "cell_type": "code",
   "execution_count": 97,
   "metadata": {},
   "outputs": [],
   "source": [
    "for i in range(len(posts_health_medical)):\n",
    "    names.append(posts_health_medical[i]['name'])\n",
    "    categories.append(posts_health_medical[i]['categories'][0]['alias'])\n",
    "    latitude.append(posts_health_medical[i]['coordinates']['latitude'])\n",
    "    longitude.append(posts_health_medical[i]['coordinates']['longitude'])\n",
    "    zipcode.append(posts_health_medical[i]['location']['zip_code'])"
   ]
  },
  {
   "cell_type": "code",
   "execution_count": 98,
   "metadata": {},
   "outputs": [
    {
     "data": {
      "text/plain": [
       "750"
      ]
     },
     "execution_count": 98,
     "metadata": {},
     "output_type": "execute_result"
    }
   ],
   "source": [
    "len(names)"
   ]
  },
  {
   "cell_type": "markdown",
   "metadata": {},
   "source": [
    "### Lifeline 3 - Health and Medical Offset 750"
   ]
  },
  {
   "cell_type": "code",
   "execution_count": 99,
   "metadata": {},
   "outputs": [],
   "source": [
    "params_health_medical = {'categories':['emergencymedicine',\n",
    "                                    'emergencyrooms',\n",
    "                                    'hospitals',\n",
    "                                      'medcenters'],\n",
    "                       'location':'Boston',\n",
    "                       'limit': 50,\n",
    "                       'radius':40000,\n",
    "                         'offset':750\n",
    "                        }"
   ]
  },
  {
   "cell_type": "code",
   "execution_count": 100,
   "metadata": {},
   "outputs": [
    {
     "name": "stdout",
     "output_type": "stream",
     "text": [
      "The status code is 200\n"
     ]
    }
   ],
   "source": [
    "req=requests.get(url, params_health_medical, headers=headers)\n",
    "print('The status code is {}'.format(req.status_code))"
   ]
  },
  {
   "cell_type": "code",
   "execution_count": 101,
   "metadata": {},
   "outputs": [
    {
     "data": {
      "text/plain": [
       "50"
      ]
     },
     "execution_count": 101,
     "metadata": {},
     "output_type": "execute_result"
    }
   ],
   "source": [
    "len(posts_health_medical)"
   ]
  },
  {
   "cell_type": "code",
   "execution_count": 102,
   "metadata": {},
   "outputs": [],
   "source": [
    "for i in range(len(posts_health_medical)):\n",
    "    names.append(posts_health_medical[i]['name'])\n",
    "    categories.append(posts_health_medical[i]['categories'][0]['alias'])\n",
    "    latitude.append(posts_health_medical[i]['coordinates']['latitude'])\n",
    "    longitude.append(posts_health_medical[i]['coordinates']['longitude'])\n",
    "    zipcode.append(posts_health_medical[i]['location']['zip_code'])"
   ]
  },
  {
   "cell_type": "code",
   "execution_count": 103,
   "metadata": {},
   "outputs": [
    {
     "data": {
      "text/plain": [
       "800"
      ]
     },
     "execution_count": 103,
     "metadata": {},
     "output_type": "execute_result"
    }
   ],
   "source": [
    "len(names)"
   ]
  },
  {
   "cell_type": "markdown",
   "metadata": {},
   "source": [
    "### Lifeline 3 - Health and Medical Offset 800"
   ]
  },
  {
   "cell_type": "code",
   "execution_count": 104,
   "metadata": {},
   "outputs": [],
   "source": [
    "params_health_medical = {'categories':['emergencymedicine',\n",
    "                                    'emergencyrooms',\n",
    "                                    'hospitals',\n",
    "                                      'medcenters'],\n",
    "                       'location':'Boston',\n",
    "                       'limit': 50,\n",
    "                       'radius':40000,\n",
    "                         'offset':800\n",
    "                        }"
   ]
  },
  {
   "cell_type": "code",
   "execution_count": 105,
   "metadata": {},
   "outputs": [
    {
     "name": "stdout",
     "output_type": "stream",
     "text": [
      "The status code is 200\n"
     ]
    }
   ],
   "source": [
    "req=requests.get(url, params_health_medical, headers=headers)\n",
    "print('The status code is {}'.format(req.status_code))"
   ]
  },
  {
   "cell_type": "code",
   "execution_count": 106,
   "metadata": {},
   "outputs": [
    {
     "data": {
      "text/plain": [
       "50"
      ]
     },
     "execution_count": 106,
     "metadata": {},
     "output_type": "execute_result"
    }
   ],
   "source": [
    "len(posts_health_medical)"
   ]
  },
  {
   "cell_type": "code",
   "execution_count": 107,
   "metadata": {},
   "outputs": [],
   "source": [
    "for i in range(len(posts_health_medical)):\n",
    "    names.append(posts_health_medical[i]['name'])\n",
    "    categories.append(posts_health_medical[i]['categories'][0]['alias'])\n",
    "    latitude.append(posts_health_medical[i]['coordinates']['latitude'])\n",
    "    longitude.append(posts_health_medical[i]['coordinates']['longitude'])\n",
    "    zipcode.append(posts_health_medical[i]['location']['zip_code'])"
   ]
  },
  {
   "cell_type": "code",
   "execution_count": 108,
   "metadata": {},
   "outputs": [
    {
     "data": {
      "text/plain": [
       "850"
      ]
     },
     "execution_count": 108,
     "metadata": {},
     "output_type": "execute_result"
    }
   ],
   "source": [
    "len(names)"
   ]
  },
  {
   "cell_type": "markdown",
   "metadata": {},
   "source": [
    "### Lifeline 3 - Health and Medical Offset 850"
   ]
  },
  {
   "cell_type": "code",
   "execution_count": 109,
   "metadata": {},
   "outputs": [],
   "source": [
    "params_health_medical = {'categories':['emergencymedicine',\n",
    "                                    'emergencyrooms',\n",
    "                                    'hospitals',\n",
    "                                      'medcenters'],\n",
    "                       'location':'Boston',\n",
    "                       'limit': 50,\n",
    "                       'radius':40000,\n",
    "                         'offset':850\n",
    "                        }"
   ]
  },
  {
   "cell_type": "code",
   "execution_count": 110,
   "metadata": {},
   "outputs": [
    {
     "name": "stdout",
     "output_type": "stream",
     "text": [
      "The status code is 200\n"
     ]
    }
   ],
   "source": [
    "req=requests.get(url, params_health_medical, headers=headers)\n",
    "print('The status code is {}'.format(req.status_code))"
   ]
  },
  {
   "cell_type": "code",
   "execution_count": 111,
   "metadata": {},
   "outputs": [
    {
     "data": {
      "text/plain": [
       "50"
      ]
     },
     "execution_count": 111,
     "metadata": {},
     "output_type": "execute_result"
    }
   ],
   "source": [
    "len(posts_health_medical)"
   ]
  },
  {
   "cell_type": "code",
   "execution_count": 112,
   "metadata": {},
   "outputs": [],
   "source": [
    "for i in range(len(posts_health_medical)):\n",
    "    names.append(posts_health_medical[i]['name'])\n",
    "    categories.append(posts_health_medical[i]['categories'][0]['alias'])\n",
    "    latitude.append(posts_health_medical[i]['coordinates']['latitude'])\n",
    "    longitude.append(posts_health_medical[i]['coordinates']['longitude'])\n",
    "    zipcode.append(posts_health_medical[i]['location']['zip_code'])"
   ]
  },
  {
   "cell_type": "code",
   "execution_count": 113,
   "metadata": {},
   "outputs": [
    {
     "data": {
      "text/plain": [
       "900"
      ]
     },
     "execution_count": 113,
     "metadata": {},
     "output_type": "execute_result"
    }
   ],
   "source": [
    "len(names)"
   ]
  },
  {
   "cell_type": "markdown",
   "metadata": {},
   "source": [
    "### Lifeline 3 - Health and Medical Offset 900"
   ]
  },
  {
   "cell_type": "code",
   "execution_count": 114,
   "metadata": {},
   "outputs": [],
   "source": [
    "params_health_medical = {'categories':['emergencymedicine',\n",
    "                                    'emergencyrooms',\n",
    "                                    'hospitals',\n",
    "                                      'medcenters'],\n",
    "                       'location':'Boston',\n",
    "                       'limit': 50,\n",
    "                       'radius':40000,\n",
    "                         'offset':900\n",
    "                        }"
   ]
  },
  {
   "cell_type": "code",
   "execution_count": 115,
   "metadata": {},
   "outputs": [
    {
     "name": "stdout",
     "output_type": "stream",
     "text": [
      "The status code is 200\n"
     ]
    }
   ],
   "source": [
    "req=requests.get(url, params_health_medical, headers=headers)\n",
    "print('The status code is {}'.format(req.status_code))"
   ]
  },
  {
   "cell_type": "code",
   "execution_count": 116,
   "metadata": {},
   "outputs": [
    {
     "data": {
      "text/plain": [
       "50"
      ]
     },
     "execution_count": 116,
     "metadata": {},
     "output_type": "execute_result"
    }
   ],
   "source": [
    "len(posts_health_medical)"
   ]
  },
  {
   "cell_type": "code",
   "execution_count": 117,
   "metadata": {},
   "outputs": [],
   "source": [
    "for i in range(len(posts_health_medical)):\n",
    "    names.append(posts_health_medical[i]['name'])\n",
    "    categories.append(posts_health_medical[i]['categories'][0]['alias'])\n",
    "    latitude.append(posts_health_medical[i]['coordinates']['latitude'])\n",
    "    longitude.append(posts_health_medical[i]['coordinates']['longitude'])\n",
    "    zipcode.append(posts_health_medical[i]['location']['zip_code'])"
   ]
  },
  {
   "cell_type": "code",
   "execution_count": 118,
   "metadata": {},
   "outputs": [
    {
     "data": {
      "text/plain": [
       "950"
      ]
     },
     "execution_count": 118,
     "metadata": {},
     "output_type": "execute_result"
    }
   ],
   "source": [
    "len(names)"
   ]
  },
  {
   "cell_type": "markdown",
   "metadata": {},
   "source": [
    "### Lifeline 3 - Health and Medical Offset 950"
   ]
  },
  {
   "cell_type": "code",
   "execution_count": 119,
   "metadata": {},
   "outputs": [],
   "source": [
    "params_health_medical = {'categories':['emergencymedicine',\n",
    "                                    'emergencyrooms',\n",
    "                                    'hospitals',\n",
    "                                      'medcenters'],\n",
    "                       'location':'Boston',\n",
    "                       'limit': 50,\n",
    "                       'radius':40000,\n",
    "                         'offset':950\n",
    "                        }"
   ]
  },
  {
   "cell_type": "code",
   "execution_count": 120,
   "metadata": {},
   "outputs": [
    {
     "name": "stdout",
     "output_type": "stream",
     "text": [
      "The status code is 200\n"
     ]
    }
   ],
   "source": [
    "req=requests.get(url, params_health_medical, headers=headers)\n",
    "print('The status code is {}'.format(req.status_code))"
   ]
  },
  {
   "cell_type": "code",
   "execution_count": 121,
   "metadata": {},
   "outputs": [
    {
     "data": {
      "text/plain": [
       "50"
      ]
     },
     "execution_count": 121,
     "metadata": {},
     "output_type": "execute_result"
    }
   ],
   "source": [
    "len(posts_health_medical)"
   ]
  },
  {
   "cell_type": "code",
   "execution_count": 122,
   "metadata": {},
   "outputs": [],
   "source": [
    "for i in range(len(posts_health_medical)):\n",
    "    names.append(posts_health_medical[i]['name'])\n",
    "    categories.append(posts_health_medical[i]['categories'][0]['alias'])\n",
    "    latitude.append(posts_health_medical[i]['coordinates']['latitude'])\n",
    "    longitude.append(posts_health_medical[i]['coordinates']['longitude'])\n",
    "    zipcode.append(posts_health_medical[i]['location']['zip_code'])"
   ]
  },
  {
   "cell_type": "code",
   "execution_count": 123,
   "metadata": {},
   "outputs": [
    {
     "data": {
      "text/plain": [
       "1000"
      ]
     },
     "execution_count": 123,
     "metadata": {},
     "output_type": "execute_result"
    }
   ],
   "source": [
    "len(names)"
   ]
  },
  {
   "cell_type": "code",
   "execution_count": 124,
   "metadata": {},
   "outputs": [
    {
     "data": {
      "text/html": [
       "<div>\n",
       "<style scoped>\n",
       "    .dataframe tbody tr th:only-of-type {\n",
       "        vertical-align: middle;\n",
       "    }\n",
       "\n",
       "    .dataframe tbody tr th {\n",
       "        vertical-align: top;\n",
       "    }\n",
       "\n",
       "    .dataframe thead th {\n",
       "        text-align: right;\n",
       "    }\n",
       "</style>\n",
       "<table border=\"1\" class=\"dataframe\">\n",
       "  <thead>\n",
       "    <tr style=\"text-align: right;\">\n",
       "      <th></th>\n",
       "      <th>Business</th>\n",
       "      <th>Category</th>\n",
       "      <th>Lifeline</th>\n",
       "      <th>Latitude</th>\n",
       "      <th>Longitude</th>\n",
       "      <th>Zipcode</th>\n",
       "    </tr>\n",
       "  </thead>\n",
       "  <tbody>\n",
       "    <tr>\n",
       "      <th>0</th>\n",
       "      <td>Massachusetts General Hospital</td>\n",
       "      <td>hospitals</td>\n",
       "      <td>3</td>\n",
       "      <td>42.363155</td>\n",
       "      <td>-71.068834</td>\n",
       "      <td>02114</td>\n",
       "    </tr>\n",
       "    <tr>\n",
       "      <th>1</th>\n",
       "      <td>Brigham &amp; Women's Hospital</td>\n",
       "      <td>hospitals</td>\n",
       "      <td>3</td>\n",
       "      <td>42.335929</td>\n",
       "      <td>-71.106716</td>\n",
       "      <td>02115</td>\n",
       "    </tr>\n",
       "    <tr>\n",
       "      <th>2</th>\n",
       "      <td>Boston Children's Hospital</td>\n",
       "      <td>hospitals</td>\n",
       "      <td>3</td>\n",
       "      <td>42.337273</td>\n",
       "      <td>-71.105997</td>\n",
       "      <td>02115</td>\n",
       "    </tr>\n",
       "    <tr>\n",
       "      <th>3</th>\n",
       "      <td>New England Baptist Hospital</td>\n",
       "      <td>hospitals</td>\n",
       "      <td>3</td>\n",
       "      <td>42.329190</td>\n",
       "      <td>-71.106260</td>\n",
       "      <td>02120</td>\n",
       "    </tr>\n",
       "    <tr>\n",
       "      <th>4</th>\n",
       "      <td>Fenway Health</td>\n",
       "      <td>medcenters</td>\n",
       "      <td>3</td>\n",
       "      <td>42.344077</td>\n",
       "      <td>-71.098988</td>\n",
       "      <td>02215</td>\n",
       "    </tr>\n",
       "  </tbody>\n",
       "</table>\n",
       "</div>"
      ],
      "text/plain": [
       "                         Business    Category  Lifeline   Latitude  Longitude  \\\n",
       "0  Massachusetts General Hospital   hospitals         3  42.363155 -71.068834   \n",
       "1      Brigham & Women's Hospital   hospitals         3  42.335929 -71.106716   \n",
       "2      Boston Children's Hospital   hospitals         3  42.337273 -71.105997   \n",
       "3    New England Baptist Hospital   hospitals         3  42.329190 -71.106260   \n",
       "4                   Fenway Health  medcenters         3  42.344077 -71.098988   \n",
       "\n",
       "  Zipcode  \n",
       "0   02114  \n",
       "1   02115  \n",
       "2   02115  \n",
       "3   02120  \n",
       "4   02215  "
      ]
     },
     "execution_count": 124,
     "metadata": {},
     "output_type": "execute_result"
    }
   ],
   "source": [
    "df_health_medical = pd.DataFrame(columns = ['Business', 'Category'])\n",
    "df_health_medical['Business'] = names\n",
    "df_health_medical['Category'] = categories\n",
    "df_health_medical['Lifeline'] = 3\n",
    "df_health_medical['Latitude'] = latitude\n",
    "df_health_medical['Longitude'] = longitude\n",
    "df_health_medical['Zipcode'] = zipcode\n",
    "df_health_medical.head()"
   ]
  },
  {
   "cell_type": "code",
   "execution_count": 125,
   "metadata": {},
   "outputs": [
    {
     "data": {
      "text/plain": [
       "(1000, 6)"
      ]
     },
     "execution_count": 125,
     "metadata": {},
     "output_type": "execute_result"
    }
   ],
   "source": [
    "df_health_medical.shape"
   ]
  },
  {
   "cell_type": "code",
   "execution_count": 126,
   "metadata": {},
   "outputs": [],
   "source": [
    "df_health_medical.to_csv('../datasets/health_medical_df.csv',index=False)"
   ]
  },
  {
   "cell_type": "markdown",
   "metadata": {},
   "source": [
    "## (4) Energy (power, fuel)\n"
   ]
  },
  {
   "cell_type": "code",
   "execution_count": 127,
   "metadata": {},
   "outputs": [],
   "source": [
    "#rework params to not inclue restaurants like kung fu tea\n",
    "params_power_fuel = {'categories':['fueldocks',\n",
    "                                   'servicestations',\n",
    "                                   'utilities',\n",
    "                                   'electricitysuppliers',\n",
    "                                   'naturalgassuppliers',\n",
    "                                   'watersuppliers'],\n",
    "                       'location':'Boston',\n",
    "                       'limit': 50,\n",
    "                       'radius':40000\n",
    "                        }"
   ]
  },
  {
   "cell_type": "code",
   "execution_count": 128,
   "metadata": {},
   "outputs": [
    {
     "name": "stdout",
     "output_type": "stream",
     "text": [
      "The status code is 200\n"
     ]
    }
   ],
   "source": [
    "req=requests.get(url, params_power_fuel, headers=headers)\n",
    "# proceed only if the status code is 200\n",
    "print('The status code is {}'.format(req.status_code))"
   ]
  },
  {
   "cell_type": "code",
   "execution_count": 129,
   "metadata": {},
   "outputs": [
    {
     "data": {
      "text/plain": [
       "50"
      ]
     },
     "execution_count": 129,
     "metadata": {},
     "output_type": "execute_result"
    }
   ],
   "source": [
    "data = req.json()\n",
    "posts_power_fuel = data['businesses']\n",
    "len(posts_power_fuel)"
   ]
  },
  {
   "cell_type": "code",
   "execution_count": 130,
   "metadata": {},
   "outputs": [],
   "source": [
    "names = []\n",
    "categories = []\n",
    "latitude = []\n",
    "longitude = []\n",
    "zipcode = []\n",
    "for i in range(len(posts_power_fuel)):\n",
    "    names.append(posts_power_fuel[i]['name'])\n",
    "    categories.append(posts_power_fuel[i]['categories'][0]['alias'])\n",
    "    latitude.append(posts_power_fuel[i]['coordinates']['latitude'])\n",
    "    longitude.append(posts_power_fuel[i]['coordinates']['longitude'])\n",
    "    zipcode.append(posts_power_fuel[i]['location']['zip_code'])"
   ]
  },
  {
   "cell_type": "code",
   "execution_count": 131,
   "metadata": {},
   "outputs": [
    {
     "data": {
      "text/plain": [
       "50"
      ]
     },
     "execution_count": 131,
     "metadata": {},
     "output_type": "execute_result"
    }
   ],
   "source": [
    "len(names)"
   ]
  },
  {
   "cell_type": "markdown",
   "metadata": {},
   "source": [
    "### Lifeline 4 - Energy Offset 50"
   ]
  },
  {
   "cell_type": "code",
   "execution_count": 132,
   "metadata": {},
   "outputs": [],
   "source": [
    "params_power_fuel = {'categories':['fueldocks',\n",
    "                                   'servicestations',\n",
    "                                   'utilities',\n",
    "                                   'electricitysuppliers',\n",
    "                                   'naturalgassuppliers',\n",
    "                                   'watersuppliers'],\n",
    "                       'location':'Boston',\n",
    "                       'limit': 50,\n",
    "                       'radius':40000,\n",
    "                       'offset':50\n",
    "                        }"
   ]
  },
  {
   "cell_type": "code",
   "execution_count": 133,
   "metadata": {},
   "outputs": [
    {
     "name": "stdout",
     "output_type": "stream",
     "text": [
      "The status code is 200\n"
     ]
    }
   ],
   "source": [
    "req=requests.get(url, params_power_fuel, headers=headers)\n",
    "# proceed only if the status code is 200\n",
    "print('The status code is {}'.format(req.status_code))"
   ]
  },
  {
   "cell_type": "code",
   "execution_count": 134,
   "metadata": {},
   "outputs": [
    {
     "data": {
      "text/plain": [
       "50"
      ]
     },
     "execution_count": 134,
     "metadata": {},
     "output_type": "execute_result"
    }
   ],
   "source": [
    "data = req.json()\n",
    "posts_power_fuel = data['businesses']\n",
    "len(posts_power_fuel)"
   ]
  },
  {
   "cell_type": "code",
   "execution_count": 135,
   "metadata": {},
   "outputs": [],
   "source": [
    "for i in range(len(posts_power_fuel)):\n",
    "    names.append(posts_power_fuel[i]['name'])\n",
    "    categories.append(posts_power_fuel[i]['categories'][0]['alias'])\n",
    "    latitude.append(posts_power_fuel[i]['coordinates']['latitude'])\n",
    "    longitude.append(posts_power_fuel[i]['coordinates']['longitude'])\n",
    "    zipcode.append(posts_power_fuel[i]['location']['zip_code'])"
   ]
  },
  {
   "cell_type": "code",
   "execution_count": 136,
   "metadata": {},
   "outputs": [
    {
     "data": {
      "text/plain": [
       "100"
      ]
     },
     "execution_count": 136,
     "metadata": {},
     "output_type": "execute_result"
    }
   ],
   "source": [
    "len(names)"
   ]
  },
  {
   "cell_type": "markdown",
   "metadata": {},
   "source": [
    "### Lifeline 4 - Energy Offset 100"
   ]
  },
  {
   "cell_type": "code",
   "execution_count": 137,
   "metadata": {},
   "outputs": [],
   "source": [
    "params_power_fuel = {'categories':['fueldocks',\n",
    "                                   'servicestations',\n",
    "                                   'utilities',\n",
    "                                   'electricitysuppliers',\n",
    "                                   'naturalgassuppliers',\n",
    "                                   'watersuppliers'],\n",
    "                       'location':'Boston',\n",
    "                       'limit': 50,\n",
    "                       'radius':40000,\n",
    "                       'offset':100\n",
    "                        }"
   ]
  },
  {
   "cell_type": "code",
   "execution_count": 138,
   "metadata": {},
   "outputs": [
    {
     "name": "stdout",
     "output_type": "stream",
     "text": [
      "The status code is 200\n"
     ]
    }
   ],
   "source": [
    "req=requests.get(url, params_power_fuel, headers=headers)\n",
    "# proceed only if the status code is 200\n",
    "print('The status code is {}'.format(req.status_code))"
   ]
  },
  {
   "cell_type": "code",
   "execution_count": 139,
   "metadata": {},
   "outputs": [
    {
     "data": {
      "text/plain": [
       "50"
      ]
     },
     "execution_count": 139,
     "metadata": {},
     "output_type": "execute_result"
    }
   ],
   "source": [
    "data = req.json()\n",
    "posts_power_fuel = data['businesses']\n",
    "len(posts_power_fuel)"
   ]
  },
  {
   "cell_type": "code",
   "execution_count": 140,
   "metadata": {},
   "outputs": [],
   "source": [
    "for i in range(len(posts_power_fuel)):\n",
    "    names.append(posts_power_fuel[i]['name'])\n",
    "    categories.append(posts_power_fuel[i]['categories'][0]['alias'])\n",
    "    latitude.append(posts_power_fuel[i]['coordinates']['latitude'])\n",
    "    longitude.append(posts_power_fuel[i]['coordinates']['longitude'])\n",
    "    zipcode.append(posts_power_fuel[i]['location']['zip_code'])"
   ]
  },
  {
   "cell_type": "code",
   "execution_count": 141,
   "metadata": {},
   "outputs": [
    {
     "data": {
      "text/plain": [
       "150"
      ]
     },
     "execution_count": 141,
     "metadata": {},
     "output_type": "execute_result"
    }
   ],
   "source": [
    "len(names)"
   ]
  },
  {
   "cell_type": "markdown",
   "metadata": {},
   "source": [
    "### Lifeline 4 - Energy Offset 150"
   ]
  },
  {
   "cell_type": "code",
   "execution_count": 142,
   "metadata": {},
   "outputs": [],
   "source": [
    "params_power_fuel = {'categories':['fueldocks',\n",
    "                                   'servicestations',\n",
    "                                   'utilities',\n",
    "                                   'electricitysuppliers',\n",
    "                                   'naturalgassuppliers',\n",
    "                                   'watersuppliers'],\n",
    "                       'location':'Boston',\n",
    "                       'limit': 50,\n",
    "                       'radius':40000,\n",
    "                       'offset':150\n",
    "                        }"
   ]
  },
  {
   "cell_type": "code",
   "execution_count": 143,
   "metadata": {},
   "outputs": [
    {
     "name": "stdout",
     "output_type": "stream",
     "text": [
      "The status code is 200\n"
     ]
    }
   ],
   "source": [
    "req=requests.get(url, params_power_fuel, headers=headers)\n",
    "# proceed only if the status code is 200\n",
    "print('The status code is {}'.format(req.status_code))"
   ]
  },
  {
   "cell_type": "code",
   "execution_count": 144,
   "metadata": {},
   "outputs": [
    {
     "data": {
      "text/plain": [
       "50"
      ]
     },
     "execution_count": 144,
     "metadata": {},
     "output_type": "execute_result"
    }
   ],
   "source": [
    "data = req.json()\n",
    "posts_power_fuel = data['businesses']\n",
    "len(posts_power_fuel)"
   ]
  },
  {
   "cell_type": "code",
   "execution_count": 145,
   "metadata": {},
   "outputs": [],
   "source": [
    "for i in range(len(posts_power_fuel)):\n",
    "    names.append(posts_power_fuel[i]['name'])\n",
    "    categories.append(posts_power_fuel[i]['categories'][0]['alias'])\n",
    "    latitude.append(posts_power_fuel[i]['coordinates']['latitude'])\n",
    "    longitude.append(posts_power_fuel[i]['coordinates']['longitude'])\n",
    "    zipcode.append(posts_power_fuel[i]['location']['zip_code'])"
   ]
  },
  {
   "cell_type": "code",
   "execution_count": 146,
   "metadata": {},
   "outputs": [
    {
     "data": {
      "text/plain": [
       "200"
      ]
     },
     "execution_count": 146,
     "metadata": {},
     "output_type": "execute_result"
    }
   ],
   "source": [
    "len(names)"
   ]
  },
  {
   "cell_type": "code",
   "execution_count": 147,
   "metadata": {},
   "outputs": [
    {
     "data": {
      "text/html": [
       "<div>\n",
       "<style scoped>\n",
       "    .dataframe tbody tr th:only-of-type {\n",
       "        vertical-align: middle;\n",
       "    }\n",
       "\n",
       "    .dataframe tbody tr th {\n",
       "        vertical-align: top;\n",
       "    }\n",
       "\n",
       "    .dataframe thead th {\n",
       "        text-align: right;\n",
       "    }\n",
       "</style>\n",
       "<table border=\"1\" class=\"dataframe\">\n",
       "  <thead>\n",
       "    <tr style=\"text-align: right;\">\n",
       "      <th></th>\n",
       "      <th>Business</th>\n",
       "      <th>Category</th>\n",
       "      <th>Lifeline</th>\n",
       "      <th>Latitude</th>\n",
       "      <th>Longitude</th>\n",
       "      <th>Zipcode</th>\n",
       "    </tr>\n",
       "  </thead>\n",
       "  <tbody>\n",
       "    <tr>\n",
       "      <th>0</th>\n",
       "      <td>Columbia Road Gulf Service</td>\n",
       "      <td>servicestations</td>\n",
       "      <td>4</td>\n",
       "      <td>42.320594</td>\n",
       "      <td>-71.056486</td>\n",
       "      <td>02125</td>\n",
       "    </tr>\n",
       "    <tr>\n",
       "      <th>1</th>\n",
       "      <td>Magazine Beach Shell Service</td>\n",
       "      <td>autorepair</td>\n",
       "      <td>4</td>\n",
       "      <td>42.356675</td>\n",
       "      <td>-71.114257</td>\n",
       "      <td>02139</td>\n",
       "    </tr>\n",
       "    <tr>\n",
       "      <th>2</th>\n",
       "      <td>Nick's Auto Service and Repair</td>\n",
       "      <td>autorepair</td>\n",
       "      <td>4</td>\n",
       "      <td>42.407815</td>\n",
       "      <td>-71.109323</td>\n",
       "      <td>02155</td>\n",
       "    </tr>\n",
       "    <tr>\n",
       "      <th>3</th>\n",
       "      <td>Foreign &amp; Domestic Auto Service</td>\n",
       "      <td>servicestations</td>\n",
       "      <td>4</td>\n",
       "      <td>42.411106</td>\n",
       "      <td>-71.120628</td>\n",
       "      <td>02155</td>\n",
       "    </tr>\n",
       "    <tr>\n",
       "      <th>4</th>\n",
       "      <td>A-Z Auto Center Gas</td>\n",
       "      <td>servicestations</td>\n",
       "      <td>4</td>\n",
       "      <td>42.344437</td>\n",
       "      <td>-71.141800</td>\n",
       "      <td>02135</td>\n",
       "    </tr>\n",
       "  </tbody>\n",
       "</table>\n",
       "</div>"
      ],
      "text/plain": [
       "                          Business         Category  Lifeline   Latitude  \\\n",
       "0       Columbia Road Gulf Service  servicestations         4  42.320594   \n",
       "1     Magazine Beach Shell Service       autorepair         4  42.356675   \n",
       "2   Nick's Auto Service and Repair       autorepair         4  42.407815   \n",
       "3  Foreign & Domestic Auto Service  servicestations         4  42.411106   \n",
       "4              A-Z Auto Center Gas  servicestations         4  42.344437   \n",
       "\n",
       "   Longitude Zipcode  \n",
       "0 -71.056486   02125  \n",
       "1 -71.114257   02139  \n",
       "2 -71.109323   02155  \n",
       "3 -71.120628   02155  \n",
       "4 -71.141800   02135  "
      ]
     },
     "execution_count": 147,
     "metadata": {},
     "output_type": "execute_result"
    }
   ],
   "source": [
    "df_power_fuel = pd.DataFrame(columns = ['Business', 'Category'])\n",
    "df_power_fuel['Business'] = names\n",
    "df_power_fuel['Category'] = categories\n",
    "df_power_fuel['Lifeline'] = 4\n",
    "df_power_fuel['Latitude'] = latitude\n",
    "df_power_fuel['Longitude'] = longitude\n",
    "df_power_fuel['Zipcode'] = zipcode\n",
    "df_power_fuel.head()"
   ]
  },
  {
   "cell_type": "code",
   "execution_count": 148,
   "metadata": {},
   "outputs": [],
   "source": [
    "df_power_fuel.to_csv('../datasets/power_fuel_df.csv',index=False)"
   ]
  },
  {
   "cell_type": "markdown",
   "metadata": {},
   "source": [
    "## (5) Communication\n"
   ]
  },
  {
   "cell_type": "code",
   "execution_count": 149,
   "metadata": {},
   "outputs": [],
   "source": [
    "#rework params to not inclue restaurants like kung fu tea\n",
    "params_communications = {'categories':['telecommunications',\n",
    "                                   'printmedia',\n",
    "                                   'radiostations',\n",
    "                                   'televisionstations',],\n",
    "                       'location':'Boston',\n",
    "                       'limit': 50,\n",
    "                       'radius':40000\n",
    "                        }"
   ]
  },
  {
   "cell_type": "code",
   "execution_count": 150,
   "metadata": {},
   "outputs": [
    {
     "name": "stdout",
     "output_type": "stream",
     "text": [
      "The status code is 200\n"
     ]
    }
   ],
   "source": [
    "req=requests.get(url, params_communications, headers=headers)\n",
    "# proceed only if the status code is 200\n",
    "print('The status code is {}'.format(req.status_code))"
   ]
  },
  {
   "cell_type": "code",
   "execution_count": 151,
   "metadata": {},
   "outputs": [
    {
     "data": {
      "text/plain": [
       "50"
      ]
     },
     "execution_count": 151,
     "metadata": {},
     "output_type": "execute_result"
    }
   ],
   "source": [
    "data = req.json()\n",
    "posts_communications = data['businesses']\n",
    "len(posts_communications)"
   ]
  },
  {
   "cell_type": "code",
   "execution_count": 152,
   "metadata": {},
   "outputs": [],
   "source": [
    "names = []\n",
    "categories = []\n",
    "latitude = []\n",
    "longitude = []\n",
    "zipcode = []\n",
    "\n",
    "for i in range(len(posts_communications)):\n",
    "    names.append(posts_communications[i]['name'])\n",
    "    categories.append(posts_communications[i]['categories'][0]['alias'])\n",
    "    latitude.append(posts_communications[i]['coordinates']['latitude'])\n",
    "    longitude.append(posts_communications[i]['coordinates']['longitude'])\n",
    "    zipcode.append(posts_communications[i]['location']['zip_code'])"
   ]
  },
  {
   "cell_type": "code",
   "execution_count": 153,
   "metadata": {},
   "outputs": [
    {
     "data": {
      "text/plain": [
       "50"
      ]
     },
     "execution_count": 153,
     "metadata": {},
     "output_type": "execute_result"
    }
   ],
   "source": [
    "len(names)"
   ]
  },
  {
   "cell_type": "markdown",
   "metadata": {},
   "source": [
    "### Lifeline 5 - Communication Offset 50"
   ]
  },
  {
   "cell_type": "code",
   "execution_count": 154,
   "metadata": {},
   "outputs": [],
   "source": [
    "params_communications = {'categories':['telecommunications',\n",
    "                                   'printmedia',\n",
    "                                   'radiostations',\n",
    "                                   'televisionstations',],\n",
    "                       'location':'Boston',\n",
    "                       'limit': 50,\n",
    "                       'radius':40000,\n",
    "                       'offset':50\n",
    "                        }"
   ]
  },
  {
   "cell_type": "code",
   "execution_count": 155,
   "metadata": {},
   "outputs": [
    {
     "name": "stdout",
     "output_type": "stream",
     "text": [
      "The status code is 200\n"
     ]
    }
   ],
   "source": [
    "req=requests.get(url, params_communications, headers=headers)\n",
    "# proceed only if the status code is 200\n",
    "print('The status code is {}'.format(req.status_code))"
   ]
  },
  {
   "cell_type": "code",
   "execution_count": 156,
   "metadata": {},
   "outputs": [
    {
     "data": {
      "text/plain": [
       "50"
      ]
     },
     "execution_count": 156,
     "metadata": {},
     "output_type": "execute_result"
    }
   ],
   "source": [
    "data = req.json()\n",
    "posts_communications = data['businesses']\n",
    "len(posts_communications)"
   ]
  },
  {
   "cell_type": "code",
   "execution_count": 157,
   "metadata": {},
   "outputs": [],
   "source": [
    "for i in range(len(posts_communications)):\n",
    "    names.append(posts_communications[i]['name'])\n",
    "    categories.append(posts_communications[i]['categories'][0]['alias'])\n",
    "    latitude.append(posts_communications[i]['coordinates']['latitude'])\n",
    "    longitude.append(posts_communications[i]['coordinates']['longitude'])\n",
    "    zipcode.append(posts_communications[i]['location']['zip_code'])"
   ]
  },
  {
   "cell_type": "code",
   "execution_count": 158,
   "metadata": {},
   "outputs": [
    {
     "data": {
      "text/plain": [
       "100"
      ]
     },
     "execution_count": 158,
     "metadata": {},
     "output_type": "execute_result"
    }
   ],
   "source": [
    "len(names)"
   ]
  },
  {
   "cell_type": "markdown",
   "metadata": {},
   "source": [
    "### Lifeline 5 - Communication Offset 100"
   ]
  },
  {
   "cell_type": "code",
   "execution_count": 159,
   "metadata": {},
   "outputs": [],
   "source": [
    "params_communications = {'categories':['telecommunications',\n",
    "                                   'printmedia',\n",
    "                                   'radiostations',\n",
    "                                   'televisionstations',],\n",
    "                       'location':'Boston',\n",
    "                       'limit': 50,\n",
    "                       'radius':40000,\n",
    "                       'offset':100\n",
    "                        }"
   ]
  },
  {
   "cell_type": "code",
   "execution_count": 160,
   "metadata": {},
   "outputs": [
    {
     "name": "stdout",
     "output_type": "stream",
     "text": [
      "The status code is 200\n"
     ]
    }
   ],
   "source": [
    "req=requests.get(url, params_communications, headers=headers)\n",
    "# proceed only if the status code is 200\n",
    "print('The status code is {}'.format(req.status_code))"
   ]
  },
  {
   "cell_type": "code",
   "execution_count": 161,
   "metadata": {},
   "outputs": [
    {
     "data": {
      "text/plain": [
       "35"
      ]
     },
     "execution_count": 161,
     "metadata": {},
     "output_type": "execute_result"
    }
   ],
   "source": [
    "data = req.json()\n",
    "posts_communications = data['businesses']\n",
    "len(posts_communications)"
   ]
  },
  {
   "cell_type": "code",
   "execution_count": 162,
   "metadata": {},
   "outputs": [],
   "source": [
    "for i in range(len(posts_communications)):\n",
    "    names.append(posts_communications[i]['name'])\n",
    "    categories.append(posts_communications[i]['categories'][0]['alias'])\n",
    "    latitude.append(posts_communications[i]['coordinates']['latitude'])\n",
    "    longitude.append(posts_communications[i]['coordinates']['longitude'])\n",
    "    zipcode.append(posts_communications[i]['location']['zip_code'])"
   ]
  },
  {
   "cell_type": "code",
   "execution_count": 163,
   "metadata": {},
   "outputs": [
    {
     "data": {
      "text/plain": [
       "135"
      ]
     },
     "execution_count": 163,
     "metadata": {},
     "output_type": "execute_result"
    }
   ],
   "source": [
    "len(names)"
   ]
  },
  {
   "cell_type": "code",
   "execution_count": 164,
   "metadata": {},
   "outputs": [
    {
     "data": {
      "text/html": [
       "<div>\n",
       "<style scoped>\n",
       "    .dataframe tbody tr th:only-of-type {\n",
       "        vertical-align: middle;\n",
       "    }\n",
       "\n",
       "    .dataframe tbody tr th {\n",
       "        vertical-align: top;\n",
       "    }\n",
       "\n",
       "    .dataframe thead th {\n",
       "        text-align: right;\n",
       "    }\n",
       "</style>\n",
       "<table border=\"1\" class=\"dataframe\">\n",
       "  <thead>\n",
       "    <tr style=\"text-align: right;\">\n",
       "      <th></th>\n",
       "      <th>Business</th>\n",
       "      <th>Category</th>\n",
       "      <th>Lifeline</th>\n",
       "      <th>Latitude</th>\n",
       "      <th>Longitude</th>\n",
       "      <th>Zipcode</th>\n",
       "    </tr>\n",
       "  </thead>\n",
       "  <tbody>\n",
       "    <tr>\n",
       "      <th>0</th>\n",
       "      <td>WERS 88.9FM</td>\n",
       "      <td>radiostations</td>\n",
       "      <td>5</td>\n",
       "      <td>42.352707</td>\n",
       "      <td>-71.064118</td>\n",
       "      <td>02108</td>\n",
       "    </tr>\n",
       "    <tr>\n",
       "      <th>1</th>\n",
       "      <td>WBUR 90.9 FM</td>\n",
       "      <td>radiostations</td>\n",
       "      <td>5</td>\n",
       "      <td>42.350547</td>\n",
       "      <td>-71.115528</td>\n",
       "      <td>02215</td>\n",
       "    </tr>\n",
       "    <tr>\n",
       "      <th>2</th>\n",
       "      <td>The David Pakman Show</td>\n",
       "      <td>radiostations</td>\n",
       "      <td>5</td>\n",
       "      <td>42.310010</td>\n",
       "      <td>-71.113480</td>\n",
       "      <td>02130</td>\n",
       "    </tr>\n",
       "    <tr>\n",
       "      <th>3</th>\n",
       "      <td>WMBR 88.1 FM</td>\n",
       "      <td>radiostations</td>\n",
       "      <td>5</td>\n",
       "      <td>42.359175</td>\n",
       "      <td>-71.087723</td>\n",
       "      <td>02142</td>\n",
       "    </tr>\n",
       "    <tr>\n",
       "      <th>4</th>\n",
       "      <td>Weekly Dig</td>\n",
       "      <td>printmedia</td>\n",
       "      <td>5</td>\n",
       "      <td>42.343470</td>\n",
       "      <td>-71.063500</td>\n",
       "      <td>02118</td>\n",
       "    </tr>\n",
       "  </tbody>\n",
       "</table>\n",
       "</div>"
      ],
      "text/plain": [
       "                Business       Category  Lifeline   Latitude  Longitude  \\\n",
       "0            WERS 88.9FM  radiostations         5  42.352707 -71.064118   \n",
       "1           WBUR 90.9 FM  radiostations         5  42.350547 -71.115528   \n",
       "2  The David Pakman Show  radiostations         5  42.310010 -71.113480   \n",
       "3           WMBR 88.1 FM  radiostations         5  42.359175 -71.087723   \n",
       "4             Weekly Dig     printmedia         5  42.343470 -71.063500   \n",
       "\n",
       "  Zipcode  \n",
       "0   02108  \n",
       "1   02215  \n",
       "2   02130  \n",
       "3   02142  \n",
       "4   02118  "
      ]
     },
     "execution_count": 164,
     "metadata": {},
     "output_type": "execute_result"
    }
   ],
   "source": [
    "df_communication = pd.DataFrame(columns=['Business','Category'])\n",
    "df_communication['Business'] = names\n",
    "df_communication['Category'] = categories\n",
    "df_communication['Lifeline'] = 5\n",
    "df_communication['Latitude'] = latitude\n",
    "df_communication['Longitude'] = longitude\n",
    "df_communication['Zipcode'] = zipcode\n",
    "df_communication.head()"
   ]
  },
  {
   "cell_type": "code",
   "execution_count": 165,
   "metadata": {},
   "outputs": [],
   "source": [
    "df_communication.to_csv('../datasets/communication_df.csv',index=False)"
   ]
  },
  {
   "cell_type": "markdown",
   "metadata": {},
   "source": [
    "## (6) Transportation\n"
   ]
  },
  {
   "cell_type": "code",
   "execution_count": 166,
   "metadata": {},
   "outputs": [],
   "source": [
    "#rework params to not inclue restaurants like kung fu tea\n",
    "params_transportation = {'categories':['airlines',\n",
    "                                   'busstations',\n",
    "                                   'ferries',\n",
    "                                   'metrostations',\n",
    "                                   'publictransport',\n",
    "                                   'trains',\n",
    "                                   'taxis'],\n",
    "                       'location':'Boston',\n",
    "                       'limit': 50,\n",
    "                       'radius':40000\n",
    "                        }"
   ]
  },
  {
   "cell_type": "code",
   "execution_count": 167,
   "metadata": {},
   "outputs": [
    {
     "name": "stdout",
     "output_type": "stream",
     "text": [
      "The status code is 200\n"
     ]
    }
   ],
   "source": [
    "req=requests.get(url, params_transportation, headers=headers)\n",
    "# proceed only if the status code is 200\n",
    "print('The status code is {}'.format(req.status_code))"
   ]
  },
  {
   "cell_type": "code",
   "execution_count": 168,
   "metadata": {},
   "outputs": [
    {
     "data": {
      "text/plain": [
       "50"
      ]
     },
     "execution_count": 168,
     "metadata": {},
     "output_type": "execute_result"
    }
   ],
   "source": [
    "data = req.json()\n",
    "posts_transportation = data['businesses']\n",
    "len(posts_transportation)"
   ]
  },
  {
   "cell_type": "code",
   "execution_count": 169,
   "metadata": {},
   "outputs": [],
   "source": [
    "names = []\n",
    "categories = []\n",
    "latitude = []\n",
    "longitude = []\n",
    "zipcode = []\n",
    "for i in range(len(posts_transportation)):\n",
    "    names.append(posts_transportation[i]['name'])\n",
    "    categories.append(posts_transportation[i]['categories'][0]['alias'])\n",
    "    latitude.append(posts_transportation[i]['coordinates']['latitude'])\n",
    "    longitude.append(posts_transportation[i]['coordinates']['longitude'])\n",
    "    zipcode.append(posts_transportation[i]['location']['zip_code'])"
   ]
  },
  {
   "cell_type": "code",
   "execution_count": 170,
   "metadata": {},
   "outputs": [
    {
     "data": {
      "text/plain": [
       "50"
      ]
     },
     "execution_count": 170,
     "metadata": {},
     "output_type": "execute_result"
    }
   ],
   "source": [
    "len(names)"
   ]
  },
  {
   "cell_type": "markdown",
   "metadata": {},
   "source": [
    "### Lifeline 6 - Transportation Offset 50"
   ]
  },
  {
   "cell_type": "code",
   "execution_count": 171,
   "metadata": {},
   "outputs": [],
   "source": [
    "params_transportation = {'categories':['airlines',\n",
    "                                   'busstations',\n",
    "                                   'ferries',\n",
    "                                   'metrostations',\n",
    "                                   'publictransport',\n",
    "                                   'trains',\n",
    "                                   'taxis'],\n",
    "                       'location':'Boston',\n",
    "                       'limit': 50,\n",
    "                       'radius':40000,\n",
    "                       'offset':50\n",
    "                        }"
   ]
  },
  {
   "cell_type": "code",
   "execution_count": 172,
   "metadata": {},
   "outputs": [
    {
     "name": "stdout",
     "output_type": "stream",
     "text": [
      "The status code is 200\n"
     ]
    }
   ],
   "source": [
    "req=requests.get(url, params_transportation, headers=headers)\n",
    "\n",
    "# proceed only if the status code is 200\n",
    "print('The status code is {}'.format(req.status_code))"
   ]
  },
  {
   "cell_type": "code",
   "execution_count": 173,
   "metadata": {},
   "outputs": [
    {
     "data": {
      "text/plain": [
       "50"
      ]
     },
     "execution_count": 173,
     "metadata": {},
     "output_type": "execute_result"
    }
   ],
   "source": [
    "data = req.json()\n",
    "posts_transportation = data['businesses']\n",
    "len(posts_transportation)"
   ]
  },
  {
   "cell_type": "code",
   "execution_count": 174,
   "metadata": {},
   "outputs": [],
   "source": [
    "for i in range(len(posts_transportation)):\n",
    "    names.append(posts_transportation[i]['name'])\n",
    "    categories.append(posts_transportation[i]['categories'][0]['alias'])\n",
    "    latitude.append(posts_transportation[i]['coordinates']['latitude'])\n",
    "    longitude.append(posts_transportation[i]['coordinates']['longitude'])\n",
    "    zipcode.append(posts_transportation[i]['location']['zip_code'])"
   ]
  },
  {
   "cell_type": "code",
   "execution_count": 175,
   "metadata": {},
   "outputs": [
    {
     "data": {
      "text/plain": [
       "100"
      ]
     },
     "execution_count": 175,
     "metadata": {},
     "output_type": "execute_result"
    }
   ],
   "source": [
    "len(names)"
   ]
  },
  {
   "cell_type": "markdown",
   "metadata": {},
   "source": [
    "### Lifeline 6 - Transportation Offset 100"
   ]
  },
  {
   "cell_type": "code",
   "execution_count": 176,
   "metadata": {},
   "outputs": [],
   "source": [
    "params_transportation = {'categories':['airlines',\n",
    "                                   'busstations',\n",
    "                                   'ferries',\n",
    "                                   'metrostations',\n",
    "                                   'publictransport',\n",
    "                                   'trains',\n",
    "                                   'taxis'],\n",
    "                       'location':'Boston',\n",
    "                       'limit': 50,\n",
    "                       'radius':40000,\n",
    "                       'offset':100\n",
    "                        }"
   ]
  },
  {
   "cell_type": "code",
   "execution_count": 177,
   "metadata": {},
   "outputs": [
    {
     "name": "stdout",
     "output_type": "stream",
     "text": [
      "The status code is 200\n"
     ]
    }
   ],
   "source": [
    "req=requests.get(url, params_transportation, headers=headers)\n",
    "# proceed only if the status code is 200\n",
    "print('The status code is {}'.format(req.status_code))"
   ]
  },
  {
   "cell_type": "code",
   "execution_count": 178,
   "metadata": {},
   "outputs": [
    {
     "data": {
      "text/plain": [
       "50"
      ]
     },
     "execution_count": 178,
     "metadata": {},
     "output_type": "execute_result"
    }
   ],
   "source": [
    "data = req.json()\n",
    "posts_transportation = data['businesses']\n",
    "len(posts_transportation)"
   ]
  },
  {
   "cell_type": "code",
   "execution_count": 179,
   "metadata": {},
   "outputs": [],
   "source": [
    "for i in range(len(posts_transportation)):\n",
    "    names.append(posts_transportation[i]['name'])\n",
    "    categories.append(posts_transportation[i]['categories'][0]['alias'])\n",
    "    latitude.append(posts_transportation[i]['coordinates']['latitude'])\n",
    "    longitude.append(posts_transportation[i]['coordinates']['longitude'])\n",
    "    zipcode.append(posts_transportation[i]['location']['zip_code'])"
   ]
  },
  {
   "cell_type": "code",
   "execution_count": 180,
   "metadata": {},
   "outputs": [
    {
     "data": {
      "text/plain": [
       "150"
      ]
     },
     "execution_count": 180,
     "metadata": {},
     "output_type": "execute_result"
    }
   ],
   "source": [
    "len(names)"
   ]
  },
  {
   "cell_type": "markdown",
   "metadata": {},
   "source": [
    "## Lifeline 6 - Transportation Offset 150"
   ]
  },
  {
   "cell_type": "code",
   "execution_count": 181,
   "metadata": {},
   "outputs": [],
   "source": [
    "params_transportation = {'categories':['airlines',\n",
    "                                   'busstations',\n",
    "                                   'ferries',\n",
    "                                   'metrostations',\n",
    "                                   'publictransport',\n",
    "                                   'trains',\n",
    "                                   'taxis'],\n",
    "                       'location':'Boston',\n",
    "                       'limit': 50,\n",
    "                       'radius':40000,\n",
    "                       'offset':150\n",
    "                        }"
   ]
  },
  {
   "cell_type": "code",
   "execution_count": 182,
   "metadata": {},
   "outputs": [
    {
     "name": "stdout",
     "output_type": "stream",
     "text": [
      "The status code is 200\n"
     ]
    }
   ],
   "source": [
    "req=requests.get(url, params_transportation, headers=headers)\n",
    "# proceed only if the status code is 200\n",
    "print('The status code is {}'.format(req.status_code))"
   ]
  },
  {
   "cell_type": "code",
   "execution_count": 183,
   "metadata": {},
   "outputs": [
    {
     "data": {
      "text/plain": [
       "50"
      ]
     },
     "execution_count": 183,
     "metadata": {},
     "output_type": "execute_result"
    }
   ],
   "source": [
    "data = req.json()\n",
    "posts_transportation = data['businesses']\n",
    "len(posts_transportation)"
   ]
  },
  {
   "cell_type": "code",
   "execution_count": 184,
   "metadata": {},
   "outputs": [],
   "source": [
    "for i in range(len(posts_transportation)):\n",
    "    names.append(posts_transportation[i]['name'])\n",
    "    categories.append(posts_transportation[i]['categories'][0]['alias'])\n",
    "    latitude.append(posts_transportation[i]['coordinates']['latitude'])\n",
    "    longitude.append(posts_transportation[i]['coordinates']['longitude'])\n",
    "    zipcode.append(posts_transportation[i]['location']['zip_code'])"
   ]
  },
  {
   "cell_type": "code",
   "execution_count": 185,
   "metadata": {},
   "outputs": [
    {
     "data": {
      "text/plain": [
       "200"
      ]
     },
     "execution_count": 185,
     "metadata": {},
     "output_type": "execute_result"
    }
   ],
   "source": [
    "len(names)"
   ]
  },
  {
   "cell_type": "markdown",
   "metadata": {},
   "source": [
    "### Lifeline 6 - Transportation Offset 200"
   ]
  },
  {
   "cell_type": "code",
   "execution_count": 186,
   "metadata": {},
   "outputs": [],
   "source": [
    "params_transportation = {'categories':['airlines',\n",
    "                                   'busstations',\n",
    "                                   'ferries',\n",
    "                                   'metrostations',\n",
    "                                   'publictransport',\n",
    "                                   'trains',\n",
    "                                   'taxis'],\n",
    "                       'location':'Boston',\n",
    "                       'limit': 50,\n",
    "                       'radius':40000,\n",
    "                       'offset':200\n",
    "                        }"
   ]
  },
  {
   "cell_type": "code",
   "execution_count": 187,
   "metadata": {},
   "outputs": [
    {
     "name": "stdout",
     "output_type": "stream",
     "text": [
      "The status code is 200\n"
     ]
    }
   ],
   "source": [
    "req=requests.get(url, params_transportation, headers=headers)\n",
    "# proceed only if the status code is 200\n",
    "print('The status code is {}'.format(req.status_code))"
   ]
  },
  {
   "cell_type": "code",
   "execution_count": 188,
   "metadata": {},
   "outputs": [
    {
     "data": {
      "text/plain": [
       "50"
      ]
     },
     "execution_count": 188,
     "metadata": {},
     "output_type": "execute_result"
    }
   ],
   "source": [
    "data = req.json()\n",
    "posts_transportation = data['businesses']\n",
    "len(posts_transportation)"
   ]
  },
  {
   "cell_type": "code",
   "execution_count": 189,
   "metadata": {},
   "outputs": [],
   "source": [
    "for i in range(len(posts_transportation)):\n",
    "    names.append(posts_transportation[i]['name'])\n",
    "    categories.append(posts_transportation[i]['categories'][0]['alias'])\n",
    "    latitude.append(posts_transportation[i]['coordinates']['latitude'])\n",
    "    longitude.append(posts_transportation[i]['coordinates']['longitude'])\n",
    "    zipcode.append(posts_transportation[i]['location']['zip_code'])"
   ]
  },
  {
   "cell_type": "code",
   "execution_count": 190,
   "metadata": {},
   "outputs": [
    {
     "data": {
      "text/plain": [
       "250"
      ]
     },
     "execution_count": 190,
     "metadata": {},
     "output_type": "execute_result"
    }
   ],
   "source": [
    "len(names)"
   ]
  },
  {
   "cell_type": "markdown",
   "metadata": {},
   "source": [
    "### Lifeline 6 - Transportation Offset 250 "
   ]
  },
  {
   "cell_type": "code",
   "execution_count": 191,
   "metadata": {},
   "outputs": [],
   "source": [
    "params_transportation = {'categories':['airlines',\n",
    "                                   'busstations',\n",
    "                                   'ferries',\n",
    "                                   'metrostations',\n",
    "                                   'publictransport',\n",
    "                                   'trains',\n",
    "                                   'taxis'],\n",
    "                       'location':'Boston',\n",
    "                       'limit': 50,\n",
    "                       'radius':40000,\n",
    "                       'offset':250\n",
    "                        }"
   ]
  },
  {
   "cell_type": "code",
   "execution_count": 192,
   "metadata": {},
   "outputs": [
    {
     "name": "stdout",
     "output_type": "stream",
     "text": [
      "The status code is 200\n"
     ]
    }
   ],
   "source": [
    "req=requests.get(url, params_transportation, headers=headers)\n",
    "# proceed only if the status code is 200\n",
    "print('The status code is {}'.format(req.status_code))"
   ]
  },
  {
   "cell_type": "code",
   "execution_count": 193,
   "metadata": {},
   "outputs": [
    {
     "data": {
      "text/plain": [
       "50"
      ]
     },
     "execution_count": 193,
     "metadata": {},
     "output_type": "execute_result"
    }
   ],
   "source": [
    "data = req.json()\n",
    "posts_transportation = data['businesses']\n",
    "len(posts_transportation)"
   ]
  },
  {
   "cell_type": "code",
   "execution_count": 194,
   "metadata": {},
   "outputs": [],
   "source": [
    "for i in range(len(posts_transportation)):\n",
    "    names.append(posts_transportation[i]['name'])\n",
    "    categories.append(posts_transportation[i]['categories'][0]['alias'])\n",
    "    latitude.append(posts_transportation[i]['coordinates']['latitude'])\n",
    "    longitude.append(posts_transportation[i]['coordinates']['longitude'])\n",
    "    zipcode.append(posts_transportation[i]['location']['zip_code'])"
   ]
  },
  {
   "cell_type": "code",
   "execution_count": 195,
   "metadata": {},
   "outputs": [
    {
     "data": {
      "text/plain": [
       "300"
      ]
     },
     "execution_count": 195,
     "metadata": {},
     "output_type": "execute_result"
    }
   ],
   "source": [
    "len(names)"
   ]
  },
  {
   "cell_type": "markdown",
   "metadata": {},
   "source": [
    "### Lifeline 6 - Transportation Offset 300"
   ]
  },
  {
   "cell_type": "code",
   "execution_count": 196,
   "metadata": {},
   "outputs": [],
   "source": [
    "params_transportation = {'categories':['airlines',\n",
    "                                   'busstations',\n",
    "                                   'ferries',\n",
    "                                   'metrostations',\n",
    "                                   'publictransport',\n",
    "                                   'trains',\n",
    "                                   'taxis'],\n",
    "                       'location':'Boston',\n",
    "                       'limit': 50,\n",
    "                       'radius':40000,\n",
    "                       'offset':300\n",
    "                        }"
   ]
  },
  {
   "cell_type": "code",
   "execution_count": 197,
   "metadata": {},
   "outputs": [
    {
     "name": "stdout",
     "output_type": "stream",
     "text": [
      "The status code is 200\n"
     ]
    }
   ],
   "source": [
    "req=requests.get(url, params_transportation, headers=headers)\n",
    "# proceed only if the status code is 200\n",
    "print('The status code is {}'.format(req.status_code))"
   ]
  },
  {
   "cell_type": "code",
   "execution_count": 198,
   "metadata": {},
   "outputs": [
    {
     "data": {
      "text/plain": [
       "50"
      ]
     },
     "execution_count": 198,
     "metadata": {},
     "output_type": "execute_result"
    }
   ],
   "source": [
    "data = req.json()\n",
    "posts_transportation = data['businesses']\n",
    "len(posts_transportation)"
   ]
  },
  {
   "cell_type": "code",
   "execution_count": 199,
   "metadata": {},
   "outputs": [],
   "source": [
    "for i in range(len(posts_transportation)):\n",
    "    names.append(posts_transportation[i]['name'])\n",
    "    categories.append(posts_transportation[i]['categories'][0]['alias'])\n",
    "    latitude.append(posts_transportation[i]['coordinates']['latitude'])\n",
    "    longitude.append(posts_transportation[i]['coordinates']['longitude'])\n",
    "    zipcode.append(posts_transportation[i]['location']['zip_code'])"
   ]
  },
  {
   "cell_type": "code",
   "execution_count": 200,
   "metadata": {},
   "outputs": [
    {
     "data": {
      "text/plain": [
       "350"
      ]
     },
     "execution_count": 200,
     "metadata": {},
     "output_type": "execute_result"
    }
   ],
   "source": [
    "len(names)"
   ]
  },
  {
   "cell_type": "markdown",
   "metadata": {},
   "source": [
    "### Lifeline 6 - Transportation Offset 350"
   ]
  },
  {
   "cell_type": "code",
   "execution_count": 201,
   "metadata": {},
   "outputs": [],
   "source": [
    "params_transportation = {'categories':['airlines',\n",
    "                                   'busstations',\n",
    "                                   'ferries',\n",
    "                                   'metrostations',\n",
    "                                   'publictransport',\n",
    "                                   'trains',\n",
    "                                   'taxis'],\n",
    "                       'location':'Boston',\n",
    "                       'limit': 50,\n",
    "                       'radius':40000,\n",
    "                       'offset':350\n",
    "                        }"
   ]
  },
  {
   "cell_type": "code",
   "execution_count": 202,
   "metadata": {},
   "outputs": [
    {
     "name": "stdout",
     "output_type": "stream",
     "text": [
      "The status code is 200\n"
     ]
    }
   ],
   "source": [
    "req=requests.get(url, params_transportation, headers=headers)\n",
    "# proceed only if the status code is 200\n",
    "print('The status code is {}'.format(req.status_code))"
   ]
  },
  {
   "cell_type": "code",
   "execution_count": 203,
   "metadata": {},
   "outputs": [
    {
     "data": {
      "text/plain": [
       "36"
      ]
     },
     "execution_count": 203,
     "metadata": {},
     "output_type": "execute_result"
    }
   ],
   "source": [
    "data = req.json()\n",
    "posts_transportation = data['businesses']\n",
    "len(posts_transportation)"
   ]
  },
  {
   "cell_type": "code",
   "execution_count": 204,
   "metadata": {},
   "outputs": [],
   "source": [
    "for i in range(len(posts_transportation)):\n",
    "    names.append(posts_transportation[i]['name'])\n",
    "    categories.append(posts_transportation[i]['categories'][0]['alias'])\n",
    "    latitude.append(posts_transportation[i]['coordinates']['latitude'])\n",
    "    longitude.append(posts_transportation[i]['coordinates']['longitude'])\n",
    "    zipcode.append(posts_transportation[i]['location']['zip_code'])"
   ]
  },
  {
   "cell_type": "code",
   "execution_count": 205,
   "metadata": {},
   "outputs": [
    {
     "data": {
      "text/plain": [
       "386"
      ]
     },
     "execution_count": 205,
     "metadata": {},
     "output_type": "execute_result"
    }
   ],
   "source": [
    "len(names)"
   ]
  },
  {
   "cell_type": "code",
   "execution_count": 206,
   "metadata": {},
   "outputs": [
    {
     "data": {
      "text/html": [
       "<div>\n",
       "<style scoped>\n",
       "    .dataframe tbody tr th:only-of-type {\n",
       "        vertical-align: middle;\n",
       "    }\n",
       "\n",
       "    .dataframe tbody tr th {\n",
       "        vertical-align: top;\n",
       "    }\n",
       "\n",
       "    .dataframe thead th {\n",
       "        text-align: right;\n",
       "    }\n",
       "</style>\n",
       "<table border=\"1\" class=\"dataframe\">\n",
       "  <thead>\n",
       "    <tr style=\"text-align: right;\">\n",
       "      <th></th>\n",
       "      <th>Business</th>\n",
       "      <th>Category</th>\n",
       "      <th>Lifeline</th>\n",
       "      <th>Latitude</th>\n",
       "      <th>Longitude</th>\n",
       "      <th>Zipcode</th>\n",
       "    </tr>\n",
       "  </thead>\n",
       "  <tbody>\n",
       "    <tr>\n",
       "      <th>0</th>\n",
       "      <td>JetBlue</td>\n",
       "      <td>airlines</td>\n",
       "      <td>6</td>\n",
       "      <td>42.366658</td>\n",
       "      <td>-71.016160</td>\n",
       "      <td>02128</td>\n",
       "    </tr>\n",
       "    <tr>\n",
       "      <th>1</th>\n",
       "      <td>Amtrak</td>\n",
       "      <td>publictransport</td>\n",
       "      <td>6</td>\n",
       "      <td>42.332908</td>\n",
       "      <td>-71.060810</td>\n",
       "      <td>02111</td>\n",
       "    </tr>\n",
       "    <tr>\n",
       "      <th>2</th>\n",
       "      <td>South Station Bus Terminal</td>\n",
       "      <td>busstations</td>\n",
       "      <td>6</td>\n",
       "      <td>42.351095</td>\n",
       "      <td>-71.056176</td>\n",
       "      <td>02111</td>\n",
       "    </tr>\n",
       "    <tr>\n",
       "      <th>3</th>\n",
       "      <td>Uber</td>\n",
       "      <td>taxis</td>\n",
       "      <td>6</td>\n",
       "      <td>42.334556</td>\n",
       "      <td>-71.066119</td>\n",
       "      <td>02108</td>\n",
       "    </tr>\n",
       "    <tr>\n",
       "      <th>4</th>\n",
       "      <td>Provincetown Fast Ferry</td>\n",
       "      <td>ferries</td>\n",
       "      <td>6</td>\n",
       "      <td>42.360188</td>\n",
       "      <td>-71.049113</td>\n",
       "      <td>02110</td>\n",
       "    </tr>\n",
       "  </tbody>\n",
       "</table>\n",
       "</div>"
      ],
      "text/plain": [
       "                     Business         Category  Lifeline   Latitude  \\\n",
       "0                     JetBlue         airlines         6  42.366658   \n",
       "1                      Amtrak  publictransport         6  42.332908   \n",
       "2  South Station Bus Terminal      busstations         6  42.351095   \n",
       "3                        Uber            taxis         6  42.334556   \n",
       "4     Provincetown Fast Ferry          ferries         6  42.360188   \n",
       "\n",
       "   Longitude Zipcode  \n",
       "0 -71.016160   02128  \n",
       "1 -71.060810   02111  \n",
       "2 -71.056176   02111  \n",
       "3 -71.066119   02108  \n",
       "4 -71.049113   02110  "
      ]
     },
     "execution_count": 206,
     "metadata": {},
     "output_type": "execute_result"
    }
   ],
   "source": [
    "df_transportation = pd.DataFrame(columns=['Business','Category'])\n",
    "df_transportation['Business'] = names\n",
    "df_transportation['Category'] = categories\n",
    "df_transportation['Lifeline'] = 6\n",
    "df_transportation['Latitude'] = latitude\n",
    "df_transportation['Longitude'] = longitude\n",
    "df_transportation['Zipcode'] = zipcode\n",
    "df_transportation.head()"
   ]
  },
  {
   "cell_type": "code",
   "execution_count": 207,
   "metadata": {},
   "outputs": [],
   "source": [
    "df_transportation.to_csv('../datasets/transportation_df.csv',index=False)"
   ]
  },
  {
   "cell_type": "markdown",
   "metadata": {},
   "source": [
    "## (7) Hazardous waste"
   ]
  },
  {
   "cell_type": "code",
   "execution_count": 208,
   "metadata": {},
   "outputs": [],
   "source": [
    "#rework params to not inclue restaurants like kung fu tea\n",
    "params_hazardous_waste = {'categories':['biohazardcleanup',\n",
    "                                   'hazardouswasteddisposal'],\n",
    "                       'location':'Boston',\n",
    "                       'limit': 50,\n",
    "                       'radius':40000}"
   ]
  },
  {
   "cell_type": "code",
   "execution_count": 209,
   "metadata": {},
   "outputs": [
    {
     "name": "stdout",
     "output_type": "stream",
     "text": [
      "The status code is 200\n"
     ]
    }
   ],
   "source": [
    "req=requests.get(url, params_hazardous_waste, headers=headers)\n",
    "# proceed only if the status code is 200\n",
    "print('The status code is {}'.format(req.status_code))"
   ]
  },
  {
   "cell_type": "code",
   "execution_count": 210,
   "metadata": {},
   "outputs": [
    {
     "data": {
      "text/plain": [
       "1"
      ]
     },
     "execution_count": 210,
     "metadata": {},
     "output_type": "execute_result"
    }
   ],
   "source": [
    "data = req.json()\n",
    "posts_hazardous_waste = data['businesses']\n",
    "len(posts_hazardous_waste)"
   ]
  },
  {
   "cell_type": "code",
   "execution_count": 211,
   "metadata": {},
   "outputs": [],
   "source": [
    "names = []\n",
    "categories = []\n",
    "latitude = []\n",
    "longitude = []\n",
    "zipcode = []\n",
    "for i in range(len(posts_hazardous_waste)):\n",
    "    names.append(posts_hazardous_waste[i]['name'])\n",
    "    categories.append(posts_hazardous_waste[i]['categories'][0]['alias'])\n",
    "    latitude.append(posts_hazardous_waste[i]['coordinates']['latitude'])\n",
    "    longitude.append(posts_hazardous_waste[i]['coordinates']['longitude'])\n",
    "    zipcode.append(posts_hazardous_waste[i]['location']['zip_code'])"
   ]
  },
  {
   "cell_type": "code",
   "execution_count": 212,
   "metadata": {},
   "outputs": [
    {
     "data": {
      "text/plain": [
       "1"
      ]
     },
     "execution_count": 212,
     "metadata": {},
     "output_type": "execute_result"
    }
   ],
   "source": [
    "len(names)"
   ]
  },
  {
   "cell_type": "code",
   "execution_count": 213,
   "metadata": {},
   "outputs": [
    {
     "data": {
      "text/html": [
       "<div>\n",
       "<style scoped>\n",
       "    .dataframe tbody tr th:only-of-type {\n",
       "        vertical-align: middle;\n",
       "    }\n",
       "\n",
       "    .dataframe tbody tr th {\n",
       "        vertical-align: top;\n",
       "    }\n",
       "\n",
       "    .dataframe thead th {\n",
       "        text-align: right;\n",
       "    }\n",
       "</style>\n",
       "<table border=\"1\" class=\"dataframe\">\n",
       "  <thead>\n",
       "    <tr style=\"text-align: right;\">\n",
       "      <th></th>\n",
       "      <th>Business</th>\n",
       "      <th>Category</th>\n",
       "      <th>Lifeline</th>\n",
       "      <th>Latitude</th>\n",
       "      <th>Longitude</th>\n",
       "      <th>Zipcode</th>\n",
       "    </tr>\n",
       "  </thead>\n",
       "  <tbody>\n",
       "    <tr>\n",
       "      <th>0</th>\n",
       "      <td>Flood Fire Pro</td>\n",
       "      <td>damagerestoration</td>\n",
       "      <td>7</td>\n",
       "      <td>42.058138</td>\n",
       "      <td>-71.392596</td>\n",
       "      <td>02038</td>\n",
       "    </tr>\n",
       "  </tbody>\n",
       "</table>\n",
       "</div>"
      ],
      "text/plain": [
       "         Business           Category  Lifeline   Latitude  Longitude Zipcode\n",
       "0  Flood Fire Pro  damagerestoration         7  42.058138 -71.392596   02038"
      ]
     },
     "execution_count": 213,
     "metadata": {},
     "output_type": "execute_result"
    }
   ],
   "source": [
    "df_hazardous_waste = pd.DataFrame(columns=['Business','Category'])\n",
    "df_hazardous_waste['Business'] = names\n",
    "df_hazardous_waste['Category'] = categories\n",
    "df_hazardous_waste['Lifeline'] = 7\n",
    "df_hazardous_waste['Latitude'] = latitude\n",
    "df_hazardous_waste['Longitude'] = longitude\n",
    "df_hazardous_waste['Zipcode'] = zipcode\n",
    "df_hazardous_waste.head()"
   ]
  },
  {
   "cell_type": "code",
   "execution_count": 214,
   "metadata": {},
   "outputs": [],
   "source": [
    "df_hazardous_waste.to_csv('../datasets/waste_df.csv',index=False)"
   ]
  },
  {
   "cell_type": "code",
   "execution_count": 237,
   "metadata": {},
   "outputs": [
    {
     "data": {
      "text/html": [
       "<div>\n",
       "<style scoped>\n",
       "    .dataframe tbody tr th:only-of-type {\n",
       "        vertical-align: middle;\n",
       "    }\n",
       "\n",
       "    .dataframe tbody tr th {\n",
       "        vertical-align: top;\n",
       "    }\n",
       "\n",
       "    .dataframe thead th {\n",
       "        text-align: right;\n",
       "    }\n",
       "</style>\n",
       "<table border=\"1\" class=\"dataframe\">\n",
       "  <thead>\n",
       "    <tr style=\"text-align: right;\">\n",
       "      <th></th>\n",
       "      <th>Zipcode</th>\n",
       "    </tr>\n",
       "  </thead>\n",
       "  <tbody>\n",
       "    <tr>\n",
       "      <th>0</th>\n",
       "      <td>02038</td>\n",
       "    </tr>\n",
       "  </tbody>\n",
       "</table>\n",
       "</div>"
      ],
      "text/plain": [
       "  Zipcode\n",
       "0   02038"
      ]
     },
     "execution_count": 237,
     "metadata": {},
     "output_type": "execute_result"
    }
   ],
   "source": [
    "df_hazardous_waste[['Zipcode']]"
   ]
  },
  {
   "cell_type": "markdown",
   "metadata": {},
   "source": [
    "### Combining Lifeline DataFrames"
   ]
  },
  {
   "cell_type": "code",
   "execution_count": 252,
   "metadata": {},
   "outputs": [],
   "source": [
    "df = pd.concat([df_safety,\n",
    "          df_food_shelter,\n",
    "          df_health_medical,\n",
    "          df_power_fuel,\n",
    "          df_communication,\n",
    "          df_transportation,\n",
    "          df_hazardous_waste])"
   ]
  },
  {
   "cell_type": "code",
   "execution_count": 253,
   "metadata": {},
   "outputs": [
    {
     "data": {
      "text/html": [
       "<div>\n",
       "<style scoped>\n",
       "    .dataframe tbody tr th:only-of-type {\n",
       "        vertical-align: middle;\n",
       "    }\n",
       "\n",
       "    .dataframe tbody tr th {\n",
       "        vertical-align: top;\n",
       "    }\n",
       "\n",
       "    .dataframe thead th {\n",
       "        text-align: right;\n",
       "    }\n",
       "</style>\n",
       "<table border=\"1\" class=\"dataframe\">\n",
       "  <thead>\n",
       "    <tr style=\"text-align: right;\">\n",
       "      <th></th>\n",
       "      <th>Business</th>\n",
       "      <th>Category</th>\n",
       "      <th>Lifeline</th>\n",
       "      <th>Latitude</th>\n",
       "      <th>Longitude</th>\n",
       "      <th>Zipcode</th>\n",
       "    </tr>\n",
       "  </thead>\n",
       "  <tbody>\n",
       "    <tr>\n",
       "      <th>0</th>\n",
       "      <td>Boston Police Department</td>\n",
       "      <td>policedepartments</td>\n",
       "      <td>1</td>\n",
       "      <td>42.361798</td>\n",
       "      <td>-71.060297</td>\n",
       "      <td>02114</td>\n",
       "    </tr>\n",
       "    <tr>\n",
       "      <th>1</th>\n",
       "      <td>Harvard University Police Department</td>\n",
       "      <td>policedepartments</td>\n",
       "      <td>1</td>\n",
       "      <td>42.369935</td>\n",
       "      <td>-71.112013</td>\n",
       "      <td>02138</td>\n",
       "    </tr>\n",
       "    <tr>\n",
       "      <th>2</th>\n",
       "      <td>Boston Police Headquarters</td>\n",
       "      <td>policedepartments</td>\n",
       "      <td>1</td>\n",
       "      <td>42.334077</td>\n",
       "      <td>-71.090885</td>\n",
       "      <td>02120</td>\n",
       "    </tr>\n",
       "    <tr>\n",
       "      <th>3</th>\n",
       "      <td>Somerville Fire Department</td>\n",
       "      <td>firedepartments</td>\n",
       "      <td>1</td>\n",
       "      <td>42.390857</td>\n",
       "      <td>-71.091024</td>\n",
       "      <td>02145</td>\n",
       "    </tr>\n",
       "    <tr>\n",
       "      <th>4</th>\n",
       "      <td>Cambridge Police Department</td>\n",
       "      <td>policedepartments</td>\n",
       "      <td>1</td>\n",
       "      <td>42.367260</td>\n",
       "      <td>-71.086151</td>\n",
       "      <td>02141</td>\n",
       "    </tr>\n",
       "  </tbody>\n",
       "</table>\n",
       "</div>"
      ],
      "text/plain": [
       "                               Business           Category  Lifeline  \\\n",
       "0              Boston Police Department  policedepartments         1   \n",
       "1  Harvard University Police Department  policedepartments         1   \n",
       "2            Boston Police Headquarters  policedepartments         1   \n",
       "3            Somerville Fire Department    firedepartments         1   \n",
       "4           Cambridge Police Department  policedepartments         1   \n",
       "\n",
       "    Latitude  Longitude Zipcode  \n",
       "0  42.361798 -71.060297   02114  \n",
       "1  42.369935 -71.112013   02138  \n",
       "2  42.334077 -71.090885   02120  \n",
       "3  42.390857 -71.091024   02145  \n",
       "4  42.367260 -71.086151   02141  "
      ]
     },
     "execution_count": 253,
     "metadata": {},
     "output_type": "execute_result"
    }
   ],
   "source": [
    "df.head()"
   ]
  },
  {
   "cell_type": "code",
   "execution_count": 254,
   "metadata": {
    "scrolled": true
   },
   "outputs": [
    {
     "data": {
      "text/plain": [
       "(1768, 6)"
      ]
     },
     "execution_count": 254,
     "metadata": {},
     "output_type": "execute_result"
    }
   ],
   "source": [
    "df.shape"
   ]
  },
  {
   "cell_type": "code",
   "execution_count": 255,
   "metadata": {},
   "outputs": [
    {
     "data": {
      "text/html": [
       "<div>\n",
       "<style scoped>\n",
       "    .dataframe tbody tr th:only-of-type {\n",
       "        vertical-align: middle;\n",
       "    }\n",
       "\n",
       "    .dataframe tbody tr th {\n",
       "        vertical-align: top;\n",
       "    }\n",
       "\n",
       "    .dataframe thead th {\n",
       "        text-align: right;\n",
       "    }\n",
       "</style>\n",
       "<table border=\"1\" class=\"dataframe\">\n",
       "  <thead>\n",
       "    <tr style=\"text-align: right;\">\n",
       "      <th></th>\n",
       "      <th>Business</th>\n",
       "      <th>Category</th>\n",
       "      <th>Lifeline</th>\n",
       "      <th>Latitude</th>\n",
       "      <th>Longitude</th>\n",
       "      <th>Zipcode</th>\n",
       "    </tr>\n",
       "  </thead>\n",
       "  <tbody>\n",
       "    <tr>\n",
       "      <th>0</th>\n",
       "      <td>Boston Police Department</td>\n",
       "      <td>policedepartments</td>\n",
       "      <td>1</td>\n",
       "      <td>42.361798</td>\n",
       "      <td>-71.060297</td>\n",
       "      <td>02114</td>\n",
       "    </tr>\n",
       "    <tr>\n",
       "      <th>1</th>\n",
       "      <td>Harvard University Police Department</td>\n",
       "      <td>policedepartments</td>\n",
       "      <td>1</td>\n",
       "      <td>42.369935</td>\n",
       "      <td>-71.112013</td>\n",
       "      <td>02138</td>\n",
       "    </tr>\n",
       "    <tr>\n",
       "      <th>2</th>\n",
       "      <td>Boston Police Headquarters</td>\n",
       "      <td>policedepartments</td>\n",
       "      <td>1</td>\n",
       "      <td>42.334077</td>\n",
       "      <td>-71.090885</td>\n",
       "      <td>02120</td>\n",
       "    </tr>\n",
       "    <tr>\n",
       "      <th>3</th>\n",
       "      <td>Somerville Fire Department</td>\n",
       "      <td>firedepartments</td>\n",
       "      <td>1</td>\n",
       "      <td>42.390857</td>\n",
       "      <td>-71.091024</td>\n",
       "      <td>02145</td>\n",
       "    </tr>\n",
       "    <tr>\n",
       "      <th>4</th>\n",
       "      <td>Cambridge Police Department</td>\n",
       "      <td>policedepartments</td>\n",
       "      <td>1</td>\n",
       "      <td>42.367260</td>\n",
       "      <td>-71.086151</td>\n",
       "      <td>02141</td>\n",
       "    </tr>\n",
       "  </tbody>\n",
       "</table>\n",
       "</div>"
      ],
      "text/plain": [
       "                               Business           Category  Lifeline  \\\n",
       "0              Boston Police Department  policedepartments         1   \n",
       "1  Harvard University Police Department  policedepartments         1   \n",
       "2            Boston Police Headquarters  policedepartments         1   \n",
       "3            Somerville Fire Department    firedepartments         1   \n",
       "4           Cambridge Police Department  policedepartments         1   \n",
       "\n",
       "    Latitude  Longitude Zipcode  \n",
       "0  42.361798 -71.060297   02114  \n",
       "1  42.369935 -71.112013   02138  \n",
       "2  42.334077 -71.090885   02120  \n",
       "3  42.390857 -71.091024   02145  \n",
       "4  42.367260 -71.086151   02141  "
      ]
     },
     "execution_count": 255,
     "metadata": {},
     "output_type": "execute_result"
    }
   ],
   "source": [
    "df.head()"
   ]
  },
  {
   "cell_type": "code",
   "execution_count": 257,
   "metadata": {},
   "outputs": [
    {
     "data": {
      "text/html": [
       "<div>\n",
       "<style scoped>\n",
       "    .dataframe tbody tr th:only-of-type {\n",
       "        vertical-align: middle;\n",
       "    }\n",
       "\n",
       "    .dataframe tbody tr th {\n",
       "        vertical-align: top;\n",
       "    }\n",
       "\n",
       "    .dataframe thead th {\n",
       "        text-align: right;\n",
       "    }\n",
       "</style>\n",
       "<table border=\"1\" class=\"dataframe\">\n",
       "  <thead>\n",
       "    <tr style=\"text-align: right;\">\n",
       "      <th></th>\n",
       "      <th>Zipcode</th>\n",
       "    </tr>\n",
       "  </thead>\n",
       "  <tbody>\n",
       "    <tr>\n",
       "      <th>0</th>\n",
       "      <td>02114</td>\n",
       "    </tr>\n",
       "    <tr>\n",
       "      <th>1</th>\n",
       "      <td>02138</td>\n",
       "    </tr>\n",
       "    <tr>\n",
       "      <th>2</th>\n",
       "      <td>02120</td>\n",
       "    </tr>\n",
       "    <tr>\n",
       "      <th>3</th>\n",
       "      <td>02145</td>\n",
       "    </tr>\n",
       "    <tr>\n",
       "      <th>4</th>\n",
       "      <td>02141</td>\n",
       "    </tr>\n",
       "  </tbody>\n",
       "</table>\n",
       "</div>"
      ],
      "text/plain": [
       "  Zipcode\n",
       "0   02114\n",
       "1   02138\n",
       "2   02120\n",
       "3   02145\n",
       "4   02141"
      ]
     },
     "execution_count": 257,
     "metadata": {},
     "output_type": "execute_result"
    }
   ],
   "source": [
    "df[['Zipcode']].head()"
   ]
  },
  {
   "cell_type": "code",
   "execution_count": 258,
   "metadata": {},
   "outputs": [
    {
     "data": {
      "text/plain": [
       "(1768, 6)"
      ]
     },
     "execution_count": 258,
     "metadata": {},
     "output_type": "execute_result"
    }
   ],
   "source": [
    "df.shape"
   ]
  },
  {
   "cell_type": "code",
   "execution_count": 259,
   "metadata": {},
   "outputs": [
    {
     "data": {
      "text/plain": [
       "Business     0\n",
       "Category     0\n",
       "Lifeline     0\n",
       "Latitude     2\n",
       "Longitude    2\n",
       "Zipcode      0\n",
       "dtype: int64"
      ]
     },
     "execution_count": 259,
     "metadata": {},
     "output_type": "execute_result"
    }
   ],
   "source": [
    "df.isnull().sum()"
   ]
  },
  {
   "cell_type": "code",
   "execution_count": 260,
   "metadata": {},
   "outputs": [],
   "source": [
    "df = df.dropna()"
   ]
  },
  {
   "cell_type": "code",
   "execution_count": 261,
   "metadata": {},
   "outputs": [
    {
     "data": {
      "text/plain": [
       "(1766, 6)"
      ]
     },
     "execution_count": 261,
     "metadata": {},
     "output_type": "execute_result"
    }
   ],
   "source": [
    "df.shape"
   ]
  },
  {
   "cell_type": "code",
   "execution_count": 263,
   "metadata": {},
   "outputs": [
    {
     "data": {
      "text/plain": [
       "(1766, 6)"
      ]
     },
     "execution_count": 263,
     "metadata": {},
     "output_type": "execute_result"
    }
   ],
   "source": [
    "df.drop_duplicates()\n",
    "df.shape"
   ]
  },
  {
   "cell_type": "code",
   "execution_count": 264,
   "metadata": {},
   "outputs": [
    {
     "data": {
      "text/plain": [
       "Index(['Business', 'Category', 'Lifeline', 'Latitude', 'Longitude', 'Zipcode'], dtype='object')"
      ]
     },
     "execution_count": 264,
     "metadata": {},
     "output_type": "execute_result"
    }
   ],
   "source": [
    "df.columns"
   ]
  },
  {
   "cell_type": "code",
   "execution_count": 265,
   "metadata": {},
   "outputs": [
    {
     "data": {
      "text/plain": [
       "MinuteClinic                            54\n",
       "T-Mobile                                29\n",
       "Massachusetts General Hospital          21\n",
       "Partners Urgent Care                    20\n",
       "Beth Israel Deaconess Medical Center    19\n",
       "                                        ..\n",
       "Logan Airport Express                    1\n",
       "Boston Airport Taxi Cab Service          1\n",
       "Milton Cab                               1\n",
       "Flood Fire Pro                           1\n",
       "Exxon Tiger Mart                         1\n",
       "Name: Business, Length: 827, dtype: int64"
      ]
     },
     "execution_count": 265,
     "metadata": {},
     "output_type": "execute_result"
    }
   ],
   "source": [
    "df['Business'].value_counts()"
   ]
  },
  {
   "cell_type": "code",
   "execution_count": 266,
   "metadata": {},
   "outputs": [
    {
     "data": {
      "text/plain": [
       "medcenters                    459\n",
       "hospitals                     267\n",
       "servicestations               157\n",
       "taxis                         146\n",
       "publictransport                95\n",
       "familydr                       58\n",
       "walkinclinics                  54\n",
       "metrostations                  47\n",
       "radiostations                  44\n",
       "urgent_care                    42\n",
       "airlines                       42\n",
       "printmedia                     40\n",
       "mobilephones                   33\n",
       "autorepair                     25\n",
       "physicians                     21\n",
       "dermatology                    19\n",
       "airport_shuttles               19\n",
       "physicaltherapy                18\n",
       "cosmeticsurgeons               18\n",
       "optometrists                   18\n",
       "medicaltransportation          18\n",
       "limos                          17\n",
       "policedepartments              14\n",
       "animalshelters                 12\n",
       "communitycenters                9\n",
       "televisionstations              8\n",
       "telecommunications              5\n",
       "convenience                     5\n",
       "trainstations                   5\n",
       "trains                          5\n",
       "busstations                     5\n",
       "utilities                       5\n",
       "firedepartments                 4\n",
       "hvac                            3\n",
       "isps                            2\n",
       "collegeuniv                     2\n",
       "emergencymedicine               2\n",
       "fertility                       1\n",
       "waterheaterinstallrepair        1\n",
       "marinas                         1\n",
       "swimmingpools                   1\n",
       "ferries                         1\n",
       "petadoption                     1\n",
       "foodbanks                       1\n",
       "internalmed                     1\n",
       "marketing                       1\n",
       "videofilmproductions            1\n",
       "venues                          1\n",
       "towing                          1\n",
       "generaldentistry                1\n",
       "damagerestoration               1\n",
       "buses                           1\n",
       "vet                             1\n",
       "propertymgmt                    1\n",
       "televisionserviceproviders      1\n",
       "homelessshelters                1\n",
       "oncologist                      1\n",
       "tires                           1\n",
       "landmarks                       1\n",
       "homeappliancerepair             1\n",
       "Name: Category, dtype: int64"
      ]
     },
     "execution_count": 266,
     "metadata": {},
     "output_type": "execute_result"
    }
   ],
   "source": [
    "df['Category'].value_counts()"
   ]
  },
  {
   "cell_type": "code",
   "execution_count": 267,
   "metadata": {},
   "outputs": [
    {
     "data": {
      "text/plain": [
       "3    1000\n",
       "6     384\n",
       "4     200\n",
       "5     135\n",
       "2      28\n",
       "1      18\n",
       "7       1\n",
       "Name: Lifeline, dtype: int64"
      ]
     },
     "execution_count": 267,
     "metadata": {},
     "output_type": "execute_result"
    }
   ],
   "source": [
    "df['Lifeline'].value_counts()"
   ]
  },
  {
   "cell_type": "code",
   "execution_count": 268,
   "metadata": {},
   "outputs": [
    {
     "data": {
      "text/plain": [
       "(1766, 6)"
      ]
     },
     "execution_count": 268,
     "metadata": {},
     "output_type": "execute_result"
    }
   ],
   "source": [
    "df.shape"
   ]
  },
  {
   "cell_type": "code",
   "execution_count": 277,
   "metadata": {},
   "outputs": [
    {
     "data": {
      "text/plain": [
       "True    1766\n",
       "Name: Zipcode, dtype: int64"
      ]
     },
     "execution_count": 277,
     "metadata": {},
     "output_type": "execute_result"
    }
   ],
   "source": [
    "df['Zipcode'].notnull().value_counts()"
   ]
  },
  {
   "cell_type": "code",
   "execution_count": 278,
   "metadata": {},
   "outputs": [],
   "source": [
    "df.to_csv('../datasets/lifelines_raw_df.csv',index= False)"
   ]
  }
 ],
 "metadata": {
  "kernelspec": {
   "display_name": "Python 3",
   "language": "python",
   "name": "python3"
  },
  "language_info": {
   "codemirror_mode": {
    "name": "ipython",
    "version": 3
   },
   "file_extension": ".py",
   "mimetype": "text/x-python",
   "name": "python",
   "nbconvert_exporter": "python",
   "pygments_lexer": "ipython3",
   "version": "3.7.4"
  }
 },
 "nbformat": 4,
 "nbformat_minor": 2
}
