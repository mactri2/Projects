{
 "cells": [
  {
   "cell_type": "markdown",
   "metadata": {},
   "source": [
    "# Project 2 Ames Housing Code"
   ]
  },
  {
   "cell_type": "markdown",
   "metadata": {},
   "source": [
    "# Kaggle Project 2 Regression Challenge Rules\n",
    "Predict the values for your target column in the test dataset and submit your predictions to Kaggle to see how your model does against unknown data.\n",
    "    - **Note**: Kaggle expects to see your submissions in a specific format. Check the challenge's page to make sure you are formatting your CSVs correctly!\n",
    "    - **You are limited to models you've learned in class**. In other words, you cannot use XGBoost, Neural Networks or any other advanced model for this project."
   ]
  },
  {
   "cell_type": "markdown",
   "metadata": {},
   "source": [
    "# Guidelines\n",
    "\n",
    "Generate your regression model using the training data. We expect that within this process, you'll be making use of:\n",
    "    - train-test split\n",
    "    - cross-validation / grid searching for hyperparameters\n",
    "    - strong exploratory data analysis to question correlation and relationship across predictive variables\n",
    "    - code that reproducibly and consistently applies feature transformation (such as the preprocessing library)\n",
    "\n",
    "\n",
    "Evaluate your models!\n",
    "    - consider your evaluation metrics\n",
    "    - consider your baseline score\n",
    "    - how can your model be used for inference?\n",
    "    - why do you believe your model will generalize to new data?"
   ]
  },
  {
   "cell_type": "markdown",
   "metadata": {},
   "source": [
    "# Imports"
   ]
  },
  {
   "cell_type": "code",
   "execution_count": 1,
   "metadata": {},
   "outputs": [],
   "source": [
    "#the usual suspects\n",
    "from matplotlib import pyplot as plt\n",
    "import numpy as np\n",
    "import pandas as pd\n",
    "import os\n",
    "import seaborn as sns\n",
    "\n",
    "%matplotlib inline\n",
    "\n",
    "#statsmodel\n",
    "import statsmodels.api as sm\n",
    "\n",
    "#scipy\n",
    "from scipy.stats import ttest_ind\n",
    "\n",
    "#sklearn\n",
    "from sklearn import metrics\n",
    "from sklearn.linear_model import LinearRegression\n",
    "from sklearn.metrics import r2_score, mean_squared_error\n",
    "from sklearn.model_selection import train_test_split\n",
    "from sklearn import linear_model\n",
    "from sklearn.preprocessing import StandardScaler, PolynomialFeatures"
   ]
  },
  {
   "cell_type": "markdown",
   "metadata": {},
   "source": [
    "# Read Data"
   ]
  },
  {
   "cell_type": "code",
   "execution_count": 2,
   "metadata": {},
   "outputs": [
    {
     "data": {
      "text/plain": [
       "'/Users/tringuyen/Desktop/ga/Projects/Project_2_Ames_Housing_Tri/code'"
      ]
     },
     "execution_count": 2,
     "metadata": {},
     "output_type": "execute_result"
    }
   ],
   "source": [
    "pwd"
   ]
  },
  {
   "cell_type": "code",
   "execution_count": 3,
   "metadata": {},
   "outputs": [],
   "source": [
    "train = pd.read_csv('../datasets/train.csv')\n",
    "test = pd.read_csv('../datasets/test.csv')"
   ]
  },
  {
   "cell_type": "markdown",
   "metadata": {},
   "source": [
    "# Explore Data"
   ]
  },
  {
   "cell_type": "code",
   "execution_count": 4,
   "metadata": {},
   "outputs": [
    {
     "data": {
      "text/plain": [
       "((2051, 81), (878, 80))"
      ]
     },
     "execution_count": 4,
     "metadata": {},
     "output_type": "execute_result"
    }
   ],
   "source": [
    "train.shape, test.shape"
   ]
  },
  {
   "cell_type": "code",
   "execution_count": 5,
   "metadata": {},
   "outputs": [
    {
     "data": {
      "text/plain": [
       "0    130500\n",
       "1    220000\n",
       "2    109000\n",
       "Name: SalePrice, dtype: int64"
      ]
     },
     "execution_count": 5,
     "metadata": {},
     "output_type": "execute_result"
    }
   ],
   "source": [
    "train['SalePrice'][:3]"
   ]
  },
  {
   "cell_type": "code",
   "execution_count": 6,
   "metadata": {},
   "outputs": [
    {
     "data": {
      "text/plain": [
       "Id                0\n",
       "PID               0\n",
       "MS SubClass       0\n",
       "MS Zoning         0\n",
       "Lot Frontage    330\n",
       "               ... \n",
       "Misc Val          0\n",
       "Mo Sold           0\n",
       "Yr Sold           0\n",
       "Sale Type         0\n",
       "SalePrice         0\n",
       "Length: 81, dtype: int64"
      ]
     },
     "execution_count": 6,
     "metadata": {},
     "output_type": "execute_result"
    }
   ],
   "source": [
    "train.isnull().sum()"
   ]
  },
  {
   "cell_type": "code",
   "execution_count": 7,
   "metadata": {
    "scrolled": false
   },
   "outputs": [
    {
     "data": {
      "text/html": [
       "<div>\n",
       "<style scoped>\n",
       "    .dataframe tbody tr th:only-of-type {\n",
       "        vertical-align: middle;\n",
       "    }\n",
       "\n",
       "    .dataframe tbody tr th {\n",
       "        vertical-align: top;\n",
       "    }\n",
       "\n",
       "    .dataframe thead th {\n",
       "        text-align: right;\n",
       "    }\n",
       "</style>\n",
       "<table border=\"1\" class=\"dataframe\">\n",
       "  <thead>\n",
       "    <tr style=\"text-align: right;\">\n",
       "      <th></th>\n",
       "      <th>Id</th>\n",
       "      <th>PID</th>\n",
       "      <th>MS SubClass</th>\n",
       "      <th>Lot Frontage</th>\n",
       "      <th>Lot Area</th>\n",
       "      <th>Overall Qual</th>\n",
       "      <th>Overall Cond</th>\n",
       "      <th>Year Built</th>\n",
       "      <th>Year Remod/Add</th>\n",
       "      <th>Mas Vnr Area</th>\n",
       "      <th>...</th>\n",
       "      <th>Wood Deck SF</th>\n",
       "      <th>Open Porch SF</th>\n",
       "      <th>Enclosed Porch</th>\n",
       "      <th>3Ssn Porch</th>\n",
       "      <th>Screen Porch</th>\n",
       "      <th>Pool Area</th>\n",
       "      <th>Misc Val</th>\n",
       "      <th>Mo Sold</th>\n",
       "      <th>Yr Sold</th>\n",
       "      <th>SalePrice</th>\n",
       "    </tr>\n",
       "  </thead>\n",
       "  <tbody>\n",
       "    <tr>\n",
       "      <th>Id</th>\n",
       "      <td>1.000000</td>\n",
       "      <td>0.175793</td>\n",
       "      <td>0.026543</td>\n",
       "      <td>-0.024967</td>\n",
       "      <td>0.032872</td>\n",
       "      <td>-0.061483</td>\n",
       "      <td>-0.026096</td>\n",
       "      <td>-0.064444</td>\n",
       "      <td>-0.090040</td>\n",
       "      <td>-0.035493</td>\n",
       "      <td>...</td>\n",
       "      <td>-0.009045</td>\n",
       "      <td>0.001382</td>\n",
       "      <td>0.033747</td>\n",
       "      <td>-0.022791</td>\n",
       "      <td>0.009758</td>\n",
       "      <td>0.055696</td>\n",
       "      <td>-0.012683</td>\n",
       "      <td>0.127723</td>\n",
       "      <td>-0.975747</td>\n",
       "      <td>-0.051398</td>\n",
       "    </tr>\n",
       "    <tr>\n",
       "      <th>PID</th>\n",
       "      <td>0.175793</td>\n",
       "      <td>1.000000</td>\n",
       "      <td>-0.003632</td>\n",
       "      <td>-0.091291</td>\n",
       "      <td>0.024135</td>\n",
       "      <td>-0.265863</td>\n",
       "      <td>0.106861</td>\n",
       "      <td>-0.347039</td>\n",
       "      <td>-0.176666</td>\n",
       "      <td>-0.247959</td>\n",
       "      <td>...</td>\n",
       "      <td>-0.041221</td>\n",
       "      <td>-0.081129</td>\n",
       "      <td>0.150179</td>\n",
       "      <td>-0.024679</td>\n",
       "      <td>-0.042030</td>\n",
       "      <td>0.005825</td>\n",
       "      <td>0.004223</td>\n",
       "      <td>-0.032735</td>\n",
       "      <td>0.008476</td>\n",
       "      <td>-0.255052</td>\n",
       "    </tr>\n",
       "    <tr>\n",
       "      <th>MS SubClass</th>\n",
       "      <td>0.026543</td>\n",
       "      <td>-0.003632</td>\n",
       "      <td>1.000000</td>\n",
       "      <td>-0.389790</td>\n",
       "      <td>-0.245484</td>\n",
       "      <td>0.035763</td>\n",
       "      <td>-0.070141</td>\n",
       "      <td>0.035983</td>\n",
       "      <td>0.044836</td>\n",
       "      <td>-0.004047</td>\n",
       "      <td>...</td>\n",
       "      <td>0.001622</td>\n",
       "      <td>-0.020289</td>\n",
       "      <td>-0.039842</td>\n",
       "      <td>-0.030088</td>\n",
       "      <td>-0.038819</td>\n",
       "      <td>-0.004585</td>\n",
       "      <td>-0.027485</td>\n",
       "      <td>0.013027</td>\n",
       "      <td>-0.032870</td>\n",
       "      <td>-0.087335</td>\n",
       "    </tr>\n",
       "    <tr>\n",
       "      <th>Lot Frontage</th>\n",
       "      <td>-0.024967</td>\n",
       "      <td>-0.091291</td>\n",
       "      <td>-0.389790</td>\n",
       "      <td>1.000000</td>\n",
       "      <td>0.574024</td>\n",
       "      <td>0.194808</td>\n",
       "      <td>-0.054455</td>\n",
       "      <td>0.109504</td>\n",
       "      <td>0.085052</td>\n",
       "      <td>0.218218</td>\n",
       "      <td>...</td>\n",
       "      <td>0.115180</td>\n",
       "      <td>0.184958</td>\n",
       "      <td>-0.003302</td>\n",
       "      <td>0.031855</td>\n",
       "      <td>0.074819</td>\n",
       "      <td>0.156575</td>\n",
       "      <td>0.051676</td>\n",
       "      <td>-0.017389</td>\n",
       "      <td>0.009112</td>\n",
       "      <td>0.341842</td>\n",
       "    </tr>\n",
       "    <tr>\n",
       "      <th>Lot Area</th>\n",
       "      <td>0.032872</td>\n",
       "      <td>0.024135</td>\n",
       "      <td>-0.245484</td>\n",
       "      <td>0.574024</td>\n",
       "      <td>1.000000</td>\n",
       "      <td>0.105824</td>\n",
       "      <td>-0.019185</td>\n",
       "      <td>0.036002</td>\n",
       "      <td>0.050771</td>\n",
       "      <td>0.169379</td>\n",
       "      <td>...</td>\n",
       "      <td>0.155623</td>\n",
       "      <td>0.140864</td>\n",
       "      <td>0.014139</td>\n",
       "      <td>0.019553</td>\n",
       "      <td>0.067714</td>\n",
       "      <td>0.115102</td>\n",
       "      <td>0.093922</td>\n",
       "      <td>0.003197</td>\n",
       "      <td>-0.029454</td>\n",
       "      <td>0.296566</td>\n",
       "    </tr>\n",
       "    <tr>\n",
       "      <th>Overall Qual</th>\n",
       "      <td>-0.061483</td>\n",
       "      <td>-0.265863</td>\n",
       "      <td>0.035763</td>\n",
       "      <td>0.194808</td>\n",
       "      <td>0.105824</td>\n",
       "      <td>1.000000</td>\n",
       "      <td>-0.082770</td>\n",
       "      <td>0.602964</td>\n",
       "      <td>0.584654</td>\n",
       "      <td>0.438685</td>\n",
       "      <td>...</td>\n",
       "      <td>0.257081</td>\n",
       "      <td>0.308855</td>\n",
       "      <td>-0.154554</td>\n",
       "      <td>0.031938</td>\n",
       "      <td>0.048752</td>\n",
       "      <td>0.006558</td>\n",
       "      <td>0.022099</td>\n",
       "      <td>0.019242</td>\n",
       "      <td>-0.011578</td>\n",
       "      <td>0.800207</td>\n",
       "    </tr>\n",
       "    <tr>\n",
       "      <th>Overall Cond</th>\n",
       "      <td>-0.026096</td>\n",
       "      <td>0.106861</td>\n",
       "      <td>-0.070141</td>\n",
       "      <td>-0.054455</td>\n",
       "      <td>-0.019185</td>\n",
       "      <td>-0.082770</td>\n",
       "      <td>1.000000</td>\n",
       "      <td>-0.370988</td>\n",
       "      <td>0.042614</td>\n",
       "      <td>-0.135878</td>\n",
       "      <td>...</td>\n",
       "      <td>0.011034</td>\n",
       "      <td>-0.052266</td>\n",
       "      <td>0.108320</td>\n",
       "      <td>0.026907</td>\n",
       "      <td>0.047359</td>\n",
       "      <td>-0.005806</td>\n",
       "      <td>0.014269</td>\n",
       "      <td>-0.003144</td>\n",
       "      <td>0.047664</td>\n",
       "      <td>-0.097019</td>\n",
       "    </tr>\n",
       "    <tr>\n",
       "      <th>Year Built</th>\n",
       "      <td>-0.064444</td>\n",
       "      <td>-0.347039</td>\n",
       "      <td>0.035983</td>\n",
       "      <td>0.109504</td>\n",
       "      <td>0.036002</td>\n",
       "      <td>0.602964</td>\n",
       "      <td>-0.370988</td>\n",
       "      <td>1.000000</td>\n",
       "      <td>0.629116</td>\n",
       "      <td>0.329741</td>\n",
       "      <td>...</td>\n",
       "      <td>0.216339</td>\n",
       "      <td>0.207798</td>\n",
       "      <td>-0.380082</td>\n",
       "      <td>0.016104</td>\n",
       "      <td>-0.037866</td>\n",
       "      <td>0.003728</td>\n",
       "      <td>0.000626</td>\n",
       "      <td>-0.007083</td>\n",
       "      <td>-0.003559</td>\n",
       "      <td>0.571849</td>\n",
       "    </tr>\n",
       "    <tr>\n",
       "      <th>Year Remod/Add</th>\n",
       "      <td>-0.090040</td>\n",
       "      <td>-0.176666</td>\n",
       "      <td>0.044836</td>\n",
       "      <td>0.085052</td>\n",
       "      <td>0.050771</td>\n",
       "      <td>0.584654</td>\n",
       "      <td>0.042614</td>\n",
       "      <td>0.629116</td>\n",
       "      <td>1.000000</td>\n",
       "      <td>0.211443</td>\n",
       "      <td>...</td>\n",
       "      <td>0.216271</td>\n",
       "      <td>0.264476</td>\n",
       "      <td>-0.237523</td>\n",
       "      <td>0.040416</td>\n",
       "      <td>-0.041211</td>\n",
       "      <td>-0.022382</td>\n",
       "      <td>-0.001704</td>\n",
       "      <td>0.011568</td>\n",
       "      <td>0.042744</td>\n",
       "      <td>0.550370</td>\n",
       "    </tr>\n",
       "    <tr>\n",
       "      <th>Mas Vnr Area</th>\n",
       "      <td>-0.035493</td>\n",
       "      <td>-0.247959</td>\n",
       "      <td>-0.004047</td>\n",
       "      <td>0.218218</td>\n",
       "      <td>0.169379</td>\n",
       "      <td>0.438685</td>\n",
       "      <td>-0.135878</td>\n",
       "      <td>0.329741</td>\n",
       "      <td>0.211443</td>\n",
       "      <td>1.000000</td>\n",
       "      <td>...</td>\n",
       "      <td>0.163584</td>\n",
       "      <td>0.163489</td>\n",
       "      <td>-0.107104</td>\n",
       "      <td>0.011161</td>\n",
       "      <td>0.086631</td>\n",
       "      <td>0.012422</td>\n",
       "      <td>0.079219</td>\n",
       "      <td>-0.001472</td>\n",
       "      <td>-0.018719</td>\n",
       "      <td>0.512230</td>\n",
       "    </tr>\n",
       "    <tr>\n",
       "      <th>BsmtFin SF 1</th>\n",
       "      <td>-0.045878</td>\n",
       "      <td>-0.086522</td>\n",
       "      <td>-0.060854</td>\n",
       "      <td>0.214178</td>\n",
       "      <td>0.215430</td>\n",
       "      <td>0.278742</td>\n",
       "      <td>-0.045768</td>\n",
       "      <td>0.275440</td>\n",
       "      <td>0.166680</td>\n",
       "      <td>0.321807</td>\n",
       "      <td>...</td>\n",
       "      <td>0.214274</td>\n",
       "      <td>0.140286</td>\n",
       "      <td>-0.076963</td>\n",
       "      <td>0.047719</td>\n",
       "      <td>0.093226</td>\n",
       "      <td>0.075925</td>\n",
       "      <td>0.130042</td>\n",
       "      <td>-0.010534</td>\n",
       "      <td>0.037978</td>\n",
       "      <td>0.423519</td>\n",
       "    </tr>\n",
       "    <tr>\n",
       "      <th>BsmtFin SF 2</th>\n",
       "      <td>0.000723</td>\n",
       "      <td>-0.013144</td>\n",
       "      <td>-0.068265</td>\n",
       "      <td>0.036740</td>\n",
       "      <td>0.041717</td>\n",
       "      <td>-0.028199</td>\n",
       "      <td>0.047810</td>\n",
       "      <td>-0.021031</td>\n",
       "      <td>-0.057163</td>\n",
       "      <td>-0.016756</td>\n",
       "      <td>...</td>\n",
       "      <td>0.105836</td>\n",
       "      <td>-0.004382</td>\n",
       "      <td>0.004540</td>\n",
       "      <td>-0.024225</td>\n",
       "      <td>0.096405</td>\n",
       "      <td>0.061026</td>\n",
       "      <td>-0.005515</td>\n",
       "      <td>-0.013945</td>\n",
       "      <td>-0.000013</td>\n",
       "      <td>0.016255</td>\n",
       "    </tr>\n",
       "    <tr>\n",
       "      <th>Bsmt Unf SF</th>\n",
       "      <td>0.008555</td>\n",
       "      <td>-0.111281</td>\n",
       "      <td>-0.139911</td>\n",
       "      <td>0.127605</td>\n",
       "      <td>0.041184</td>\n",
       "      <td>0.275773</td>\n",
       "      <td>-0.130521</td>\n",
       "      <td>0.136662</td>\n",
       "      <td>0.160066</td>\n",
       "      <td>0.085853</td>\n",
       "      <td>...</td>\n",
       "      <td>-0.034438</td>\n",
       "      <td>0.116019</td>\n",
       "      <td>-0.010847</td>\n",
       "      <td>0.020409</td>\n",
       "      <td>-0.055558</td>\n",
       "      <td>-0.039209</td>\n",
       "      <td>-0.005888</td>\n",
       "      <td>0.020043</td>\n",
       "      <td>-0.043683</td>\n",
       "      <td>0.190210</td>\n",
       "    </tr>\n",
       "    <tr>\n",
       "      <th>Total Bsmt SF</th>\n",
       "      <td>-0.038346</td>\n",
       "      <td>-0.203795</td>\n",
       "      <td>-0.226038</td>\n",
       "      <td>0.356584</td>\n",
       "      <td>0.277175</td>\n",
       "      <td>0.548742</td>\n",
       "      <td>-0.158643</td>\n",
       "      <td>0.410254</td>\n",
       "      <td>0.308545</td>\n",
       "      <td>0.408575</td>\n",
       "      <td>...</td>\n",
       "      <td>0.224659</td>\n",
       "      <td>0.257227</td>\n",
       "      <td>-0.088055</td>\n",
       "      <td>0.060283</td>\n",
       "      <td>0.076061</td>\n",
       "      <td>0.061503</td>\n",
       "      <td>0.125600</td>\n",
       "      <td>0.003915</td>\n",
       "      <td>-0.004280</td>\n",
       "      <td>0.628925</td>\n",
       "    </tr>\n",
       "    <tr>\n",
       "      <th>1st Flr SF</th>\n",
       "      <td>-0.022650</td>\n",
       "      <td>-0.145862</td>\n",
       "      <td>-0.246212</td>\n",
       "      <td>0.463900</td>\n",
       "      <td>0.381593</td>\n",
       "      <td>0.477136</td>\n",
       "      <td>-0.150938</td>\n",
       "      <td>0.323315</td>\n",
       "      <td>0.244190</td>\n",
       "      <td>0.391349</td>\n",
       "      <td>...</td>\n",
       "      <td>0.226243</td>\n",
       "      <td>0.259072</td>\n",
       "      <td>-0.044032</td>\n",
       "      <td>0.066991</td>\n",
       "      <td>0.089140</td>\n",
       "      <td>0.129995</td>\n",
       "      <td>0.139496</td>\n",
       "      <td>0.027038</td>\n",
       "      <td>-0.007432</td>\n",
       "      <td>0.618486</td>\n",
       "    </tr>\n",
       "    <tr>\n",
       "      <th>2nd Flr SF</th>\n",
       "      <td>-0.008388</td>\n",
       "      <td>-0.005598</td>\n",
       "      <td>0.305771</td>\n",
       "      <td>0.013700</td>\n",
       "      <td>0.029398</td>\n",
       "      <td>0.228152</td>\n",
       "      <td>0.010912</td>\n",
       "      <td>0.022313</td>\n",
       "      <td>0.159605</td>\n",
       "      <td>0.100568</td>\n",
       "      <td>...</td>\n",
       "      <td>0.109070</td>\n",
       "      <td>0.165080</td>\n",
       "      <td>0.021083</td>\n",
       "      <td>-0.033167</td>\n",
       "      <td>0.035105</td>\n",
       "      <td>0.012642</td>\n",
       "      <td>0.004413</td>\n",
       "      <td>0.030248</td>\n",
       "      <td>-0.011915</td>\n",
       "      <td>0.248452</td>\n",
       "    </tr>\n",
       "    <tr>\n",
       "      <th>Low Qual Fin SF</th>\n",
       "      <td>0.011719</td>\n",
       "      <td>0.072268</td>\n",
       "      <td>0.031091</td>\n",
       "      <td>-0.000300</td>\n",
       "      <td>0.001273</td>\n",
       "      <td>-0.052338</td>\n",
       "      <td>0.004753</td>\n",
       "      <td>-0.159403</td>\n",
       "      <td>-0.066577</td>\n",
       "      <td>-0.061878</td>\n",
       "      <td>...</td>\n",
       "      <td>-0.017246</td>\n",
       "      <td>-0.006253</td>\n",
       "      <td>0.089883</td>\n",
       "      <td>-0.003461</td>\n",
       "      <td>0.014218</td>\n",
       "      <td>-0.006854</td>\n",
       "      <td>-0.005756</td>\n",
       "      <td>0.024471</td>\n",
       "      <td>0.001288</td>\n",
       "      <td>-0.041594</td>\n",
       "    </tr>\n",
       "    <tr>\n",
       "      <th>Gr Liv Area</th>\n",
       "      <td>-0.023881</td>\n",
       "      <td>-0.112936</td>\n",
       "      <td>0.068210</td>\n",
       "      <td>0.383856</td>\n",
       "      <td>0.327427</td>\n",
       "      <td>0.566701</td>\n",
       "      <td>-0.109804</td>\n",
       "      <td>0.258838</td>\n",
       "      <td>0.322407</td>\n",
       "      <td>0.387833</td>\n",
       "      <td>...</td>\n",
       "      <td>0.270239</td>\n",
       "      <td>0.345008</td>\n",
       "      <td>-0.007777</td>\n",
       "      <td>0.024504</td>\n",
       "      <td>0.101926</td>\n",
       "      <td>0.113034</td>\n",
       "      <td>0.113673</td>\n",
       "      <td>0.049644</td>\n",
       "      <td>-0.015891</td>\n",
       "      <td>0.697038</td>\n",
       "    </tr>\n",
       "    <tr>\n",
       "      <th>Bsmt Full Bath</th>\n",
       "      <td>-0.033385</td>\n",
       "      <td>-0.030554</td>\n",
       "      <td>0.025055</td>\n",
       "      <td>0.111441</td>\n",
       "      <td>0.116128</td>\n",
       "      <td>0.175171</td>\n",
       "      <td>-0.039113</td>\n",
       "      <td>0.215200</td>\n",
       "      <td>0.153507</td>\n",
       "      <td>0.148049</td>\n",
       "      <td>...</td>\n",
       "      <td>0.196886</td>\n",
       "      <td>0.090170</td>\n",
       "      <td>-0.073358</td>\n",
       "      <td>0.022972</td>\n",
       "      <td>0.055399</td>\n",
       "      <td>0.043704</td>\n",
       "      <td>-0.003515</td>\n",
       "      <td>-0.009609</td>\n",
       "      <td>0.035344</td>\n",
       "      <td>0.283662</td>\n",
       "    </tr>\n",
       "    <tr>\n",
       "      <th>Bsmt Half Bath</th>\n",
       "      <td>0.014381</td>\n",
       "      <td>-0.001946</td>\n",
       "      <td>-0.017249</td>\n",
       "      <td>-0.030858</td>\n",
       "      <td>0.029980</td>\n",
       "      <td>-0.047318</td>\n",
       "      <td>0.100324</td>\n",
       "      <td>-0.031464</td>\n",
       "      <td>-0.037923</td>\n",
       "      <td>0.010220</td>\n",
       "      <td>...</td>\n",
       "      <td>0.031754</td>\n",
       "      <td>-0.032635</td>\n",
       "      <td>-0.012093</td>\n",
       "      <td>0.030571</td>\n",
       "      <td>0.037595</td>\n",
       "      <td>0.066097</td>\n",
       "      <td>0.050212</td>\n",
       "      <td>0.026370</td>\n",
       "      <td>-0.010072</td>\n",
       "      <td>-0.045328</td>\n",
       "    </tr>\n",
       "    <tr>\n",
       "      <th>Full Bath</th>\n",
       "      <td>-0.059086</td>\n",
       "      <td>-0.179370</td>\n",
       "      <td>0.142087</td>\n",
       "      <td>0.152812</td>\n",
       "      <td>0.125601</td>\n",
       "      <td>0.515080</td>\n",
       "      <td>-0.219189</td>\n",
       "      <td>0.480169</td>\n",
       "      <td>0.471555</td>\n",
       "      <td>0.240034</td>\n",
       "      <td>...</td>\n",
       "      <td>0.175502</td>\n",
       "      <td>0.244452</td>\n",
       "      <td>-0.125383</td>\n",
       "      <td>0.027870</td>\n",
       "      <td>-0.014296</td>\n",
       "      <td>0.010458</td>\n",
       "      <td>0.003293</td>\n",
       "      <td>0.049390</td>\n",
       "      <td>0.007140</td>\n",
       "      <td>0.537969</td>\n",
       "    </tr>\n",
       "    <tr>\n",
       "      <th>Half Bath</th>\n",
       "      <td>-0.042054</td>\n",
       "      <td>-0.163975</td>\n",
       "      <td>0.179404</td>\n",
       "      <td>0.035842</td>\n",
       "      <td>0.049995</td>\n",
       "      <td>0.274859</td>\n",
       "      <td>-0.093266</td>\n",
       "      <td>0.283207</td>\n",
       "      <td>0.224106</td>\n",
       "      <td>0.192687</td>\n",
       "      <td>...</td>\n",
       "      <td>0.125241</td>\n",
       "      <td>0.181469</td>\n",
       "      <td>-0.100591</td>\n",
       "      <td>-0.027131</td>\n",
       "      <td>0.046712</td>\n",
       "      <td>0.001294</td>\n",
       "      <td>0.055789</td>\n",
       "      <td>0.010521</td>\n",
       "      <td>0.001987</td>\n",
       "      <td>0.283001</td>\n",
       "    </tr>\n",
       "    <tr>\n",
       "      <th>Bedroom AbvGr</th>\n",
       "      <td>0.010605</td>\n",
       "      <td>0.009122</td>\n",
       "      <td>-0.003516</td>\n",
       "      <td>0.220414</td>\n",
       "      <td>0.139060</td>\n",
       "      <td>0.053373</td>\n",
       "      <td>-0.009908</td>\n",
       "      <td>-0.042149</td>\n",
       "      <td>-0.019748</td>\n",
       "      <td>0.054589</td>\n",
       "      <td>...</td>\n",
       "      <td>0.034758</td>\n",
       "      <td>0.053433</td>\n",
       "      <td>0.033030</td>\n",
       "      <td>-0.033802</td>\n",
       "      <td>0.019606</td>\n",
       "      <td>0.027438</td>\n",
       "      <td>0.012274</td>\n",
       "      <td>0.068281</td>\n",
       "      <td>-0.011692</td>\n",
       "      <td>0.137067</td>\n",
       "    </tr>\n",
       "    <tr>\n",
       "      <th>Kitchen AbvGr</th>\n",
       "      <td>-0.002400</td>\n",
       "      <td>0.068416</td>\n",
       "      <td>0.252111</td>\n",
       "      <td>0.015856</td>\n",
       "      <td>-0.013484</td>\n",
       "      <td>-0.170964</td>\n",
       "      <td>-0.095725</td>\n",
       "      <td>-0.127162</td>\n",
       "      <td>-0.135926</td>\n",
       "      <td>-0.070677</td>\n",
       "      <td>...</td>\n",
       "      <td>-0.090013</td>\n",
       "      <td>-0.083502</td>\n",
       "      <td>0.016189</td>\n",
       "      <td>-0.021017</td>\n",
       "      <td>-0.058886</td>\n",
       "      <td>-0.012986</td>\n",
       "      <td>0.031474</td>\n",
       "      <td>0.047143</td>\n",
       "      <td>0.020800</td>\n",
       "      <td>-0.125444</td>\n",
       "    </tr>\n",
       "    <tr>\n",
       "      <th>TotRms AbvGrd</th>\n",
       "      <td>-0.009092</td>\n",
       "      <td>-0.084999</td>\n",
       "      <td>0.034490</td>\n",
       "      <td>0.362704</td>\n",
       "      <td>0.238724</td>\n",
       "      <td>0.382025</td>\n",
       "      <td>-0.093576</td>\n",
       "      <td>0.137783</td>\n",
       "      <td>0.202397</td>\n",
       "      <td>0.273359</td>\n",
       "      <td>...</td>\n",
       "      <td>0.182835</td>\n",
       "      <td>0.226346</td>\n",
       "      <td>0.005521</td>\n",
       "      <td>-0.008101</td>\n",
       "      <td>0.046329</td>\n",
       "      <td>0.072500</td>\n",
       "      <td>0.100175</td>\n",
       "      <td>0.054154</td>\n",
       "      <td>-0.022041</td>\n",
       "      <td>0.504014</td>\n",
       "    </tr>\n",
       "    <tr>\n",
       "      <th>Fireplaces</th>\n",
       "      <td>-0.037560</td>\n",
       "      <td>-0.120710</td>\n",
       "      <td>-0.055118</td>\n",
       "      <td>0.253456</td>\n",
       "      <td>0.289467</td>\n",
       "      <td>0.388920</td>\n",
       "      <td>-0.006463</td>\n",
       "      <td>0.168848</td>\n",
       "      <td>0.138858</td>\n",
       "      <td>0.269104</td>\n",
       "      <td>...</td>\n",
       "      <td>0.238887</td>\n",
       "      <td>0.169169</td>\n",
       "      <td>0.009368</td>\n",
       "      <td>0.026411</td>\n",
       "      <td>0.167071</td>\n",
       "      <td>0.107769</td>\n",
       "      <td>0.023372</td>\n",
       "      <td>0.018228</td>\n",
       "      <td>0.006887</td>\n",
       "      <td>0.471093</td>\n",
       "    </tr>\n",
       "    <tr>\n",
       "      <th>Garage Yr Blt</th>\n",
       "      <td>-0.050730</td>\n",
       "      <td>-0.251257</td>\n",
       "      <td>0.084954</td>\n",
       "      <td>0.067865</td>\n",
       "      <td>0.004882</td>\n",
       "      <td>0.574553</td>\n",
       "      <td>-0.331765</td>\n",
       "      <td>0.825316</td>\n",
       "      <td>0.674024</td>\n",
       "      <td>0.266763</td>\n",
       "      <td>...</td>\n",
       "      <td>0.221800</td>\n",
       "      <td>0.225691</td>\n",
       "      <td>-0.296218</td>\n",
       "      <td>0.025013</td>\n",
       "      <td>-0.054368</td>\n",
       "      <td>-0.013425</td>\n",
       "      <td>0.004736</td>\n",
       "      <td>0.013538</td>\n",
       "      <td>-0.005346</td>\n",
       "      <td>0.533922</td>\n",
       "    </tr>\n",
       "    <tr>\n",
       "      <th>Garage Cars</th>\n",
       "      <td>-0.048666</td>\n",
       "      <td>-0.228368</td>\n",
       "      <td>-0.049148</td>\n",
       "      <td>0.297143</td>\n",
       "      <td>0.214954</td>\n",
       "      <td>0.587423</td>\n",
       "      <td>-0.168513</td>\n",
       "      <td>0.542544</td>\n",
       "      <td>0.441796</td>\n",
       "      <td>0.361211</td>\n",
       "      <td>...</td>\n",
       "      <td>0.240721</td>\n",
       "      <td>0.215364</td>\n",
       "      <td>-0.139608</td>\n",
       "      <td>0.028393</td>\n",
       "      <td>0.053582</td>\n",
       "      <td>0.021566</td>\n",
       "      <td>0.003053</td>\n",
       "      <td>0.020801</td>\n",
       "      <td>-0.009996</td>\n",
       "      <td>0.648220</td>\n",
       "    </tr>\n",
       "    <tr>\n",
       "      <th>Garage Area</th>\n",
       "      <td>-0.045201</td>\n",
       "      <td>-0.200891</td>\n",
       "      <td>-0.108228</td>\n",
       "      <td>0.358457</td>\n",
       "      <td>0.263296</td>\n",
       "      <td>0.563814</td>\n",
       "      <td>-0.137917</td>\n",
       "      <td>0.487177</td>\n",
       "      <td>0.398999</td>\n",
       "      <td>0.384718</td>\n",
       "      <td>...</td>\n",
       "      <td>0.245513</td>\n",
       "      <td>0.247222</td>\n",
       "      <td>-0.112353</td>\n",
       "      <td>0.043918</td>\n",
       "      <td>0.071067</td>\n",
       "      <td>0.045876</td>\n",
       "      <td>0.033641</td>\n",
       "      <td>0.009964</td>\n",
       "      <td>-0.003589</td>\n",
       "      <td>0.650270</td>\n",
       "    </tr>\n",
       "    <tr>\n",
       "      <th>Wood Deck SF</th>\n",
       "      <td>-0.009045</td>\n",
       "      <td>-0.041221</td>\n",
       "      <td>0.001622</td>\n",
       "      <td>0.115180</td>\n",
       "      <td>0.155623</td>\n",
       "      <td>0.257081</td>\n",
       "      <td>0.011034</td>\n",
       "      <td>0.216339</td>\n",
       "      <td>0.216271</td>\n",
       "      <td>0.163584</td>\n",
       "      <td>...</td>\n",
       "      <td>1.000000</td>\n",
       "      <td>0.047630</td>\n",
       "      <td>-0.114079</td>\n",
       "      <td>-0.010851</td>\n",
       "      <td>-0.067770</td>\n",
       "      <td>0.128373</td>\n",
       "      <td>0.085091</td>\n",
       "      <td>0.018500</td>\n",
       "      <td>-0.000912</td>\n",
       "      <td>0.326490</td>\n",
       "    </tr>\n",
       "    <tr>\n",
       "      <th>Open Porch SF</th>\n",
       "      <td>0.001382</td>\n",
       "      <td>-0.081129</td>\n",
       "      <td>-0.020289</td>\n",
       "      <td>0.184958</td>\n",
       "      <td>0.140864</td>\n",
       "      <td>0.308855</td>\n",
       "      <td>-0.052266</td>\n",
       "      <td>0.207798</td>\n",
       "      <td>0.264476</td>\n",
       "      <td>0.163489</td>\n",
       "      <td>...</td>\n",
       "      <td>0.047630</td>\n",
       "      <td>1.000000</td>\n",
       "      <td>-0.077019</td>\n",
       "      <td>-0.007336</td>\n",
       "      <td>0.059027</td>\n",
       "      <td>0.073965</td>\n",
       "      <td>0.109919</td>\n",
       "      <td>0.043632</td>\n",
       "      <td>-0.025895</td>\n",
       "      <td>0.333476</td>\n",
       "    </tr>\n",
       "    <tr>\n",
       "      <th>Enclosed Porch</th>\n",
       "      <td>0.033747</td>\n",
       "      <td>0.150179</td>\n",
       "      <td>-0.039842</td>\n",
       "      <td>-0.003302</td>\n",
       "      <td>0.014139</td>\n",
       "      <td>-0.154554</td>\n",
       "      <td>0.108320</td>\n",
       "      <td>-0.380082</td>\n",
       "      <td>-0.237523</td>\n",
       "      <td>-0.107104</td>\n",
       "      <td>...</td>\n",
       "      <td>-0.114079</td>\n",
       "      <td>-0.077019</td>\n",
       "      <td>1.000000</td>\n",
       "      <td>-0.032145</td>\n",
       "      <td>-0.069049</td>\n",
       "      <td>-0.015636</td>\n",
       "      <td>0.015049</td>\n",
       "      <td>0.004455</td>\n",
       "      <td>-0.006256</td>\n",
       "      <td>-0.135656</td>\n",
       "    </tr>\n",
       "    <tr>\n",
       "      <th>3Ssn Porch</th>\n",
       "      <td>-0.022791</td>\n",
       "      <td>-0.024679</td>\n",
       "      <td>-0.030088</td>\n",
       "      <td>0.031855</td>\n",
       "      <td>0.019553</td>\n",
       "      <td>0.031938</td>\n",
       "      <td>0.026907</td>\n",
       "      <td>0.016104</td>\n",
       "      <td>0.040416</td>\n",
       "      <td>0.011161</td>\n",
       "      <td>...</td>\n",
       "      <td>-0.010851</td>\n",
       "      <td>-0.007336</td>\n",
       "      <td>-0.032145</td>\n",
       "      <td>1.000000</td>\n",
       "      <td>-0.029574</td>\n",
       "      <td>-0.006522</td>\n",
       "      <td>-0.004887</td>\n",
       "      <td>0.020036</td>\n",
       "      <td>0.019424</td>\n",
       "      <td>0.048732</td>\n",
       "    </tr>\n",
       "    <tr>\n",
       "      <th>Screen Porch</th>\n",
       "      <td>0.009758</td>\n",
       "      <td>-0.042030</td>\n",
       "      <td>-0.038819</td>\n",
       "      <td>0.074819</td>\n",
       "      <td>0.067714</td>\n",
       "      <td>0.048752</td>\n",
       "      <td>0.047359</td>\n",
       "      <td>-0.037866</td>\n",
       "      <td>-0.041211</td>\n",
       "      <td>0.086631</td>\n",
       "      <td>...</td>\n",
       "      <td>-0.067770</td>\n",
       "      <td>0.059027</td>\n",
       "      <td>-0.069049</td>\n",
       "      <td>-0.029574</td>\n",
       "      <td>1.000000</td>\n",
       "      <td>0.033114</td>\n",
       "      <td>0.007122</td>\n",
       "      <td>0.029329</td>\n",
       "      <td>-0.017624</td>\n",
       "      <td>0.134581</td>\n",
       "    </tr>\n",
       "    <tr>\n",
       "      <th>Pool Area</th>\n",
       "      <td>0.055696</td>\n",
       "      <td>0.005825</td>\n",
       "      <td>-0.004585</td>\n",
       "      <td>0.156575</td>\n",
       "      <td>0.115102</td>\n",
       "      <td>0.006558</td>\n",
       "      <td>-0.005806</td>\n",
       "      <td>0.003728</td>\n",
       "      <td>-0.022382</td>\n",
       "      <td>0.012422</td>\n",
       "      <td>...</td>\n",
       "      <td>0.128373</td>\n",
       "      <td>0.073965</td>\n",
       "      <td>-0.015636</td>\n",
       "      <td>-0.006522</td>\n",
       "      <td>0.033114</td>\n",
       "      <td>1.000000</td>\n",
       "      <td>0.017661</td>\n",
       "      <td>-0.043118</td>\n",
       "      <td>-0.053768</td>\n",
       "      <td>0.023106</td>\n",
       "    </tr>\n",
       "    <tr>\n",
       "      <th>Misc Val</th>\n",
       "      <td>-0.012683</td>\n",
       "      <td>0.004223</td>\n",
       "      <td>-0.027485</td>\n",
       "      <td>0.051676</td>\n",
       "      <td>0.093922</td>\n",
       "      <td>0.022099</td>\n",
       "      <td>0.014269</td>\n",
       "      <td>0.000626</td>\n",
       "      <td>-0.001704</td>\n",
       "      <td>0.079219</td>\n",
       "      <td>...</td>\n",
       "      <td>0.085091</td>\n",
       "      <td>0.109919</td>\n",
       "      <td>0.015049</td>\n",
       "      <td>-0.004887</td>\n",
       "      <td>0.007122</td>\n",
       "      <td>0.017661</td>\n",
       "      <td>1.000000</td>\n",
       "      <td>0.019483</td>\n",
       "      <td>0.017269</td>\n",
       "      <td>-0.007375</td>\n",
       "    </tr>\n",
       "    <tr>\n",
       "      <th>Mo Sold</th>\n",
       "      <td>0.127723</td>\n",
       "      <td>-0.032735</td>\n",
       "      <td>0.013027</td>\n",
       "      <td>-0.017389</td>\n",
       "      <td>0.003197</td>\n",
       "      <td>0.019242</td>\n",
       "      <td>-0.003144</td>\n",
       "      <td>-0.007083</td>\n",
       "      <td>0.011568</td>\n",
       "      <td>-0.001472</td>\n",
       "      <td>...</td>\n",
       "      <td>0.018500</td>\n",
       "      <td>0.043632</td>\n",
       "      <td>0.004455</td>\n",
       "      <td>0.020036</td>\n",
       "      <td>0.029329</td>\n",
       "      <td>-0.043118</td>\n",
       "      <td>0.019483</td>\n",
       "      <td>1.000000</td>\n",
       "      <td>-0.147494</td>\n",
       "      <td>0.032735</td>\n",
       "    </tr>\n",
       "    <tr>\n",
       "      <th>Yr Sold</th>\n",
       "      <td>-0.975747</td>\n",
       "      <td>0.008476</td>\n",
       "      <td>-0.032870</td>\n",
       "      <td>0.009112</td>\n",
       "      <td>-0.029454</td>\n",
       "      <td>-0.011578</td>\n",
       "      <td>0.047664</td>\n",
       "      <td>-0.003559</td>\n",
       "      <td>0.042744</td>\n",
       "      <td>-0.018719</td>\n",
       "      <td>...</td>\n",
       "      <td>-0.000912</td>\n",
       "      <td>-0.025895</td>\n",
       "      <td>-0.006256</td>\n",
       "      <td>0.019424</td>\n",
       "      <td>-0.017624</td>\n",
       "      <td>-0.053768</td>\n",
       "      <td>0.017269</td>\n",
       "      <td>-0.147494</td>\n",
       "      <td>1.000000</td>\n",
       "      <td>-0.015203</td>\n",
       "    </tr>\n",
       "    <tr>\n",
       "      <th>SalePrice</th>\n",
       "      <td>-0.051398</td>\n",
       "      <td>-0.255052</td>\n",
       "      <td>-0.087335</td>\n",
       "      <td>0.341842</td>\n",
       "      <td>0.296566</td>\n",
       "      <td>0.800207</td>\n",
       "      <td>-0.097019</td>\n",
       "      <td>0.571849</td>\n",
       "      <td>0.550370</td>\n",
       "      <td>0.512230</td>\n",
       "      <td>...</td>\n",
       "      <td>0.326490</td>\n",
       "      <td>0.333476</td>\n",
       "      <td>-0.135656</td>\n",
       "      <td>0.048732</td>\n",
       "      <td>0.134581</td>\n",
       "      <td>0.023106</td>\n",
       "      <td>-0.007375</td>\n",
       "      <td>0.032735</td>\n",
       "      <td>-0.015203</td>\n",
       "      <td>1.000000</td>\n",
       "    </tr>\n",
       "  </tbody>\n",
       "</table>\n",
       "<p>39 rows × 39 columns</p>\n",
       "</div>"
      ],
      "text/plain": [
       "                       Id       PID  MS SubClass  Lot Frontage  Lot Area  \\\n",
       "Id               1.000000  0.175793     0.026543     -0.024967  0.032872   \n",
       "PID              0.175793  1.000000    -0.003632     -0.091291  0.024135   \n",
       "MS SubClass      0.026543 -0.003632     1.000000     -0.389790 -0.245484   \n",
       "Lot Frontage    -0.024967 -0.091291    -0.389790      1.000000  0.574024   \n",
       "Lot Area         0.032872  0.024135    -0.245484      0.574024  1.000000   \n",
       "Overall Qual    -0.061483 -0.265863     0.035763      0.194808  0.105824   \n",
       "Overall Cond    -0.026096  0.106861    -0.070141     -0.054455 -0.019185   \n",
       "Year Built      -0.064444 -0.347039     0.035983      0.109504  0.036002   \n",
       "Year Remod/Add  -0.090040 -0.176666     0.044836      0.085052  0.050771   \n",
       "Mas Vnr Area    -0.035493 -0.247959    -0.004047      0.218218  0.169379   \n",
       "BsmtFin SF 1    -0.045878 -0.086522    -0.060854      0.214178  0.215430   \n",
       "BsmtFin SF 2     0.000723 -0.013144    -0.068265      0.036740  0.041717   \n",
       "Bsmt Unf SF      0.008555 -0.111281    -0.139911      0.127605  0.041184   \n",
       "Total Bsmt SF   -0.038346 -0.203795    -0.226038      0.356584  0.277175   \n",
       "1st Flr SF      -0.022650 -0.145862    -0.246212      0.463900  0.381593   \n",
       "2nd Flr SF      -0.008388 -0.005598     0.305771      0.013700  0.029398   \n",
       "Low Qual Fin SF  0.011719  0.072268     0.031091     -0.000300  0.001273   \n",
       "Gr Liv Area     -0.023881 -0.112936     0.068210      0.383856  0.327427   \n",
       "Bsmt Full Bath  -0.033385 -0.030554     0.025055      0.111441  0.116128   \n",
       "Bsmt Half Bath   0.014381 -0.001946    -0.017249     -0.030858  0.029980   \n",
       "Full Bath       -0.059086 -0.179370     0.142087      0.152812  0.125601   \n",
       "Half Bath       -0.042054 -0.163975     0.179404      0.035842  0.049995   \n",
       "Bedroom AbvGr    0.010605  0.009122    -0.003516      0.220414  0.139060   \n",
       "Kitchen AbvGr   -0.002400  0.068416     0.252111      0.015856 -0.013484   \n",
       "TotRms AbvGrd   -0.009092 -0.084999     0.034490      0.362704  0.238724   \n",
       "Fireplaces      -0.037560 -0.120710    -0.055118      0.253456  0.289467   \n",
       "Garage Yr Blt   -0.050730 -0.251257     0.084954      0.067865  0.004882   \n",
       "Garage Cars     -0.048666 -0.228368    -0.049148      0.297143  0.214954   \n",
       "Garage Area     -0.045201 -0.200891    -0.108228      0.358457  0.263296   \n",
       "Wood Deck SF    -0.009045 -0.041221     0.001622      0.115180  0.155623   \n",
       "Open Porch SF    0.001382 -0.081129    -0.020289      0.184958  0.140864   \n",
       "Enclosed Porch   0.033747  0.150179    -0.039842     -0.003302  0.014139   \n",
       "3Ssn Porch      -0.022791 -0.024679    -0.030088      0.031855  0.019553   \n",
       "Screen Porch     0.009758 -0.042030    -0.038819      0.074819  0.067714   \n",
       "Pool Area        0.055696  0.005825    -0.004585      0.156575  0.115102   \n",
       "Misc Val        -0.012683  0.004223    -0.027485      0.051676  0.093922   \n",
       "Mo Sold          0.127723 -0.032735     0.013027     -0.017389  0.003197   \n",
       "Yr Sold         -0.975747  0.008476    -0.032870      0.009112 -0.029454   \n",
       "SalePrice       -0.051398 -0.255052    -0.087335      0.341842  0.296566   \n",
       "\n",
       "                 Overall Qual  Overall Cond  Year Built  Year Remod/Add  \\\n",
       "Id                  -0.061483     -0.026096   -0.064444       -0.090040   \n",
       "PID                 -0.265863      0.106861   -0.347039       -0.176666   \n",
       "MS SubClass          0.035763     -0.070141    0.035983        0.044836   \n",
       "Lot Frontage         0.194808     -0.054455    0.109504        0.085052   \n",
       "Lot Area             0.105824     -0.019185    0.036002        0.050771   \n",
       "Overall Qual         1.000000     -0.082770    0.602964        0.584654   \n",
       "Overall Cond        -0.082770      1.000000   -0.370988        0.042614   \n",
       "Year Built           0.602964     -0.370988    1.000000        0.629116   \n",
       "Year Remod/Add       0.584654      0.042614    0.629116        1.000000   \n",
       "Mas Vnr Area         0.438685     -0.135878    0.329741        0.211443   \n",
       "BsmtFin SF 1         0.278742     -0.045768    0.275440        0.166680   \n",
       "BsmtFin SF 2        -0.028199      0.047810   -0.021031       -0.057163   \n",
       "Bsmt Unf SF          0.275773     -0.130521    0.136662        0.160066   \n",
       "Total Bsmt SF        0.548742     -0.158643    0.410254        0.308545   \n",
       "1st Flr SF           0.477136     -0.150938    0.323315        0.244190   \n",
       "2nd Flr SF           0.228152      0.010912    0.022313        0.159605   \n",
       "Low Qual Fin SF     -0.052338      0.004753   -0.159403       -0.066577   \n",
       "Gr Liv Area          0.566701     -0.109804    0.258838        0.322407   \n",
       "Bsmt Full Bath       0.175171     -0.039113    0.215200        0.153507   \n",
       "Bsmt Half Bath      -0.047318      0.100324   -0.031464       -0.037923   \n",
       "Full Bath            0.515080     -0.219189    0.480169        0.471555   \n",
       "Half Bath            0.274859     -0.093266    0.283207        0.224106   \n",
       "Bedroom AbvGr        0.053373     -0.009908   -0.042149       -0.019748   \n",
       "Kitchen AbvGr       -0.170964     -0.095725   -0.127162       -0.135926   \n",
       "TotRms AbvGrd        0.382025     -0.093576    0.137783        0.202397   \n",
       "Fireplaces           0.388920     -0.006463    0.168848        0.138858   \n",
       "Garage Yr Blt        0.574553     -0.331765    0.825316        0.674024   \n",
       "Garage Cars          0.587423     -0.168513    0.542544        0.441796   \n",
       "Garage Area          0.563814     -0.137917    0.487177        0.398999   \n",
       "Wood Deck SF         0.257081      0.011034    0.216339        0.216271   \n",
       "Open Porch SF        0.308855     -0.052266    0.207798        0.264476   \n",
       "Enclosed Porch      -0.154554      0.108320   -0.380082       -0.237523   \n",
       "3Ssn Porch           0.031938      0.026907    0.016104        0.040416   \n",
       "Screen Porch         0.048752      0.047359   -0.037866       -0.041211   \n",
       "Pool Area            0.006558     -0.005806    0.003728       -0.022382   \n",
       "Misc Val             0.022099      0.014269    0.000626       -0.001704   \n",
       "Mo Sold              0.019242     -0.003144   -0.007083        0.011568   \n",
       "Yr Sold             -0.011578      0.047664   -0.003559        0.042744   \n",
       "SalePrice            0.800207     -0.097019    0.571849        0.550370   \n",
       "\n",
       "                 Mas Vnr Area  ...  Wood Deck SF  Open Porch SF  \\\n",
       "Id                  -0.035493  ...     -0.009045       0.001382   \n",
       "PID                 -0.247959  ...     -0.041221      -0.081129   \n",
       "MS SubClass         -0.004047  ...      0.001622      -0.020289   \n",
       "Lot Frontage         0.218218  ...      0.115180       0.184958   \n",
       "Lot Area             0.169379  ...      0.155623       0.140864   \n",
       "Overall Qual         0.438685  ...      0.257081       0.308855   \n",
       "Overall Cond        -0.135878  ...      0.011034      -0.052266   \n",
       "Year Built           0.329741  ...      0.216339       0.207798   \n",
       "Year Remod/Add       0.211443  ...      0.216271       0.264476   \n",
       "Mas Vnr Area         1.000000  ...      0.163584       0.163489   \n",
       "BsmtFin SF 1         0.321807  ...      0.214274       0.140286   \n",
       "BsmtFin SF 2        -0.016756  ...      0.105836      -0.004382   \n",
       "Bsmt Unf SF          0.085853  ...     -0.034438       0.116019   \n",
       "Total Bsmt SF        0.408575  ...      0.224659       0.257227   \n",
       "1st Flr SF           0.391349  ...      0.226243       0.259072   \n",
       "2nd Flr SF           0.100568  ...      0.109070       0.165080   \n",
       "Low Qual Fin SF     -0.061878  ...     -0.017246      -0.006253   \n",
       "Gr Liv Area          0.387833  ...      0.270239       0.345008   \n",
       "Bsmt Full Bath       0.148049  ...      0.196886       0.090170   \n",
       "Bsmt Half Bath       0.010220  ...      0.031754      -0.032635   \n",
       "Full Bath            0.240034  ...      0.175502       0.244452   \n",
       "Half Bath            0.192687  ...      0.125241       0.181469   \n",
       "Bedroom AbvGr        0.054589  ...      0.034758       0.053433   \n",
       "Kitchen AbvGr       -0.070677  ...     -0.090013      -0.083502   \n",
       "TotRms AbvGrd        0.273359  ...      0.182835       0.226346   \n",
       "Fireplaces           0.269104  ...      0.238887       0.169169   \n",
       "Garage Yr Blt        0.266763  ...      0.221800       0.225691   \n",
       "Garage Cars          0.361211  ...      0.240721       0.215364   \n",
       "Garage Area          0.384718  ...      0.245513       0.247222   \n",
       "Wood Deck SF         0.163584  ...      1.000000       0.047630   \n",
       "Open Porch SF        0.163489  ...      0.047630       1.000000   \n",
       "Enclosed Porch      -0.107104  ...     -0.114079      -0.077019   \n",
       "3Ssn Porch           0.011161  ...     -0.010851      -0.007336   \n",
       "Screen Porch         0.086631  ...     -0.067770       0.059027   \n",
       "Pool Area            0.012422  ...      0.128373       0.073965   \n",
       "Misc Val             0.079219  ...      0.085091       0.109919   \n",
       "Mo Sold             -0.001472  ...      0.018500       0.043632   \n",
       "Yr Sold             -0.018719  ...     -0.000912      -0.025895   \n",
       "SalePrice            0.512230  ...      0.326490       0.333476   \n",
       "\n",
       "                 Enclosed Porch  3Ssn Porch  Screen Porch  Pool Area  \\\n",
       "Id                     0.033747   -0.022791      0.009758   0.055696   \n",
       "PID                    0.150179   -0.024679     -0.042030   0.005825   \n",
       "MS SubClass           -0.039842   -0.030088     -0.038819  -0.004585   \n",
       "Lot Frontage          -0.003302    0.031855      0.074819   0.156575   \n",
       "Lot Area               0.014139    0.019553      0.067714   0.115102   \n",
       "Overall Qual          -0.154554    0.031938      0.048752   0.006558   \n",
       "Overall Cond           0.108320    0.026907      0.047359  -0.005806   \n",
       "Year Built            -0.380082    0.016104     -0.037866   0.003728   \n",
       "Year Remod/Add        -0.237523    0.040416     -0.041211  -0.022382   \n",
       "Mas Vnr Area          -0.107104    0.011161      0.086631   0.012422   \n",
       "BsmtFin SF 1          -0.076963    0.047719      0.093226   0.075925   \n",
       "BsmtFin SF 2           0.004540   -0.024225      0.096405   0.061026   \n",
       "Bsmt Unf SF           -0.010847    0.020409     -0.055558  -0.039209   \n",
       "Total Bsmt SF         -0.088055    0.060283      0.076061   0.061503   \n",
       "1st Flr SF            -0.044032    0.066991      0.089140   0.129995   \n",
       "2nd Flr SF             0.021083   -0.033167      0.035105   0.012642   \n",
       "Low Qual Fin SF        0.089883   -0.003461      0.014218  -0.006854   \n",
       "Gr Liv Area           -0.007777    0.024504      0.101926   0.113034   \n",
       "Bsmt Full Bath        -0.073358    0.022972      0.055399   0.043704   \n",
       "Bsmt Half Bath        -0.012093    0.030571      0.037595   0.066097   \n",
       "Full Bath             -0.125383    0.027870     -0.014296   0.010458   \n",
       "Half Bath             -0.100591   -0.027131      0.046712   0.001294   \n",
       "Bedroom AbvGr          0.033030   -0.033802      0.019606   0.027438   \n",
       "Kitchen AbvGr          0.016189   -0.021017     -0.058886  -0.012986   \n",
       "TotRms AbvGrd          0.005521   -0.008101      0.046329   0.072500   \n",
       "Fireplaces             0.009368    0.026411      0.167071   0.107769   \n",
       "Garage Yr Blt         -0.296218    0.025013     -0.054368  -0.013425   \n",
       "Garage Cars           -0.139608    0.028393      0.053582   0.021566   \n",
       "Garage Area           -0.112353    0.043918      0.071067   0.045876   \n",
       "Wood Deck SF          -0.114079   -0.010851     -0.067770   0.128373   \n",
       "Open Porch SF         -0.077019   -0.007336      0.059027   0.073965   \n",
       "Enclosed Porch         1.000000   -0.032145     -0.069049  -0.015636   \n",
       "3Ssn Porch            -0.032145    1.000000     -0.029574  -0.006522   \n",
       "Screen Porch          -0.069049   -0.029574      1.000000   0.033114   \n",
       "Pool Area             -0.015636   -0.006522      0.033114   1.000000   \n",
       "Misc Val               0.015049   -0.004887      0.007122   0.017661   \n",
       "Mo Sold                0.004455    0.020036      0.029329  -0.043118   \n",
       "Yr Sold               -0.006256    0.019424     -0.017624  -0.053768   \n",
       "SalePrice             -0.135656    0.048732      0.134581   0.023106   \n",
       "\n",
       "                 Misc Val   Mo Sold   Yr Sold  SalePrice  \n",
       "Id              -0.012683  0.127723 -0.975747  -0.051398  \n",
       "PID              0.004223 -0.032735  0.008476  -0.255052  \n",
       "MS SubClass     -0.027485  0.013027 -0.032870  -0.087335  \n",
       "Lot Frontage     0.051676 -0.017389  0.009112   0.341842  \n",
       "Lot Area         0.093922  0.003197 -0.029454   0.296566  \n",
       "Overall Qual     0.022099  0.019242 -0.011578   0.800207  \n",
       "Overall Cond     0.014269 -0.003144  0.047664  -0.097019  \n",
       "Year Built       0.000626 -0.007083 -0.003559   0.571849  \n",
       "Year Remod/Add  -0.001704  0.011568  0.042744   0.550370  \n",
       "Mas Vnr Area     0.079219 -0.001472 -0.018719   0.512230  \n",
       "BsmtFin SF 1     0.130042 -0.010534  0.037978   0.423519  \n",
       "BsmtFin SF 2    -0.005515 -0.013945 -0.000013   0.016255  \n",
       "Bsmt Unf SF     -0.005888  0.020043 -0.043683   0.190210  \n",
       "Total Bsmt SF    0.125600  0.003915 -0.004280   0.628925  \n",
       "1st Flr SF       0.139496  0.027038 -0.007432   0.618486  \n",
       "2nd Flr SF       0.004413  0.030248 -0.011915   0.248452  \n",
       "Low Qual Fin SF -0.005756  0.024471  0.001288  -0.041594  \n",
       "Gr Liv Area      0.113673  0.049644 -0.015891   0.697038  \n",
       "Bsmt Full Bath  -0.003515 -0.009609  0.035344   0.283662  \n",
       "Bsmt Half Bath   0.050212  0.026370 -0.010072  -0.045328  \n",
       "Full Bath        0.003293  0.049390  0.007140   0.537969  \n",
       "Half Bath        0.055789  0.010521  0.001987   0.283001  \n",
       "Bedroom AbvGr    0.012274  0.068281 -0.011692   0.137067  \n",
       "Kitchen AbvGr    0.031474  0.047143  0.020800  -0.125444  \n",
       "TotRms AbvGrd    0.100175  0.054154 -0.022041   0.504014  \n",
       "Fireplaces       0.023372  0.018228  0.006887   0.471093  \n",
       "Garage Yr Blt    0.004736  0.013538 -0.005346   0.533922  \n",
       "Garage Cars      0.003053  0.020801 -0.009996   0.648220  \n",
       "Garage Area      0.033641  0.009964 -0.003589   0.650270  \n",
       "Wood Deck SF     0.085091  0.018500 -0.000912   0.326490  \n",
       "Open Porch SF    0.109919  0.043632 -0.025895   0.333476  \n",
       "Enclosed Porch   0.015049  0.004455 -0.006256  -0.135656  \n",
       "3Ssn Porch      -0.004887  0.020036  0.019424   0.048732  \n",
       "Screen Porch     0.007122  0.029329 -0.017624   0.134581  \n",
       "Pool Area        0.017661 -0.043118 -0.053768   0.023106  \n",
       "Misc Val         1.000000  0.019483  0.017269  -0.007375  \n",
       "Mo Sold          0.019483  1.000000 -0.147494   0.032735  \n",
       "Yr Sold          0.017269 -0.147494  1.000000  -0.015203  \n",
       "SalePrice       -0.007375  0.032735 -0.015203   1.000000  \n",
       "\n",
       "[39 rows x 39 columns]"
      ]
     },
     "execution_count": 7,
     "metadata": {},
     "output_type": "execute_result"
    }
   ],
   "source": [
    "train.corr()"
   ]
  },
  {
   "cell_type": "code",
   "execution_count": 8,
   "metadata": {},
   "outputs": [
    {
     "name": "stdout",
     "output_type": "stream",
     "text": [
      "SalePrice       1.000000\n",
      "Overall Qual    0.800207\n",
      "Gr Liv Area     0.697038\n",
      "Garage Area     0.650270\n",
      "Garage Cars     0.648220\n",
      "Name: SalePrice, dtype: float64 \n",
      "\n",
      "MS SubClass      -0.087335\n",
      "Overall Cond     -0.097019\n",
      "Kitchen AbvGr    -0.125444\n",
      "Enclosed Porch   -0.135656\n",
      "PID              -0.255052\n",
      "Name: SalePrice, dtype: float64\n"
     ]
    }
   ],
   "source": [
    "corr = train.corr()\n",
    "print (corr['SalePrice'].sort_values(ascending=False)[:5], '\\n')\n",
    "print (corr['SalePrice'].sort_values(ascending=False)[-5:])"
   ]
  },
  {
   "cell_type": "code",
   "execution_count": 9,
   "metadata": {},
   "outputs": [
    {
     "data": {
      "text/plain": [
       "count      2051.000000\n",
       "mean     181469.701609\n",
       "std       79258.659352\n",
       "min       12789.000000\n",
       "25%      129825.000000\n",
       "50%      162500.000000\n",
       "75%      214000.000000\n",
       "max      611657.000000\n",
       "Name: SalePrice, dtype: float64"
      ]
     },
     "execution_count": 9,
     "metadata": {},
     "output_type": "execute_result"
    }
   ],
   "source": [
    "train.SalePrice.describe()"
   ]
  },
  {
   "cell_type": "code",
   "execution_count": 10,
   "metadata": {},
   "outputs": [],
   "source": [
    "quality_pivot = train.pivot_table(index='Overall Qual',\n",
    "                  values='SalePrice', aggfunc=np.median)"
   ]
  },
  {
   "cell_type": "code",
   "execution_count": 11,
   "metadata": {},
   "outputs": [
    {
     "data": {
      "image/png": "[encoded data removed]",
      "text/plain": [
       "<Figure size 432x288 with 1 Axes>"
      ]
     },
     "metadata": {
      "needs_background": "light"
     },
     "output_type": "display_data"
    }
   ],
   "source": [
    "quality_pivot.plot(kind='bar', color='blue')\n",
    "plt.xlabel('Overall Quality')\n",
    "plt.ylabel('Median Sale Price')\n",
    "plt.xticks(rotation=0)\n",
    "plt.show()"
   ]
  },
  {
   "cell_type": "code",
   "execution_count": 12,
   "metadata": {},
   "outputs": [
    {
     "data": {
      "text/plain": [
       "array([ 6,  7,  5,  8, 10,  4,  9,  3,  2,  1])"
      ]
     },
     "execution_count": 12,
     "metadata": {},
     "output_type": "execute_result"
    }
   ],
   "source": [
    "train['Overall Qual'].unique()"
   ]
  },
  {
   "cell_type": "code",
   "execution_count": 13,
   "metadata": {},
   "outputs": [
    {
     "data": {
      "text/plain": [
       "array([ 6,  7,  5,  8, 10,  4,  9,  3,  2,  1])"
      ]
     },
     "execution_count": 13,
     "metadata": {},
     "output_type": "execute_result"
    }
   ],
   "source": [
    "train['Overall Qual'].unique()"
   ]
  },
  {
   "cell_type": "code",
   "execution_count": 14,
   "metadata": {},
   "outputs": [],
   "source": [
    "liv_pivot = train.pivot_table(index='Gr Liv Area',\n",
    "                  values='SalePrice', aggfunc=np.median)"
   ]
  },
  {
   "cell_type": "code",
   "execution_count": 15,
   "metadata": {},
   "outputs": [],
   "source": [
    "target = np.log(train['SalePrice'])"
   ]
  },
  {
   "cell_type": "code",
   "execution_count": 16,
   "metadata": {},
   "outputs": [
    {
     "data": {
      "image/png": "[encoded data removed]",
      "text/plain": [
       "<Figure size 432x288 with 1 Axes>"
      ]
     },
     "metadata": {
      "needs_background": "light"
     },
     "output_type": "display_data"
    }
   ],
   "source": [
    "plt.scatter(x=train['Gr Liv Area'], y=target)\n",
    "plt.ylabel('Sale Price')\n",
    "plt.xlabel('Above grade (ground) living area square feet')\n",
    "plt.show()"
   ]
  },
  {
   "cell_type": "code",
   "execution_count": 17,
   "metadata": {},
   "outputs": [
    {
     "data": {
      "image/png": "[encoded data removed]",
      "text/plain": [
       "<Figure size 432x288 with 1 Axes>"
      ]
     },
     "metadata": {
      "needs_background": "light"
     },
     "output_type": "display_data"
    }
   ],
   "source": [
    "plt.scatter(x=train['Garage Area'], y=target)\n",
    "plt.ylabel('Sale Price')\n",
    "plt.xlabel('Garage Area')\n",
    "plt.show()"
   ]
  },
  {
   "cell_type": "code",
   "execution_count": 18,
   "metadata": {},
   "outputs": [],
   "source": [
    "train = train[train['Garage Area'] < 1200]"
   ]
  },
  {
   "cell_type": "code",
   "execution_count": 19,
   "metadata": {},
   "outputs": [
    {
     "data": {
      "image/png": "[encoded data removed]",
      "text/plain": [
       "<Figure size 432x288 with 1 Axes>"
      ]
     },
     "metadata": {
      "needs_background": "light"
     },
     "output_type": "display_data"
    }
   ],
   "source": [
    "plt.scatter(x=train['Garage Area'], y=np.log(train.SalePrice))\n",
    "plt.xlim(-200,1600) # This forces the same scale as before\n",
    "plt.ylabel('Sale Price')\n",
    "plt.xlabel('Garage Area')\n",
    "plt.show()"
   ]
  },
  {
   "cell_type": "markdown",
   "metadata": {},
   "source": [
    "# Model Building"
   ]
  },
  {
   "cell_type": "code",
   "execution_count": 20,
   "metadata": {},
   "outputs": [
    {
     "data": {
      "text/html": [
       "<div>\n",
       "<style scoped>\n",
       "    .dataframe tbody tr th:only-of-type {\n",
       "        vertical-align: middle;\n",
       "    }\n",
       "\n",
       "    .dataframe tbody tr th {\n",
       "        vertical-align: top;\n",
       "    }\n",
       "\n",
       "    .dataframe thead th {\n",
       "        text-align: right;\n",
       "    }\n",
       "</style>\n",
       "<table border=\"1\" class=\"dataframe\">\n",
       "  <thead>\n",
       "    <tr style=\"text-align: right;\">\n",
       "      <th></th>\n",
       "      <th>Id</th>\n",
       "      <th>PID</th>\n",
       "      <th>MS SubClass</th>\n",
       "      <th>MS Zoning</th>\n",
       "      <th>Lot Frontage</th>\n",
       "      <th>Lot Area</th>\n",
       "      <th>Street</th>\n",
       "      <th>Alley</th>\n",
       "      <th>Lot Shape</th>\n",
       "      <th>Land Contour</th>\n",
       "      <th>...</th>\n",
       "      <th>Screen Porch</th>\n",
       "      <th>Pool Area</th>\n",
       "      <th>Pool QC</th>\n",
       "      <th>Fence</th>\n",
       "      <th>Misc Feature</th>\n",
       "      <th>Misc Val</th>\n",
       "      <th>Mo Sold</th>\n",
       "      <th>Yr Sold</th>\n",
       "      <th>Sale Type</th>\n",
       "      <th>SalePrice</th>\n",
       "    </tr>\n",
       "  </thead>\n",
       "  <tbody>\n",
       "    <tr>\n",
       "      <th>0</th>\n",
       "      <td>109</td>\n",
       "      <td>533352170</td>\n",
       "      <td>60</td>\n",
       "      <td>RL</td>\n",
       "      <td>NaN</td>\n",
       "      <td>13517</td>\n",
       "      <td>Pave</td>\n",
       "      <td>NaN</td>\n",
       "      <td>IR1</td>\n",
       "      <td>Lvl</td>\n",
       "      <td>...</td>\n",
       "      <td>0</td>\n",
       "      <td>0</td>\n",
       "      <td>NaN</td>\n",
       "      <td>NaN</td>\n",
       "      <td>NaN</td>\n",
       "      <td>0</td>\n",
       "      <td>3</td>\n",
       "      <td>2010</td>\n",
       "      <td>WD</td>\n",
       "      <td>130500</td>\n",
       "    </tr>\n",
       "    <tr>\n",
       "      <th>1</th>\n",
       "      <td>544</td>\n",
       "      <td>531379050</td>\n",
       "      <td>60</td>\n",
       "      <td>RL</td>\n",
       "      <td>43.0</td>\n",
       "      <td>11492</td>\n",
       "      <td>Pave</td>\n",
       "      <td>NaN</td>\n",
       "      <td>IR1</td>\n",
       "      <td>Lvl</td>\n",
       "      <td>...</td>\n",
       "      <td>0</td>\n",
       "      <td>0</td>\n",
       "      <td>NaN</td>\n",
       "      <td>NaN</td>\n",
       "      <td>NaN</td>\n",
       "      <td>0</td>\n",
       "      <td>4</td>\n",
       "      <td>2009</td>\n",
       "      <td>WD</td>\n",
       "      <td>220000</td>\n",
       "    </tr>\n",
       "    <tr>\n",
       "      <th>2</th>\n",
       "      <td>153</td>\n",
       "      <td>535304180</td>\n",
       "      <td>20</td>\n",
       "      <td>RL</td>\n",
       "      <td>68.0</td>\n",
       "      <td>7922</td>\n",
       "      <td>Pave</td>\n",
       "      <td>NaN</td>\n",
       "      <td>Reg</td>\n",
       "      <td>Lvl</td>\n",
       "      <td>...</td>\n",
       "      <td>0</td>\n",
       "      <td>0</td>\n",
       "      <td>NaN</td>\n",
       "      <td>NaN</td>\n",
       "      <td>NaN</td>\n",
       "      <td>0</td>\n",
       "      <td>1</td>\n",
       "      <td>2010</td>\n",
       "      <td>WD</td>\n",
       "      <td>109000</td>\n",
       "    </tr>\n",
       "    <tr>\n",
       "      <th>3</th>\n",
       "      <td>318</td>\n",
       "      <td>916386060</td>\n",
       "      <td>60</td>\n",
       "      <td>RL</td>\n",
       "      <td>73.0</td>\n",
       "      <td>9802</td>\n",
       "      <td>Pave</td>\n",
       "      <td>NaN</td>\n",
       "      <td>Reg</td>\n",
       "      <td>Lvl</td>\n",
       "      <td>...</td>\n",
       "      <td>0</td>\n",
       "      <td>0</td>\n",
       "      <td>NaN</td>\n",
       "      <td>NaN</td>\n",
       "      <td>NaN</td>\n",
       "      <td>0</td>\n",
       "      <td>4</td>\n",
       "      <td>2010</td>\n",
       "      <td>WD</td>\n",
       "      <td>174000</td>\n",
       "    </tr>\n",
       "    <tr>\n",
       "      <th>4</th>\n",
       "      <td>255</td>\n",
       "      <td>906425045</td>\n",
       "      <td>50</td>\n",
       "      <td>RL</td>\n",
       "      <td>82.0</td>\n",
       "      <td>14235</td>\n",
       "      <td>Pave</td>\n",
       "      <td>NaN</td>\n",
       "      <td>IR1</td>\n",
       "      <td>Lvl</td>\n",
       "      <td>...</td>\n",
       "      <td>0</td>\n",
       "      <td>0</td>\n",
       "      <td>NaN</td>\n",
       "      <td>NaN</td>\n",
       "      <td>NaN</td>\n",
       "      <td>0</td>\n",
       "      <td>3</td>\n",
       "      <td>2010</td>\n",
       "      <td>WD</td>\n",
       "      <td>138500</td>\n",
       "    </tr>\n",
       "  </tbody>\n",
       "</table>\n",
       "<p>5 rows × 81 columns</p>\n",
       "</div>"
      ],
      "text/plain": [
       "    Id        PID  MS SubClass MS Zoning  Lot Frontage  Lot Area Street Alley  \\\n",
       "0  109  533352170           60        RL           NaN     13517   Pave   NaN   \n",
       "1  544  531379050           60        RL          43.0     11492   Pave   NaN   \n",
       "2  153  535304180           20        RL          68.0      7922   Pave   NaN   \n",
       "3  318  916386060           60        RL          73.0      9802   Pave   NaN   \n",
       "4  255  906425045           50        RL          82.0     14235   Pave   NaN   \n",
       "\n",
       "  Lot Shape Land Contour  ... Screen Porch Pool Area Pool QC Fence  \\\n",
       "0       IR1          Lvl  ...            0         0     NaN   NaN   \n",
       "1       IR1          Lvl  ...            0         0     NaN   NaN   \n",
       "2       Reg          Lvl  ...            0         0     NaN   NaN   \n",
       "3       Reg          Lvl  ...            0         0     NaN   NaN   \n",
       "4       IR1          Lvl  ...            0         0     NaN   NaN   \n",
       "\n",
       "  Misc Feature Misc Val Mo Sold Yr Sold  Sale Type  SalePrice  \n",
       "0          NaN        0       3    2010        WD      130500  \n",
       "1          NaN        0       4    2009        WD      220000  \n",
       "2          NaN        0       1    2010        WD      109000  \n",
       "3          NaN        0       4    2010        WD      174000  \n",
       "4          NaN        0       3    2010        WD      138500  \n",
       "\n",
       "[5 rows x 81 columns]"
      ]
     },
     "execution_count": 20,
     "metadata": {},
     "output_type": "execute_result"
    }
   ],
   "source": [
    "train.head()"
   ]
  },
  {
   "cell_type": "markdown",
   "metadata": {},
   "source": [
    "# First Model"
   ]
  },
  {
   "cell_type": "code",
   "execution_count": 21,
   "metadata": {},
   "outputs": [],
   "source": [
    "X = train[['Overall Qual', 'Gr Liv Area']]\n",
    "y = np.log(train['SalePrice'])"
   ]
  },
  {
   "cell_type": "code",
   "execution_count": 22,
   "metadata": {
    "scrolled": true
   },
   "outputs": [
    {
     "name": "stdout",
     "output_type": "stream",
     "text": [
      "(1369, 2) (1369,)\n",
      "(675, 2) (675,)\n"
     ]
    }
   ],
   "source": [
    "# create training and testing vars\n",
    "X_train, X_test, y_train, y_test = train_test_split(X, y, random_state=42, test_size=0.33)\n",
    "print (X_train.shape, y_train.shape)\n",
    "print (X_test.shape, y_test.shape)\n"
   ]
  },
  {
   "cell_type": "code",
   "execution_count": 23,
   "metadata": {},
   "outputs": [],
   "source": [
    "lr = linear_model.LinearRegression()"
   ]
  },
  {
   "cell_type": "code",
   "execution_count": 24,
   "metadata": {},
   "outputs": [
    {
     "data": {
      "text/plain": [
       "sklearn.linear_model.base.LinearRegression"
      ]
     },
     "execution_count": 24,
     "metadata": {},
     "output_type": "execute_result"
    }
   ],
   "source": [
    "type(lr)"
   ]
  },
  {
   "cell_type": "code",
   "execution_count": 25,
   "metadata": {},
   "outputs": [],
   "source": [
    "model = lr.fit(X_train, y_train)\n",
    "predictions = lr.predict(X_test)\n"
   ]
  },
  {
   "cell_type": "code",
   "execution_count": 26,
   "metadata": {},
   "outputs": [
    {
     "name": "stdout",
     "output_type": "stream",
     "text": [
      "R^2 is: \n",
      " 0.78\n",
      "RMSE is: \n",
      " 0.04\n"
     ]
    }
   ],
   "source": [
    "# round to two decimals for better readiability\n",
    "print (\"R^2 is: \\n\", round(model.score(X_test, y_test),2))\n",
    "print ('RMSE is: \\n', round(mean_squared_error(y_test, predictions),2))"
   ]
  },
  {
   "cell_type": "code",
   "execution_count": 27,
   "metadata": {},
   "outputs": [
    {
     "data": {
      "image/png": "[encoded data removed]",
      "text/plain": [
       "<Figure size 432x288 with 1 Axes>"
      ]
     },
     "metadata": {
      "needs_background": "light"
     },
     "output_type": "display_data"
    }
   ],
   "source": [
    "actual_values = y_test\n",
    "plt.scatter(predictions, actual_values, alpha=.7,\n",
    "            color='b') #alpha helps to show overlapping data\n",
    "plt.xlabel('Predicted Price')\n",
    "plt.ylabel('Actual Price')\n",
    "plt.title('Model 1 Linear Regression Model')\n",
    "\n",
    "plt.savefig('../images/Model 1 Linear Regression Model.png')\n",
    "plt.show()\n",
    "\n"
   ]
  },
  {
   "cell_type": "code",
   "execution_count": 28,
   "metadata": {},
   "outputs": [
    {
     "name": "stdout",
     "output_type": "stream",
     "text": [
      "Score: 0.78\n"
     ]
    },
    {
     "data": {
      "image/png": "[encoded data removed]",
      "text/plain": [
       "<Figure size 432x288 with 1 Axes>"
      ]
     },
     "metadata": {
      "needs_background": "light"
     },
     "output_type": "display_data"
    }
   ],
   "source": [
    "plt.scatter(y_test, predictions)\n",
    "plt.xlabel(\"True Values\")\n",
    "plt.ylabel(\"Predictions\")\n",
    "\n",
    "print (\"Score:\", round(model.score(X_test, y_test),2))"
   ]
  },
  {
   "cell_type": "markdown",
   "metadata": {},
   "source": [
    "## Submission Prep"
   ]
  },
  {
   "cell_type": "code",
   "execution_count": 29,
   "metadata": {},
   "outputs": [],
   "source": [
    "final_predictions = np.exp(predictions)\n"
   ]
  },
  {
   "cell_type": "code",
   "execution_count": 30,
   "metadata": {},
   "outputs": [
    {
     "data": {
      "text/plain": [
       "(array([ 16., 192., 206., 136.,  61.,  39.,  12.,   4.,   6.,   3.]),\n",
       " array([ 47401.45426563,  92783.19980208, 138164.94533853, 183546.69087499,\n",
       "        228928.43641144, 274310.18194789, 319691.92748434, 365073.6730208 ,\n",
       "        410455.41855725, 455837.1640937 , 501218.90963016]),\n",
       " <a list of 10 Patch objects>)"
      ]
     },
     "execution_count": 30,
     "metadata": {},
     "output_type": "execute_result"
    },
    {
     "data": {
      "image/png": "[encoded data removed]",
      "text/plain": [
       "<Figure size 432x288 with 1 Axes>"
      ]
     },
     "metadata": {
      "needs_background": "light"
     },
     "output_type": "display_data"
    }
   ],
   "source": [
    "plt.hist(final_predictions)"
   ]
  },
  {
   "cell_type": "markdown",
   "metadata": {},
   "source": [
    "# Submission"
   ]
  },
  {
   "cell_type": "code",
   "execution_count": 31,
   "metadata": {},
   "outputs": [],
   "source": [
    "submission = pd.DataFrame()\n",
    "submission['Id'] = test.Id"
   ]
  },
  {
   "cell_type": "code",
   "execution_count": 32,
   "metadata": {},
   "outputs": [],
   "source": [
    "feats = test[['Overall Qual','Gr Liv Area']]"
   ]
  },
  {
   "cell_type": "code",
   "execution_count": 33,
   "metadata": {},
   "outputs": [],
   "source": [
    "predictions = model.predict(feats)"
   ]
  },
  {
   "cell_type": "code",
   "execution_count": 34,
   "metadata": {},
   "outputs": [],
   "source": [
    "final_predictions = np.exp(predictions)"
   ]
  },
  {
   "cell_type": "code",
   "execution_count": 35,
   "metadata": {},
   "outputs": [
    {
     "name": "stdout",
     "output_type": "stream",
     "text": [
      "Original predictions are: \n",
      " [12.12879869 11.96010656 12.1834945  11.67032964 11.97390292] \n",
      "\n",
      "Final predictions are: \n",
      " [185127.24719864 156389.74852015 195534.96581013 117046.85885925\n",
      " 158562.31004187]\n"
     ]
    }
   ],
   "source": [
    "print (\"Original predictions are: \\n\", predictions[:5], \"\\n\")\n",
    "print (\"Final predictions are: \\n\", final_predictions[:5])"
   ]
  },
  {
   "cell_type": "code",
   "execution_count": 36,
   "metadata": {},
   "outputs": [
    {
     "data": {
      "text/html": [
       "<div>\n",
       "<style scoped>\n",
       "    .dataframe tbody tr th:only-of-type {\n",
       "        vertical-align: middle;\n",
       "    }\n",
       "\n",
       "    .dataframe tbody tr th {\n",
       "        vertical-align: top;\n",
       "    }\n",
       "\n",
       "    .dataframe thead th {\n",
       "        text-align: right;\n",
       "    }\n",
       "</style>\n",
       "<table border=\"1\" class=\"dataframe\">\n",
       "  <thead>\n",
       "    <tr style=\"text-align: right;\">\n",
       "      <th></th>\n",
       "      <th>Id</th>\n",
       "      <th>SalePrice</th>\n",
       "    </tr>\n",
       "  </thead>\n",
       "  <tbody>\n",
       "    <tr>\n",
       "      <th>0</th>\n",
       "      <td>2658</td>\n",
       "      <td>185127.247199</td>\n",
       "    </tr>\n",
       "    <tr>\n",
       "      <th>1</th>\n",
       "      <td>2718</td>\n",
       "      <td>156389.748520</td>\n",
       "    </tr>\n",
       "    <tr>\n",
       "      <th>2</th>\n",
       "      <td>2414</td>\n",
       "      <td>195534.965810</td>\n",
       "    </tr>\n",
       "    <tr>\n",
       "      <th>3</th>\n",
       "      <td>1989</td>\n",
       "      <td>117046.858859</td>\n",
       "    </tr>\n",
       "    <tr>\n",
       "      <th>4</th>\n",
       "      <td>625</td>\n",
       "      <td>158562.310042</td>\n",
       "    </tr>\n",
       "  </tbody>\n",
       "</table>\n",
       "</div>"
      ],
      "text/plain": [
       "     Id      SalePrice\n",
       "0  2658  185127.247199\n",
       "1  2718  156389.748520\n",
       "2  2414  195534.965810\n",
       "3  1989  117046.858859\n",
       "4   625  158562.310042"
      ]
     },
     "execution_count": 36,
     "metadata": {},
     "output_type": "execute_result"
    }
   ],
   "source": [
    "submission['SalePrice'] = final_predictions\n",
    "submission.head()"
   ]
  },
  {
   "cell_type": "code",
   "execution_count": 37,
   "metadata": {},
   "outputs": [],
   "source": [
    "submission.to_csv('submission1.csv', index=False)"
   ]
  },
  {
   "cell_type": "markdown",
   "metadata": {},
   "source": [
    "# Model 2"
   ]
  },
  {
   "cell_type": "markdown",
   "metadata": {},
   "source": [
    "### Converting to Dummy Data"
   ]
  },
  {
   "cell_type": "code",
   "execution_count": 38,
   "metadata": {},
   "outputs": [],
   "source": [
    "train['Heating'] = pd.get_dummies(train['Heating'])\n",
    "train['Heating QC'] = pd.get_dummies(train['Heating QC'])\n",
    "train['Central Air'] = pd.get_dummies(train['Central Air'])\n",
    "train['Kitchen Qual'] = pd.get_dummies(train['Kitchen Qual'])\n",
    "train['Garage Qual'] = pd.get_dummies(train['Garage Qual'])\n",
    "\n",
    "test['Heating'] = pd.get_dummies(train['Heating'])\n",
    "test['Heating QC'] = pd.get_dummies(train['Heating QC'])\n",
    "test['Central Air'] = pd.get_dummies(train['Central Air'])\n",
    "test['Kitchen Qual'] = pd.get_dummies(train['Kitchen Qual'])\n",
    "test['Garage Qual'] = pd.get_dummies(train['Garage Qual'])"
   ]
  },
  {
   "cell_type": "code",
   "execution_count": 39,
   "metadata": {},
   "outputs": [
    {
     "name": "stdout",
     "output_type": "stream",
     "text": [
      "(2044, 81)\n",
      "(878, 80)\n"
     ]
    }
   ],
   "source": [
    "print(train.shape)\n",
    "print(test.shape)"
   ]
  },
  {
   "cell_type": "markdown",
   "metadata": {},
   "source": [
    "### Checking for Null values in dummified variables"
   ]
  },
  {
   "cell_type": "code",
   "execution_count": 40,
   "metadata": {},
   "outputs": [
    {
     "data": {
      "text/plain": [
       "Heating         0\n",
       "Heating QC      0\n",
       "Central Air     0\n",
       "Kitchen Qual    0\n",
       "Garage Qual     0\n",
       "dtype: int64"
      ]
     },
     "execution_count": 40,
     "metadata": {},
     "output_type": "execute_result"
    }
   ],
   "source": [
    "train[['Heating','Heating QC','Central Air','Kitchen Qual','Garage Qual']].isnull().sum()"
   ]
  },
  {
   "cell_type": "code",
   "execution_count": 41,
   "metadata": {},
   "outputs": [
    {
     "data": {
      "text/plain": [
       "Heating         2\n",
       "Heating QC      2\n",
       "Central Air     2\n",
       "Kitchen Qual    2\n",
       "Garage Qual     2\n",
       "dtype: int64"
      ]
     },
     "execution_count": 41,
     "metadata": {},
     "output_type": "execute_result"
    }
   ],
   "source": [
    "test[['Heating','Heating QC','Central Air','Kitchen Qual','Garage Qual']].isnull().sum()"
   ]
  },
  {
   "cell_type": "markdown",
   "metadata": {},
   "source": [
    "### Fill NaN values cells"
   ]
  },
  {
   "cell_type": "code",
   "execution_count": 42,
   "metadata": {},
   "outputs": [],
   "source": [
    "test.fillna(0,inplace=True)"
   ]
  },
  {
   "cell_type": "markdown",
   "metadata": {},
   "source": [
    "### Adding 8 More Features"
   ]
  },
  {
   "cell_type": "code",
   "execution_count": 43,
   "metadata": {},
   "outputs": [],
   "source": [
    "X = train[['Overall Qual', \n",
    "           'Gr Liv Area',\n",
    "           'Garage Area',\n",
    "           'Overall Cond',\n",
    "           'Garage Cars',\n",
    "           'Bedroom AbvGr',\n",
    "           'Heating',\n",
    "           'Heating QC',\n",
    "           'Central Air',\n",
    "           'Kitchen Qual',\n",
    "           'Garage Qual']]\n",
    "y = np.log(train['SalePrice'])\n",
    "\n",
    "X_train, X_test, y_train, y_test = train_test_split(X, y, random_state=42, test_size=0.33)\n",
    "\n",
    "lr2 = linear_model.LinearRegression()\n",
    "\n",
    "model2 = lr2.fit(X_train, y_train)\n",
    "predictions2 = lr2.predict(X_test)"
   ]
  },
  {
   "cell_type": "code",
   "execution_count": 44,
   "metadata": {},
   "outputs": [
    {
     "name": "stdout",
     "output_type": "stream",
     "text": [
      "R^2 is: \n",
      " 0.84\n",
      "RMSE is: \n",
      " 0.03\n"
     ]
    }
   ],
   "source": [
    "print (\"R^2 is: \\n\", round(model2.score(X_test, y_test),2))\n",
    "print ('RMSE is: \\n', round(mean_squared_error(y_test, predictions2),2))"
   ]
  },
  {
   "cell_type": "code",
   "execution_count": 45,
   "metadata": {},
   "outputs": [
    {
     "data": {
      "image/png": "[encoded data removed]",
      "text/plain": [
       "<Figure size 432x288 with 1 Axes>"
      ]
     },
     "metadata": {
      "needs_background": "light"
     },
     "output_type": "display_data"
    }
   ],
   "source": [
    "actual_values = y_test\n",
    "plt.scatter(predictions2, actual_values, alpha=.7,\n",
    "            color='b') \n",
    "plt.xlabel('Predicted Price')\n",
    "plt.ylabel('Actual Price')\n",
    "plt.title('Model 2 Linear Regression Model')\n",
    "\n",
    "plt.savefig('../images/Model 2 Linear Regression Model.png')\n",
    "\n",
    "plt.show()"
   ]
  },
  {
   "cell_type": "code",
   "execution_count": 46,
   "metadata": {},
   "outputs": [
    {
     "name": "stdout",
     "output_type": "stream",
     "text": [
      "Score: 1.0\n"
     ]
    },
    {
     "data": {
      "image/png": "[encoded data removed]",
      "text/plain": [
       "<Figure size 432x288 with 1 Axes>"
      ]
     },
     "metadata": {
      "needs_background": "light"
     },
     "output_type": "display_data"
    }
   ],
   "source": [
    "plt.scatter(y_test, predictions2)\n",
    "plt.xlabel(\"True Values\")\n",
    "plt.ylabel(\"Predictions\")\n",
    "plt.title('Model 2 True Values v. Predictions')\n",
    "\n",
    "print (\"Score:\", round(model2.score(X_test, y_test),))"
   ]
  },
  {
   "cell_type": "markdown",
   "metadata": {},
   "source": [
    "# Model 2 Submission"
   ]
  },
  {
   "cell_type": "code",
   "execution_count": 47,
   "metadata": {},
   "outputs": [],
   "source": [
    "submission2 = pd.DataFrame()\n",
    "submission2['Id'] = test.Id"
   ]
  },
  {
   "cell_type": "code",
   "execution_count": 48,
   "metadata": {},
   "outputs": [],
   "source": [
    "feats2 = test[['Overall Qual', \n",
    "           'Gr Liv Area',\n",
    "           'Garage Area',\n",
    "           'Overall Cond',\n",
    "           'Garage Cars',\n",
    "           'Bedroom AbvGr',\n",
    "           'Heating',\n",
    "           'Heating QC',\n",
    "           'Central Air',\n",
    "           'Kitchen Qual',\n",
    "           'Garage Qual']]"
   ]
  },
  {
   "cell_type": "code",
   "execution_count": 49,
   "metadata": {
    "scrolled": false
   },
   "outputs": [],
   "source": [
    "predictions2 = model2.predict(feats2)"
   ]
  },
  {
   "cell_type": "code",
   "execution_count": 50,
   "metadata": {},
   "outputs": [],
   "source": [
    "final_predictions2 = np.exp(predictions2)"
   ]
  },
  {
   "cell_type": "code",
   "execution_count": 51,
   "metadata": {},
   "outputs": [
    {
     "name": "stdout",
     "output_type": "stream",
     "text": [
      "Original predictions are: \n",
      " [11.70533247 11.54816702 11.77028357 11.41737913 11.62842039] \n",
      "\n",
      "Final predictions are: \n",
      " [121216.37761665 103586.98998941 129350.82509904  90887.62485818\n",
      " 112242.88134058]\n"
     ]
    }
   ],
   "source": [
    "print (\"Original predictions are: \\n\", predictions2[:5], \"\\n\")\n",
    "print (\"Final predictions are: \\n\", final_predictions2[:5])"
   ]
  },
  {
   "cell_type": "code",
   "execution_count": 52,
   "metadata": {},
   "outputs": [
    {
     "data": {
      "text/html": [
       "<div>\n",
       "<style scoped>\n",
       "    .dataframe tbody tr th:only-of-type {\n",
       "        vertical-align: middle;\n",
       "    }\n",
       "\n",
       "    .dataframe tbody tr th {\n",
       "        vertical-align: top;\n",
       "    }\n",
       "\n",
       "    .dataframe thead th {\n",
       "        text-align: right;\n",
       "    }\n",
       "</style>\n",
       "<table border=\"1\" class=\"dataframe\">\n",
       "  <thead>\n",
       "    <tr style=\"text-align: right;\">\n",
       "      <th></th>\n",
       "      <th>Id</th>\n",
       "      <th>SalePrice</th>\n",
       "    </tr>\n",
       "  </thead>\n",
       "  <tbody>\n",
       "    <tr>\n",
       "      <th>0</th>\n",
       "      <td>2658</td>\n",
       "      <td>121216.377617</td>\n",
       "    </tr>\n",
       "    <tr>\n",
       "      <th>1</th>\n",
       "      <td>2718</td>\n",
       "      <td>103586.989989</td>\n",
       "    </tr>\n",
       "    <tr>\n",
       "      <th>2</th>\n",
       "      <td>2414</td>\n",
       "      <td>129350.825099</td>\n",
       "    </tr>\n",
       "    <tr>\n",
       "      <th>3</th>\n",
       "      <td>1989</td>\n",
       "      <td>90887.624858</td>\n",
       "    </tr>\n",
       "    <tr>\n",
       "      <th>4</th>\n",
       "      <td>625</td>\n",
       "      <td>112242.881341</td>\n",
       "    </tr>\n",
       "  </tbody>\n",
       "</table>\n",
       "</div>"
      ],
      "text/plain": [
       "     Id      SalePrice\n",
       "0  2658  121216.377617\n",
       "1  2718  103586.989989\n",
       "2  2414  129350.825099\n",
       "3  1989   90887.624858\n",
       "4   625  112242.881341"
      ]
     },
     "execution_count": 52,
     "metadata": {},
     "output_type": "execute_result"
    }
   ],
   "source": [
    "submission2['SalePrice'] = final_predictions2\n",
    "submission2.head()"
   ]
  },
  {
   "cell_type": "code",
   "execution_count": 53,
   "metadata": {},
   "outputs": [],
   "source": [
    "submission2.to_csv('submission2.csv', index=False)"
   ]
  },
  {
   "cell_type": "markdown",
   "metadata": {},
   "source": [
    "# $r^2$ Scores Comparison"
   ]
  },
  {
   "cell_type": "markdown",
   "metadata": {},
   "source": [
    "| Model | $R^2$ | RMSE |\n",
    "|-------|-------|------|\n",
    "| 1     | 0.78  | 0.04 |\n",
    "| 2     | 0.84  | 0.03 |\n",
    "\n",
    "Model 2 is an improvement over model 1 after adding in more features with the $R^2$ and RMSE score being 0.06 more and 0.01 less respectively. This illustrates that model 2 𝑅2 value of 0.84 means that 84% of the variability in the data are explained by our model, relative to a model with no predictors."
   ]
  },
  {
   "cell_type": "markdown",
   "metadata": {},
   "source": [
    "# Ridge Regression Attempt"
   ]
  },
  {
   "cell_type": "code",
   "execution_count": 54,
   "metadata": {},
   "outputs": [
    {
     "name": "stdout",
     "output_type": "stream",
     "text": [
      "(1369, 11) (1369,)\n",
      "(675, 11) (675,)\n",
      "R^2 is: \n",
      " 0.84\n",
      "RMSE is: \n",
      " 0.03\n"
     ]
    }
   ],
   "source": [
    "X = train[['Overall Qual', \n",
    "           'Gr Liv Area',\n",
    "           'Garage Area',\n",
    "           'Overall Cond',\n",
    "           'Garage Cars',\n",
    "           'Bedroom AbvGr',\n",
    "           'Heating',\n",
    "           'Heating QC',\n",
    "           'Central Air',\n",
    "           'Kitchen Qual',\n",
    "           'Garage Qual']]\n",
    "y = np.log(train['SalePrice'])\n",
    "X_train, X_test, y_train, y_test = train_test_split(X, y, random_state=42, test_size=0.33)\n",
    "print (X_train.shape, y_train.shape)\n",
    "print (X_test.shape, y_test.shape)\n",
    "\n",
    "rr = linear_model.Ridge()\n",
    "model_r = rr.fit(X_train, y_train)\n",
    "predictions_r = rr.predict(X_test)\n",
    "\n",
    "print (\"R^2 is: \\n\", round(model_r.score(X_test, y_test),2))\n",
    "print ('RMSE is: \\n', round(mean_squared_error(y_test, predictions_r),2))"
   ]
  },
  {
   "cell_type": "code",
   "execution_count": 55,
   "metadata": {},
   "outputs": [
    {
     "data": {
      "image/png": "[encoded data removed]",
      "text/plain": [
       "<Figure size 432x288 with 1 Axes>"
      ]
     },
     "metadata": {
      "needs_background": "light"
     },
     "output_type": "display_data"
    }
   ],
   "source": [
    "actual_values = y_test\n",
    "plt.scatter(predictions_r, actual_values, alpha=.7,\n",
    "            color='b') \n",
    "plt.xlabel('Predicted Price')\n",
    "plt.ylabel('Actual Price')\n",
    "plt.title('Model 3 Ridge Regression Model')\n",
    "\n",
    "plt.savefig('../images/Model 3 Ridge Regression Model.png')\n",
    "\n",
    "plt.show()"
   ]
  },
  {
   "cell_type": "code",
   "execution_count": 56,
   "metadata": {},
   "outputs": [
    {
     "name": "stdout",
     "output_type": "stream",
     "text": [
      "Score: 0.8394292056435746\n"
     ]
    },
    {
     "data": {
      "image/png": "[encoded data removed]",
      "text/plain": [
       "<Figure size 432x288 with 1 Axes>"
      ]
     },
     "metadata": {
      "needs_background": "light"
     },
     "output_type": "display_data"
    }
   ],
   "source": [
    "plt.scatter(y_test, predictions_r)\n",
    "plt.xlabel(\"True Values\")\n",
    "plt.ylabel(\"Predictions\")\n",
    "\n",
    "print (\"Score:\", model_r.score(X_test, y_test))"
   ]
  },
  {
   "cell_type": "markdown",
   "metadata": {},
   "source": [
    "## Lasso Regression Attempt"
   ]
  },
  {
   "cell_type": "code",
   "execution_count": 57,
   "metadata": {},
   "outputs": [
    {
     "name": "stdout",
     "output_type": "stream",
     "text": [
      "(1369, 11) (1369,)\n",
      "(675, 11) (675,)\n",
      "R^2 is: \n",
      " 0.84\n",
      "RMSE is: \n",
      " 0.03\n"
     ]
    }
   ],
   "source": [
    "X = train[['Overall Qual', \n",
    "           'Gr Liv Area',\n",
    "           'Garage Area',\n",
    "           'Overall Cond',\n",
    "           'Garage Cars',\n",
    "           'Bedroom AbvGr',\n",
    "           'Heating',\n",
    "           'Heating QC',\n",
    "           'Central Air',\n",
    "           'Kitchen Qual',\n",
    "           'Garage Qual']]\n",
    "y = np.log(train['SalePrice'])\n",
    "X_train, X_test, y_train, y_test = train_test_split(X, y, random_state=42, test_size=0.33)\n",
    "print (X_train.shape, y_train.shape)\n",
    "print (X_test.shape, y_test.shape)\n",
    "\n",
    "ll = linear_model.Lasso()\n",
    "model_ll = ll.fit(X_train, y_train)\n",
    "predictions_ll = ll.predict(X_test)\n",
    "\n",
    "print (\"R^2 is: \\n\", round(model_r.score(X_test, y_test),2))\n",
    "print ('RMSE is: \\n', round(mean_squared_error(y_test, predictions_r),2))"
   ]
  },
  {
   "cell_type": "code",
   "execution_count": 58,
   "metadata": {},
   "outputs": [
    {
     "data": {
      "image/png": "[encoded data removed]",
      "text/plain": [
       "<Figure size 432x288 with 1 Axes>"
      ]
     },
     "metadata": {
      "needs_background": "light"
     },
     "output_type": "display_data"
    }
   ],
   "source": [
    "actual_values = y_test\n",
    "plt.scatter(predictions_ll, actual_values, alpha=.7,\n",
    "            color='b')\n",
    "plt.xlabel('Predicted Price')\n",
    "plt.ylabel('Actual Price')\n",
    "plt.title('Model 4 Lasso Regression Model')\n",
    "plt.savefig('../images/Model 4 Lasso Regression Model.png')\n",
    "plt.show()"
   ]
  },
  {
   "cell_type": "code",
   "execution_count": 59,
   "metadata": {},
   "outputs": [
    {
     "name": "stdout",
     "output_type": "stream",
     "text": [
      "Score: 0.8394292056435746\n"
     ]
    },
    {
     "data": {
      "image/png": "[encoded data removed]",
      "text/plain": [
       "<Figure size 432x288 with 1 Axes>"
      ]
     },
     "metadata": {
      "needs_background": "light"
     },
     "output_type": "display_data"
    }
   ],
   "source": [
    "plt.scatter(y_test, predictions_ll)\n",
    "plt.xlabel(\"True Values\")\n",
    "plt.ylabel(\"Predictions\")\n",
    "\n",
    "print (\"Score:\", model_r.score(X_test, y_test))"
   ]
  },
  {
   "cell_type": "markdown",
   "metadata": {},
   "source": [
    "# Comparing $R^2$ Scores of New and Old models"
   ]
  },
  {
   "cell_type": "markdown",
   "metadata": {},
   "source": [
    "| Model | $R^2$ | RMSE |\n",
    "|-------|-------|------|\n",
    "| 1     | 0.78  | 0.04 |\n",
    "| 2     | 0.84  | 0.03 |\n",
    "| 3     | 0.84  | 0.03 |\n",
    "| 4     | 0.84  | 0.03 |\n",
    "\n",
    "Utilizing the ridge and lasso regression models for model 3 and 4 respectively, the $r^2$ score and RMSE remained the same. This may hint more feature engineering may be needed or not. Either way, adding in more features such as housing conditions does affect the sales price for the ames housing."
   ]
  }
 ],
 "metadata": {
  "kernelspec": {
   "display_name": "Python 3",
   "language": "python",
   "name": "python3"
  },
  "language_info": {
   "codemirror_mode": {
    "name": "ipython",
    "version": 3
   },
   "file_extension": ".py",
   "mimetype": "text/x-python",
   "name": "python",
   "nbconvert_exporter": "python",
   "pygments_lexer": "ipython3",
   "version": "3.7.4"
  }
 },
 "nbformat": 4,
 "nbformat_minor": 2
}
